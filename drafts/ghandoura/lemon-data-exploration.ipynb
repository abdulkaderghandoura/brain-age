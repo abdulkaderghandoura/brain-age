{
 "cells": [
  {
   "cell_type": "code",
   "execution_count": 1,
   "id": "c2f5b5c6",
   "metadata": {},
   "outputs": [],
   "source": [
    "# Import necessary modules\n",
    "import os\n",
    "import numpy as np\n",
    "import matplotlib.pyplot as plt\n",
    "import mne\n",
    "import pickle\n",
    "from tqdm import tqdm\n",
    "from scipy import signal\n",
    "import scipy\n",
    "import pandas as pd\n",
    "from pathlib import Path\n",
    "import torch\n",
    "import pathlib"
   ]
  },
  {
   "cell_type": "code",
   "execution_count": 2,
   "id": "1ef7b5a5",
   "metadata": {},
   "outputs": [],
   "source": [
    "%matplotlib inline\n",
    "%load_ext autoreload\n",
    "%autoreload 2"
   ]
  },
  {
   "cell_type": "code",
   "execution_count": 3,
   "id": "329ecd39",
   "metadata": {},
   "outputs": [],
   "source": [
    "data_dir = pathlib.Path(\"/data0/practical-sose23/brain-age/data/lemon/LEMON_RAW\")"
   ]
  },
  {
   "cell_type": "code",
   "execution_count": 4,
   "id": "46ecf505",
   "metadata": {},
   "outputs": [
    {
     "data": {
      "text/plain": [
       "215"
      ]
     },
     "execution_count": 4,
     "metadata": {},
     "output_type": "execute_result"
    }
   ],
   "source": [
    "eeg_files_all = list(data_dir.rglob(\"*.vhdr\"))\n",
    "len(eeg_files_all)"
   ]
  },
  {
   "cell_type": "code",
   "execution_count": 5,
   "id": "463f0697",
   "metadata": {},
   "outputs": [],
   "source": [
    "f_namemap = list(data_dir.parent.rglob(\"*name*.csv\"))[0]\n",
    "df_namemap = pd.read_csv(f_namemap)\n",
    "namemap = {old:new for old, new in zip(df_namemap[\"Initial_ID\"], df_namemap[\"INDI_ID\"])}"
   ]
  },
  {
   "cell_type": "code",
   "execution_count": 6,
   "id": "1aa585de",
   "metadata": {},
   "outputs": [
    {
     "data": {
      "text/plain": [
       "(     Unnamed: 0  Gender_ 1=female_2=male    Age Handedness  Education  \\\n",
       " 0    sub-032311                        2  20-25      right  Gymnasium   \n",
       " 1    sub-032309                        2  20-25      right  Gymnasium   \n",
       " 2    sub-032382                        2  25-30      right  Gymnasium   \n",
       " 3    sub-032302                        1  20-25      right  Gymnasium   \n",
       " 4    sub-032315                        2  20-25      right  Gymnasium   \n",
       " ..          ...                      ...    ...        ...        ...   \n",
       " 223  sub-032304                        2  25-30      right  Gymnasium   \n",
       " 224  sub-032439                        2  20-25       left  Gymnasium   \n",
       " 225  sub-032440                        2  25-30       left  Gymnasium   \n",
       " 226  sub-032441                        2  25-30      right  Gymnasium   \n",
       " 227  sub-032525                        2  20-25      right  Gymnasium   \n",
       " \n",
       "          DRUG  DRUG_0=negative_1=Positive Unnamed: 7            Smoking  \\\n",
       " 0    negative                         0.0        NaN         non-smoker   \n",
       " 1    negative                         0.0        NaN  occasional smoker   \n",
       " 2    negative                         0.0        NaN  occasional smoker   \n",
       " 3    negative                         0.0        NaN         non-smoker   \n",
       " 4    negative                         0.0        NaN         non-smoker   \n",
       " ..        ...                         ...        ...                ...   \n",
       " 223  negative                         0.0        NaN         non-smoker   \n",
       " 224  negative                         0.0        NaN         non-smoker   \n",
       " 225  negative                         0.0        NaN         non-smoker   \n",
       " 226  negative                         0.0        NaN         non-smoker   \n",
       " 227  negative                         0.0        NaN         non-smoker   \n",
       " \n",
       "      Smoking_num_(Non-smoker=1, Occasional Smoker=2, Smoker=3)  ...  \\\n",
       " 0                                                  1.0          ...   \n",
       " 1                                                  2.0          ...   \n",
       " 2                                                  2.0          ...   \n",
       " 3                                                  1.0          ...   \n",
       " 4                                                  1.0          ...   \n",
       " ..                                                 ...          ...   \n",
       " 223                                                1.0          ...   \n",
       " 224                                                1.0          ...   \n",
       " 225                                                1.0          ...   \n",
       " 226                                                1.0          ...   \n",
       " 227                                                1.0          ...   \n",
       " \n",
       "     SKID_Diagnoses 2                           Comments_SKID_assessment  \\\n",
       " 0                NaN                                                NaN   \n",
       " 1                NaN                                                NaN   \n",
       " 2                NaN                                                NaN   \n",
       " 3                NaN                                                NaN   \n",
       " 4                NaN                                                NaN   \n",
       " ..               ...                                                ...   \n",
       " 223              NaN                                                NaN   \n",
       " 224              NaN  suspected diagnosis: panic disorder, alcohol a...   \n",
       " 225              NaN                                                NaN   \n",
       " 226              NaN                        subclinical specific phobia   \n",
       " 227              NaN                                                NaN   \n",
       " \n",
       "     Hamilton_Scale BSL23_sumscore  BSL23_behavior  AUDIT  \\\n",
       " 0              0.0            NaN             NaN   12.0   \n",
       " 1              0.0            NaN             NaN   12.0   \n",
       " 2              2.0            NaN             NaN    0.0   \n",
       " 3              3.0            NaN             NaN    1.0   \n",
       " 4              2.0            NaN             NaN    7.0   \n",
       " ..             ...            ...             ...    ...   \n",
       " 223            0.0            4.0             0.0    1.0   \n",
       " 224            1.0            4.0             1.0    5.0   \n",
       " 225            5.0            2.0             1.0    3.0   \n",
       " 226            3.0            3.0             1.0    3.0   \n",
       " 227            2.0            8.0             0.0    2.0   \n",
       " \n",
       "      Standard_Alcoholunits_Last_28days  \\\n",
       " 0                                   47   \n",
       " 1                                   45   \n",
       " 2                                   12   \n",
       " 3                                    0   \n",
       " 4                                   22   \n",
       " ..                                 ...   \n",
       " 223                                  1   \n",
       " 224                                 18   \n",
       " 225                                 29   \n",
       " 226                               16,5   \n",
       " 227                                 12   \n",
       " \n",
       "      Alcohol_Dependence_In_1st-3rd_Degree_relative Relationship_Status  \\\n",
       " 0                                               No                  No   \n",
       " 1                                              Yes                 Yes   \n",
       " 2                                          unknown                 Yes   \n",
       " 3                                               No                  No   \n",
       " 4                                               No                  No   \n",
       " ..                                             ...                 ...   \n",
       " 223                                             No                  No   \n",
       " 224                                             no                  no   \n",
       " 225                                             no                 yes   \n",
       " 226                                             no                 yes   \n",
       " 227                                            yes                 yes   \n",
       " \n",
       "      Subject ID  \n",
       " 0    sub-032311  \n",
       " 1    sub-032309  \n",
       " 2    sub-032382  \n",
       " 3    sub-032302  \n",
       " 4    sub-032315  \n",
       " ..          ...  \n",
       " 223  sub-032304  \n",
       " 224  sub-032439  \n",
       " 225  sub-032440  \n",
       " 226  sub-032441  \n",
       " 227  sub-032525  \n",
       " \n",
       " [228 rows x 22 columns],\n",
       " 0      22.5\n",
       " 1      22.5\n",
       " 2      27.5\n",
       " 3      22.5\n",
       " 4      22.5\n",
       "        ... \n",
       " 223    27.5\n",
       " 224    22.5\n",
       " 225    27.5\n",
       " 226    27.5\n",
       " 227    22.5\n",
       " Name: Age, Length: 228, dtype: float64)"
      ]
     },
     "execution_count": 6,
     "metadata": {},
     "output_type": "execute_result"
    }
   ],
   "source": [
    "def get_midpoint(age_range):\n",
    "    low, high = age_range.split(\"-\")\n",
    "    return (int(high)+int(low))/2\n",
    "\n",
    "f_subj = list(data_dir.parent.rglob(\"*Age*.csv\"))[0]\n",
    "df_subj = pd.read_csv(f_subj)\n",
    "df_subj[\"Subject ID\"] = df_subj['Unnamed: 0']\n",
    "df_subj, df_subj[\"Age\"].apply(get_midpoint)"
   ]
  },
  {
   "cell_type": "code",
   "execution_count": 7,
   "id": "efed2f7d",
   "metadata": {},
   "outputs": [],
   "source": [
    "def get_midpoint(age_range):\n",
    "    low, high = age_range.split(\"-\")\n",
    "    return (int(high)+int(low))/2 \n",
    "\n",
    "def get_subj_id(eeg_file: pathlib.Path):\n",
    "    return eeg_file.stem\n",
    "\n",
    "def get_age(df_subj, eeg_file: pathlib.Path):\n",
    "    subj_id = get_subj_id(eeg_file)\n",
    "    return get_midpoint(df_subj[df_subj[\"Subject ID\"] == namemap[subj_id]][\"Age\"].values[0])"
   ]
  },
  {
   "cell_type": "code",
   "execution_count": 8,
   "id": "ad56a657",
   "metadata": {},
   "outputs": [
    {
     "name": "stderr",
     "output_type": "stream",
     "text": [
      "\r",
      "  0%|                                                                                                     | 0/215 [00:00<?, ?it/s]"
     ]
    },
    {
     "name": "stdout",
     "output_type": "stream",
     "text": [
      "Extracting parameters from /data0/practical-sose23/brain-age/data/lemon/LEMON_RAW/sub-010270/RSEEG/sub-010270.vhdr...\n",
      "Setting channel info structure...\n",
      "Reading 0 ... 2550899  =      0.000 ...  1020.360 secs...\n"
     ]
    },
    {
     "name": "stderr",
     "output_type": "stream",
     "text": [
      "\r",
      "  0%|▍                                                                                            | 1/215 [00:01<06:48,  1.91s/it]"
     ]
    },
    {
     "name": "stdout",
     "output_type": "stream",
     "text": [
      "&&&&&&&&&&&&&&&:  62\n",
      "Extracting parameters from /data0/practical-sose23/brain-age/data/lemon/LEMON_RAW/sub-010202/RSEEG/sub-010202.vhdr...\n",
      "Setting channel info structure...\n",
      "Reading 0 ... 2538099  =      0.000 ...  1015.240 secs...\n"
     ]
    },
    {
     "name": "stderr",
     "output_type": "stream",
     "text": [
      "\r",
      "  1%|▊                                                                                            | 2/215 [00:03<06:50,  1.93s/it]"
     ]
    },
    {
     "name": "stdout",
     "output_type": "stream",
     "text": [
      "&&&&&&&&&&&&&&&:  62\n",
      "Extracting parameters from /data0/practical-sose23/brain-age/data/lemon/LEMON_RAW/sub-010263/RSEEG/sub-010263.vhdr...\n",
      "Setting channel info structure...\n",
      "Reading 0 ... 2565099  =      0.000 ...  1026.040 secs...\n"
     ]
    },
    {
     "name": "stderr",
     "output_type": "stream",
     "text": [
      "\r",
      "  1%|█▎                                                                                           | 3/215 [00:05<07:01,  1.99s/it]"
     ]
    },
    {
     "name": "stdout",
     "output_type": "stream",
     "text": [
      "&&&&&&&&&&&&&&&:  62\n",
      "Extracting parameters from /data0/practical-sose23/brain-age/data/lemon/LEMON_RAW/sub-010069/RSEEG/sub-010069.vhdr...\n",
      "Setting channel info structure...\n",
      "Reading 0 ... 2584949  =      0.000 ...  1033.980 secs...\n"
     ]
    },
    {
     "name": "stderr",
     "output_type": "stream",
     "text": [
      "\r",
      "  2%|█▋                                                                                           | 4/215 [00:07<06:58,  1.98s/it]"
     ]
    },
    {
     "name": "stdout",
     "output_type": "stream",
     "text": [
      "&&&&&&&&&&&&&&&:  62\n",
      "Extracting parameters from /data0/practical-sose23/brain-age/data/lemon/LEMON_RAW/sub-010080/RSEEG/sub-010080.vhdr...\n",
      "Setting channel info structure...\n",
      "Reading 0 ... 2584949  =      0.000 ...  1033.980 secs...\n"
     ]
    },
    {
     "name": "stderr",
     "output_type": "stream",
     "text": [
      "\r",
      "  2%|██▏                                                                                          | 5/215 [00:09<07:04,  2.02s/it]"
     ]
    },
    {
     "name": "stdout",
     "output_type": "stream",
     "text": [
      "&&&&&&&&&&&&&&&:  62\n",
      "Extracting parameters from /data0/practical-sose23/brain-age/data/lemon/LEMON_RAW/sub-010278/RSEEG/sub-010278.vhdr...\n",
      "Setting channel info structure...\n",
      "Reading 0 ... 1081739  =      0.000 ...  1081.739 secs...\n"
     ]
    },
    {
     "name": "stderr",
     "output_type": "stream",
     "text": [
      "\r",
      "  3%|██▌                                                                                          | 6/215 [00:10<05:41,  1.63s/it]"
     ]
    },
    {
     "name": "stdout",
     "output_type": "stream",
     "text": [
      "&&&&&&&&&&&&&&&:  62\n",
      "Extracting parameters from /data0/practical-sose23/brain-age/data/lemon/LEMON_RAW/sub-010218/RSEEG/sub-010218.vhdr...\n",
      "Setting channel info structure...\n",
      "Reading 0 ... 2587349  =      0.000 ...  1034.940 secs...\n"
     ]
    },
    {
     "name": "stderr",
     "output_type": "stream",
     "text": [
      "\r",
      "  3%|███                                                                                          | 7/215 [00:12<05:59,  1.73s/it]"
     ]
    },
    {
     "name": "stdout",
     "output_type": "stream",
     "text": [
      "&&&&&&&&&&&&&&&:  62\n",
      "Extracting parameters from /data0/practical-sose23/brain-age/data/lemon/LEMON_RAW/sub-010162/RSEEG/sub-010162.vhdr...\n",
      "Setting channel info structure...\n",
      "Reading 0 ... 2529249  =      0.000 ...  1011.700 secs...\n"
     ]
    },
    {
     "name": "stderr",
     "output_type": "stream",
     "text": [
      "\r",
      "  4%|███▍                                                                                         | 8/215 [00:14<06:12,  1.80s/it]"
     ]
    },
    {
     "name": "stdout",
     "output_type": "stream",
     "text": [
      "&&&&&&&&&&&&&&&:  62\n",
      "Extracting parameters from /data0/practical-sose23/brain-age/data/lemon/LEMON_RAW/sub-010262/RSEEG/sub-010262.vhdr...\n",
      "Setting channel info structure...\n",
      "Reading 0 ... 2733249  =      0.000 ...  1093.300 secs...\n"
     ]
    },
    {
     "name": "stderr",
     "output_type": "stream",
     "text": [
      "\r",
      "  4%|███▉                                                                                         | 9/215 [00:16<06:31,  1.90s/it]"
     ]
    },
    {
     "name": "stdout",
     "output_type": "stream",
     "text": [
      "&&&&&&&&&&&&&&&:  62\n",
      "Extracting parameters from /data0/practical-sose23/brain-age/data/lemon/LEMON_RAW/sub-010201/RSEEG/sub-010201.vhdr...\n",
      "Setting channel info structure...\n",
      "Reading 0 ... 2619699  =      0.000 ...  1047.880 secs...\n"
     ]
    },
    {
     "name": "stderr",
     "output_type": "stream",
     "text": [
      "\r",
      "  5%|████▎                                                                                       | 10/215 [00:18<06:43,  1.97s/it]"
     ]
    },
    {
     "name": "stdout",
     "output_type": "stream",
     "text": [
      "&&&&&&&&&&&&&&&:  62\n",
      "Extracting parameters from /data0/practical-sose23/brain-age/data/lemon/LEMON_RAW/sub-010248/RSEEG/sub-010248.vhdr...\n",
      "Setting channel info structure...\n",
      "Reading 0 ... 2750049  =      0.000 ...  1100.020 secs...\n",
      "&&&&&&&&&&&&&&&:  62\n"
     ]
    },
    {
     "name": "stderr",
     "output_type": "stream",
     "text": [
      "\r",
      "  5%|████▋                                                                                       | 11/215 [00:21<06:54,  2.03s/it]"
     ]
    },
    {
     "name": "stdout",
     "output_type": "stream",
     "text": [
      "Extracting parameters from /data0/practical-sose23/brain-age/data/lemon/LEMON_RAW/sub-010024/RSEEG/sub-010024.vhdr...\n",
      "Setting channel info structure...\n",
      "Reading 0 ... 2542599  =      0.000 ...  1017.040 secs...\n",
      "&&&&&&&&&&&&&&&:  62\n"
     ]
    },
    {
     "name": "stderr",
     "output_type": "stream",
     "text": [
      "\r",
      "  6%|█████▏                                                                                      | 12/215 [00:23<06:53,  2.04s/it]"
     ]
    },
    {
     "name": "stdout",
     "output_type": "stream",
     "text": [
      "Extracting parameters from /data0/practical-sose23/brain-age/data/lemon/LEMON_RAW/sub-010041/RSEEG/sub-010041.vhdr...\n",
      "Setting channel info structure...\n",
      "Reading 0 ... 2537249  =      0.000 ...  1014.900 secs...\n"
     ]
    },
    {
     "name": "stderr",
     "output_type": "stream",
     "text": [
      "\r",
      "  6%|█████▌                                                                                      | 13/215 [00:25<06:47,  2.02s/it]"
     ]
    },
    {
     "name": "stdout",
     "output_type": "stream",
     "text": [
      "&&&&&&&&&&&&&&&:  62\n",
      "Extracting parameters from /data0/practical-sose23/brain-age/data/lemon/LEMON_RAW/sub-010079/RSEEG/sub-010079.vhdr...\n",
      "Setting channel info structure...\n",
      "Reading 0 ... 2554899  =      0.000 ...  1021.960 secs...\n"
     ]
    },
    {
     "name": "stderr",
     "output_type": "stream",
     "text": [
      "\r",
      "  7%|█████▉                                                                                      | 14/215 [00:27<06:43,  2.01s/it]"
     ]
    },
    {
     "name": "stdout",
     "output_type": "stream",
     "text": [
      "&&&&&&&&&&&&&&&:  62\n",
      "Extracting parameters from /data0/practical-sose23/brain-age/data/lemon/LEMON_RAW/sub-010015/RSEEG/sub-010015.vhdr...\n",
      "Setting channel info structure...\n",
      "Reading 0 ... 972468  =      0.000 ...   388.987 secs...\n"
     ]
    },
    {
     "name": "stderr",
     "output_type": "stream",
     "text": [
      "/tmp/ipykernel_3090442/2975309167.py:5: RuntimeWarning: Omitted 313 annotation(s) that were outside data range.\n",
      "  example_raw = mne.io.read_raw_brainvision(file_path, preload=True)\n",
      "\r",
      "  7%|██████▍                                                                                     | 15/215 [00:27<05:27,  1.64s/it]"
     ]
    },
    {
     "name": "stdout",
     "output_type": "stream",
     "text": [
      "&&&&&&&&&&&&&&&:  62\n",
      "Extracting parameters from /data0/practical-sose23/brain-age/data/lemon/LEMON_RAW/sub-010067/RSEEG/sub-010067.vhdr...\n",
      "Setting channel info structure...\n",
      "Reading 0 ... 2671799  =      0.000 ...  1068.720 secs...\n"
     ]
    },
    {
     "name": "stderr",
     "output_type": "stream",
     "text": [
      "\r",
      "  7%|██████▊                                                                                     | 16/215 [00:29<05:47,  1.74s/it]"
     ]
    },
    {
     "name": "stdout",
     "output_type": "stream",
     "text": [
      "&&&&&&&&&&&&&&&:  62\n",
      "Extracting parameters from /data0/practical-sose23/brain-age/data/lemon/LEMON_RAW/sub-010066/RSEEG/sub-010066.vhdr...\n",
      "Setting channel info structure...\n",
      "Reading 0 ... 2570049  =      0.000 ...  1028.020 secs...\n"
     ]
    },
    {
     "name": "stderr",
     "output_type": "stream",
     "text": [
      "\r",
      "  8%|███████▎                                                                                    | 17/215 [00:31<05:58,  1.81s/it]"
     ]
    },
    {
     "name": "stdout",
     "output_type": "stream",
     "text": [
      "&&&&&&&&&&&&&&&:  62\n",
      "Extracting parameters from /data0/practical-sose23/brain-age/data/lemon/LEMON_RAW/sub-010210/RSEEG/sub-010210.vhdr...\n",
      "Setting channel info structure...\n",
      "Reading 0 ... 2664299  =      0.000 ...  1065.720 secs...\n"
     ]
    },
    {
     "name": "stderr",
     "output_type": "stream",
     "text": [
      "\r",
      "  8%|███████▋                                                                                    | 18/215 [00:33<06:12,  1.89s/it]"
     ]
    },
    {
     "name": "stdout",
     "output_type": "stream",
     "text": [
      "&&&&&&&&&&&&&&&:  62\n",
      "Extracting parameters from /data0/practical-sose23/brain-age/data/lemon/LEMON_RAW/sub-010311/RSEEG/sub-010311.vhdr...\n",
      "Setting channel info structure...\n",
      "Reading 0 ... 2588399  =      0.000 ...  1035.360 secs...\n"
     ]
    },
    {
     "name": "stderr",
     "output_type": "stream",
     "text": [
      "\r",
      "  9%|████████▏                                                                                   | 19/215 [00:35<06:16,  1.92s/it]"
     ]
    },
    {
     "name": "stdout",
     "output_type": "stream",
     "text": [
      "&&&&&&&&&&&&&&&:  62\n",
      "Extracting parameters from /data0/practical-sose23/brain-age/data/lemon/LEMON_RAW/sub-010037/RSEEG/sub-010037.vhdr...\n",
      "Setting channel info structure...\n",
      "Reading 0 ... 2512099  =      0.000 ...  1004.840 secs...\n"
     ]
    },
    {
     "name": "stderr",
     "output_type": "stream",
     "text": [
      "\r",
      "  9%|████████▌                                                                                   | 20/215 [00:37<06:15,  1.92s/it]"
     ]
    },
    {
     "name": "stdout",
     "output_type": "stream",
     "text": [
      "&&&&&&&&&&&&&&&:  62\n",
      "Extracting parameters from /data0/practical-sose23/brain-age/data/lemon/LEMON_RAW/sub-010036/RSEEG/sub-010036.vhdr...\n",
      "Setting channel info structure...\n",
      "Reading 0 ... 2599949  =      0.000 ...  1039.980 secs...\n"
     ]
    },
    {
     "name": "stderr",
     "output_type": "stream",
     "text": [
      "\r",
      " 10%|████████▉                                                                                   | 21/215 [00:39<06:15,  1.93s/it]"
     ]
    },
    {
     "name": "stdout",
     "output_type": "stream",
     "text": [
      "&&&&&&&&&&&&&&&:  62\n",
      "Extracting parameters from /data0/practical-sose23/brain-age/data/lemon/LEMON_RAW/sub-010316/RSEEG/sub-010316.vhdr...\n",
      "Setting channel info structure...\n",
      "Reading 0 ... 2752299  =      0.000 ...  1100.920 secs...\n",
      "&&&&&&&&&&&&&&&:  62\n"
     ]
    },
    {
     "name": "stderr",
     "output_type": "stream",
     "text": [
      "\r",
      " 10%|█████████▍                                                                                  | 22/215 [00:41<06:25,  2.00s/it]"
     ]
    },
    {
     "name": "stdout",
     "output_type": "stream",
     "text": [
      "Extracting parameters from /data0/practical-sose23/brain-age/data/lemon/LEMON_RAW/sub-010072/RSEEG/sub-010072.vhdr...\n",
      "Setting channel info structure...\n",
      "Reading 0 ... 2579399  =      0.000 ...  1031.760 secs...\n"
     ]
    },
    {
     "name": "stderr",
     "output_type": "stream",
     "text": [
      "\r",
      " 11%|█████████▊                                                                                  | 23/215 [00:44<06:24,  2.00s/it]"
     ]
    },
    {
     "name": "stdout",
     "output_type": "stream",
     "text": [
      "&&&&&&&&&&&&&&&:  62\n",
      "Extracting parameters from /data0/practical-sose23/brain-age/data/lemon/LEMON_RAW/sub-010028/RSEEG/sub-010028.vhdr...\n",
      "Setting channel info structure...\n",
      "Reading 0 ... 2566749  =      0.000 ...  1026.700 secs...\n"
     ]
    },
    {
     "name": "stderr",
     "output_type": "stream",
     "text": [
      "\r",
      " 11%|██████████▎                                                                                 | 24/215 [00:45<06:21,  1.99s/it]"
     ]
    },
    {
     "name": "stdout",
     "output_type": "stream",
     "text": [
      "&&&&&&&&&&&&&&&:  62\n",
      "Extracting parameters from /data0/practical-sose23/brain-age/data/lemon/LEMON_RAW/sub-010286/RSEEG/sub-010286.vhdr...\n",
      "Setting channel info structure...\n",
      "Reading 0 ... 2911449  =      0.000 ...  1164.580 secs...\n",
      "&&&&&&&&&&&&&&&:  62\n"
     ]
    },
    {
     "name": "stderr",
     "output_type": "stream",
     "text": [
      "\r",
      " 12%|██████████▋                                                                                 | 25/215 [00:48<06:33,  2.07s/it]"
     ]
    },
    {
     "name": "stdout",
     "output_type": "stream",
     "text": [
      "Extracting parameters from /data0/practical-sose23/brain-age/data/lemon/LEMON_RAW/sub-010065/RSEEG/sub-010065.vhdr...\n",
      "Setting channel info structure...\n",
      "Reading 0 ... 2675199  =      0.000 ...  1070.080 secs...\n"
     ]
    },
    {
     "name": "stderr",
     "output_type": "stream",
     "text": [
      "\r",
      " 12%|███████████▏                                                                                | 26/215 [00:50<06:30,  2.07s/it]"
     ]
    },
    {
     "name": "stdout",
     "output_type": "stream",
     "text": [
      "&&&&&&&&&&&&&&&:  62\n",
      "Extracting parameters from /data0/practical-sose23/brain-age/data/lemon/LEMON_RAW/sub-010200/RSEEG/sub-010200.vhdr...\n",
      "Setting channel info structure...\n",
      "Reading 0 ... 2749799  =      0.000 ...  1099.920 secs...\n"
     ]
    },
    {
     "name": "stderr",
     "output_type": "stream",
     "text": [
      "\r",
      " 13%|███████████▌                                                                                | 27/215 [00:52<06:33,  2.09s/it]"
     ]
    },
    {
     "name": "stdout",
     "output_type": "stream",
     "text": [
      "&&&&&&&&&&&&&&&:  62\n",
      "Extracting parameters from /data0/practical-sose23/brain-age/data/lemon/LEMON_RAW/sub-010219/RSEEG/sub-010219.vhdr...\n",
      "Extracting parameters from /data0/practical-sose23/brain-age/data/lemon/LEMON_RAW/sub-010059/RSEEG/sub-010059.vhdr...\n",
      "Setting channel info structure...\n",
      "Reading 0 ... 2773849  =      0.000 ...  1109.540 secs...\n",
      "&&&&&&&&&&&&&&&:  62\n"
     ]
    },
    {
     "name": "stderr",
     "output_type": "stream",
     "text": [
      "\r",
      " 13%|████████████▍                                                                               | 29/215 [00:54<05:01,  1.62s/it]"
     ]
    },
    {
     "name": "stdout",
     "output_type": "stream",
     "text": [
      "Extracting parameters from /data0/practical-sose23/brain-age/data/lemon/LEMON_RAW/sub-010258/RSEEG/sub-010258.vhdr...\n",
      "Setting channel info structure...\n",
      "Reading 0 ... 2759549  =      0.000 ...  1103.820 secs...\n"
     ]
    },
    {
     "name": "stderr",
     "output_type": "stream",
     "text": [
      "\r",
      " 14%|████████████▊                                                                               | 30/215 [00:56<05:31,  1.79s/it]"
     ]
    },
    {
     "name": "stdout",
     "output_type": "stream",
     "text": [
      "&&&&&&&&&&&&&&&:  62\n",
      "Extracting parameters from /data0/practical-sose23/brain-age/data/lemon/LEMON_RAW/sub-010226/RSEEG/sub-010226.vhdr...\n",
      "Setting channel info structure...\n",
      "Reading 0 ... 2612749  =      0.000 ...  1045.100 secs...\n"
     ]
    },
    {
     "name": "stderr",
     "output_type": "stream",
     "text": [
      "\r",
      " 14%|█████████████▎                                                                              | 31/215 [00:58<05:38,  1.84s/it]"
     ]
    },
    {
     "name": "stdout",
     "output_type": "stream",
     "text": [
      "&&&&&&&&&&&&&&&:  62\n",
      "Extracting parameters from /data0/practical-sose23/brain-age/data/lemon/LEMON_RAW/sub-010314/RSEEG/sub-010314.vhdr...\n",
      "Setting channel info structure...\n",
      "Reading 0 ... 2644899  =      0.000 ...  1057.960 secs...\n"
     ]
    },
    {
     "name": "stderr",
     "output_type": "stream",
     "text": [
      "\r",
      " 15%|█████████████▋                                                                              | 32/215 [01:00<05:44,  1.88s/it]"
     ]
    },
    {
     "name": "stdout",
     "output_type": "stream",
     "text": [
      "&&&&&&&&&&&&&&&:  62\n",
      "Extracting parameters from /data0/practical-sose23/brain-age/data/lemon/LEMON_RAW/sub-010040/RSEEG/sub-010040.vhdr...\n",
      "Setting channel info structure...\n",
      "Reading 0 ... 2511899  =      0.000 ...  1004.760 secs...\n"
     ]
    },
    {
     "name": "stderr",
     "output_type": "stream",
     "text": [
      "\r",
      " 15%|██████████████                                                                              | 33/215 [01:02<05:44,  1.89s/it]"
     ]
    },
    {
     "name": "stdout",
     "output_type": "stream",
     "text": [
      "&&&&&&&&&&&&&&&:  62\n",
      "Extracting parameters from /data0/practical-sose23/brain-age/data/lemon/LEMON_RAW/sub-010303/RSEEG/sub-010303.vhdr...\n",
      "Setting channel info structure...\n",
      "Reading 0 ... 2566599  =      0.000 ...  1026.640 secs...\n"
     ]
    },
    {
     "name": "stderr",
     "output_type": "stream",
     "text": [
      "\r",
      " 16%|██████████████▌                                                                             | 34/215 [01:04<05:45,  1.91s/it]"
     ]
    },
    {
     "name": "stdout",
     "output_type": "stream",
     "text": [
      "&&&&&&&&&&&&&&&:  62\n",
      "Extracting parameters from /data0/practical-sose23/brain-age/data/lemon/LEMON_RAW/sub-010213/RSEEG/sub-010213.vhdr...\n",
      "Setting channel info structure...\n",
      "Reading 0 ... 2649849  =      0.000 ...  1059.940 secs...\n"
     ]
    },
    {
     "name": "stderr",
     "output_type": "stream",
     "text": [
      "\r",
      " 16%|██████████████▉                                                                             | 35/215 [01:06<05:49,  1.94s/it]"
     ]
    },
    {
     "name": "stdout",
     "output_type": "stream",
     "text": [
      "&&&&&&&&&&&&&&&:  62\n",
      "Extracting parameters from /data0/practical-sose23/brain-age/data/lemon/LEMON_RAW/sub-010104/RSEEG/sub-010104.vhdr...\n",
      "Setting channel info structure...\n",
      "Reading 0 ... 2601099  =      0.000 ...  1040.440 secs...\n"
     ]
    },
    {
     "name": "stderr",
     "output_type": "stream",
     "text": [
      "\r",
      " 17%|███████████████▍                                                                            | 36/215 [01:08<05:47,  1.94s/it]"
     ]
    },
    {
     "name": "stdout",
     "output_type": "stream",
     "text": [
      "&&&&&&&&&&&&&&&:  62\n",
      "Extracting parameters from /data0/practical-sose23/brain-age/data/lemon/LEMON_RAW/sub-010141/RSEEG/sub-010141.vhdr...\n",
      "Setting channel info structure...\n",
      "Reading 0 ... 2667999  =      0.000 ...  1067.200 secs...\n"
     ]
    },
    {
     "name": "stderr",
     "output_type": "stream",
     "text": [
      "\r",
      " 17%|███████████████▊                                                                            | 37/215 [01:10<05:54,  1.99s/it]"
     ]
    },
    {
     "name": "stdout",
     "output_type": "stream",
     "text": [
      "&&&&&&&&&&&&&&&:  62\n",
      "Extracting parameters from /data0/practical-sose23/brain-age/data/lemon/LEMON_RAW/sub-010093/RSEEG/sub-010093.vhdr...\n",
      "Setting channel info structure...\n",
      "Reading 0 ... 2533749  =      0.000 ...  1013.500 secs...\n"
     ]
    },
    {
     "name": "stderr",
     "output_type": "stream",
     "text": [
      "\r",
      " 18%|████████████████▎                                                                           | 38/215 [01:12<05:49,  1.97s/it]"
     ]
    },
    {
     "name": "stdout",
     "output_type": "stream",
     "text": [
      "&&&&&&&&&&&&&&&:  62\n",
      "Extracting parameters from /data0/practical-sose23/brain-age/data/lemon/LEMON_RAW/sub-010089/RSEEG/sub-010089.vhdr...\n",
      "Setting channel info structure...\n",
      "Reading 0 ... 2562899  =      0.000 ...  1025.160 secs...\n"
     ]
    },
    {
     "name": "stderr",
     "output_type": "stream",
     "text": [
      "\r",
      " 18%|████████████████▋                                                                           | 39/215 [01:14<05:46,  1.97s/it]"
     ]
    },
    {
     "name": "stdout",
     "output_type": "stream",
     "text": [
      "&&&&&&&&&&&&&&&:  62\n",
      "Extracting parameters from /data0/practical-sose23/brain-age/data/lemon/LEMON_RAW/sub-010308/RSEEG/sub-010308.vhdr...\n",
      "Setting channel info structure...\n",
      "Reading 0 ... 2683549  =      0.000 ...  1073.420 secs...\n"
     ]
    },
    {
     "name": "stderr",
     "output_type": "stream",
     "text": [
      "\r",
      " 19%|█████████████████                                                                           | 40/215 [01:16<05:48,  1.99s/it]"
     ]
    },
    {
     "name": "stdout",
     "output_type": "stream",
     "text": [
      "&&&&&&&&&&&&&&&:  62\n",
      "Extracting parameters from /data0/practical-sose23/brain-age/data/lemon/LEMON_RAW/sub-010056/RSEEG/sub-010056.vhdr...\n",
      "Setting channel info structure...\n",
      "Reading 0 ... 2608999  =      0.000 ...  1043.600 secs...\n"
     ]
    },
    {
     "name": "stderr",
     "output_type": "stream",
     "text": [
      "\r",
      " 19%|█████████████████▌                                                                          | 41/215 [01:18<05:48,  2.00s/it]"
     ]
    },
    {
     "name": "stdout",
     "output_type": "stream",
     "text": [
      "&&&&&&&&&&&&&&&:  62\n",
      "Extracting parameters from /data0/practical-sose23/brain-age/data/lemon/LEMON_RAW/sub-010224/RSEEG/sub-010224.vhdr...\n",
      "Setting channel info structure...\n",
      "Reading 0 ... 2666249  =      0.000 ...  1066.500 secs...\n"
     ]
    },
    {
     "name": "stderr",
     "output_type": "stream",
     "text": [
      "\r",
      " 20%|█████████████████▉                                                                          | 42/215 [01:20<05:47,  2.01s/it]"
     ]
    },
    {
     "name": "stdout",
     "output_type": "stream",
     "text": [
      "&&&&&&&&&&&&&&&:  62\n",
      "Extracting parameters from /data0/practical-sose23/brain-age/data/lemon/LEMON_RAW/sub-010236/RSEEG/sub-010236.vhdr...\n",
      "Setting channel info structure...\n",
      "Reading 0 ... 2611649  =      0.000 ...  1044.660 secs...\n"
     ]
    },
    {
     "name": "stderr",
     "output_type": "stream",
     "text": [
      "\r",
      " 20%|██████████████████▍                                                                         | 43/215 [01:22<05:44,  2.00s/it]"
     ]
    },
    {
     "name": "stdout",
     "output_type": "stream",
     "text": [
      "&&&&&&&&&&&&&&&:  62\n",
      "Extracting parameters from /data0/practical-sose23/brain-age/data/lemon/LEMON_RAW/sub-010243/RSEEG/sub-010243.vhdr...\n",
      "Setting channel info structure...\n",
      "Reading 0 ... 2781249  =      0.000 ...  1112.500 secs...\n",
      "&&&&&&&&&&&&&&&:  62\n"
     ]
    },
    {
     "name": "stderr",
     "output_type": "stream",
     "text": [
      "\r",
      " 20%|██████████████████▊                                                                         | 44/215 [01:24<05:48,  2.04s/it]"
     ]
    },
    {
     "name": "stdout",
     "output_type": "stream",
     "text": [
      "Extracting parameters from /data0/practical-sose23/brain-age/data/lemon/LEMON_RAW/sub-010285/RSEEG/sub-010285.vhdr...\n",
      "Setting channel info structure...\n",
      "Reading 0 ... 200249  =      0.000 ...    80.100 secs...\n"
     ]
    },
    {
     "name": "stderr",
     "output_type": "stream",
     "text": [
      "\r",
      " 21%|███████████████████▎                                                                        | 45/215 [01:25<04:12,  1.48s/it]"
     ]
    },
    {
     "name": "stdout",
     "output_type": "stream",
     "text": [
      "&&&&&&&&&&&&&&&:  62\n",
      "Extracting parameters from /data0/practical-sose23/brain-age/data/lemon/LEMON_RAW/sub-010070/RSEEG/sub-010070.vhdr...\n",
      "Setting channel info structure...\n",
      "Reading 0 ... 2676849  =      0.000 ...  1070.740 secs...\n",
      "&&&&&&&&&&&&&&&:  62\n"
     ]
    },
    {
     "name": "stderr",
     "output_type": "stream",
     "text": [
      "\r",
      " 21%|███████████████████▋                                                                        | 46/215 [01:27<04:40,  1.66s/it]"
     ]
    },
    {
     "name": "stdout",
     "output_type": "stream",
     "text": [
      "Extracting parameters from /data0/practical-sose23/brain-age/data/lemon/LEMON_RAW/sub-010207/RSEEG/sub-010207.vhdr...\n",
      "Setting channel info structure...\n",
      "Reading 0 ... 2526199  =      0.000 ...  1010.480 secs...\n"
     ]
    },
    {
     "name": "stderr",
     "output_type": "stream",
     "text": [
      "\r",
      " 22%|████████████████████                                                                        | 47/215 [01:29<04:53,  1.74s/it]"
     ]
    },
    {
     "name": "stdout",
     "output_type": "stream",
     "text": [
      "&&&&&&&&&&&&&&&:  62\n",
      "Extracting parameters from /data0/practical-sose23/brain-age/data/lemon/LEMON_RAW/sub-010033/RSEEG/sub-010033.vhdr...\n",
      "Setting channel info structure...\n",
      "Reading 0 ... 2523249  =      0.000 ...  1009.300 secs...\n"
     ]
    },
    {
     "name": "stderr",
     "output_type": "stream",
     "text": [
      "\r",
      " 22%|████████████████████▌                                                                       | 48/215 [01:31<05:02,  1.81s/it]"
     ]
    },
    {
     "name": "stdout",
     "output_type": "stream",
     "text": [
      "&&&&&&&&&&&&&&&:  62\n",
      "Extracting parameters from /data0/practical-sose23/brain-age/data/lemon/LEMON_RAW/sub-010305/RSEEG/sub-010305.vhdr...\n",
      "Setting channel info structure...\n",
      "Reading 0 ... 2572499  =      0.000 ...  1029.000 secs...\n"
     ]
    },
    {
     "name": "stderr",
     "output_type": "stream",
     "text": [
      "\r",
      " 23%|████████████████████▉                                                                       | 49/215 [01:32<05:05,  1.84s/it]"
     ]
    },
    {
     "name": "stdout",
     "output_type": "stream",
     "text": [
      "&&&&&&&&&&&&&&&:  62\n",
      "Extracting parameters from /data0/practical-sose23/brain-age/data/lemon/LEMON_RAW/sub-010272/RSEEG/sub-010272.vhdr...\n",
      "Setting channel info structure...\n",
      "Reading 0 ... 2553549  =      0.000 ...  1021.420 secs...\n"
     ]
    },
    {
     "name": "stderr",
     "output_type": "stream",
     "text": [
      "\r",
      " 23%|█████████████████████▍                                                                      | 50/215 [01:34<05:08,  1.87s/it]"
     ]
    },
    {
     "name": "stdout",
     "output_type": "stream",
     "text": [
      "&&&&&&&&&&&&&&&:  62\n",
      "Extracting parameters from /data0/practical-sose23/brain-age/data/lemon/LEMON_RAW/sub-010220/RSEEG/sub-010220.vhdr...\n",
      "Setting channel info structure...\n",
      "Reading 0 ... 2611699  =      0.000 ...  1044.680 secs...\n"
     ]
    },
    {
     "name": "stderr",
     "output_type": "stream",
     "text": [
      "\r",
      " 24%|█████████████████████▊                                                                      | 51/215 [01:36<05:12,  1.91s/it]"
     ]
    },
    {
     "name": "stdout",
     "output_type": "stream",
     "text": [
      "&&&&&&&&&&&&&&&:  62\n",
      "Extracting parameters from /data0/practical-sose23/brain-age/data/lemon/LEMON_RAW/sub-010233/RSEEG/sub-010233.vhdr...\n",
      "Setting channel info structure...\n",
      "Reading 0 ... 2722249  =      0.000 ...  1088.900 secs...\n",
      "&&&&&&&&&&&&&&&:  62\n"
     ]
    },
    {
     "name": "stderr",
     "output_type": "stream",
     "text": [
      "\r",
      " 24%|██████████████████████▎                                                                     | 52/215 [01:39<05:20,  1.97s/it]"
     ]
    },
    {
     "name": "stdout",
     "output_type": "stream",
     "text": [
      "Extracting parameters from /data0/practical-sose23/brain-age/data/lemon/LEMON_RAW/sub-010269/RSEEG/sub-010269.vhdr...\n",
      "Setting channel info structure...\n",
      "Reading 0 ... 2525199  =      0.000 ...  1010.080 secs...\n"
     ]
    },
    {
     "name": "stderr",
     "output_type": "stream",
     "text": [
      "\r",
      " 25%|██████████████████████▋                                                                     | 53/215 [01:41<05:19,  1.97s/it]"
     ]
    },
    {
     "name": "stdout",
     "output_type": "stream",
     "text": [
      "&&&&&&&&&&&&&&&:  62\n",
      "Extracting parameters from /data0/practical-sose23/brain-age/data/lemon/LEMON_RAW/sub-010023/RSEEG/sub-010023.vhdr...\n",
      "Setting channel info structure...\n",
      "Reading 0 ... 2510899  =      0.000 ...  1004.360 secs...\n",
      "&&&&&&&&&&&&&&&:  62\n"
     ]
    },
    {
     "name": "stderr",
     "output_type": "stream",
     "text": [
      "\r",
      " 25%|███████████████████████                                                                     | 54/215 [01:43<05:22,  2.00s/it]"
     ]
    },
    {
     "name": "stdout",
     "output_type": "stream",
     "text": [
      "Extracting parameters from /data0/practical-sose23/brain-age/data/lemon/LEMON_RAW/sub-010252/RSEEG/sub-010252.vhdr...\n",
      "Setting channel info structure...\n",
      "Reading 0 ... 2561949  =      0.000 ...  1024.780 secs...\n",
      "&&&&&&&&&&&&&&&:  62\n"
     ]
    },
    {
     "name": "stderr",
     "output_type": "stream",
     "text": [
      "\r",
      " 26%|███████████████████████▌                                                                    | 55/215 [01:45<05:55,  2.22s/it]"
     ]
    },
    {
     "name": "stdout",
     "output_type": "stream",
     "text": [
      "Extracting parameters from /data0/practical-sose23/brain-age/data/lemon/LEMON_RAW/sub-010260/RSEEG/sub-010260.vhdr...\n",
      "Setting channel info structure...\n",
      "Reading 0 ... 2584549  =      0.000 ...  1033.820 secs...\n",
      "&&&&&&&&&&&&&&&:  62\n"
     ]
    },
    {
     "name": "stderr",
     "output_type": "stream",
     "text": [
      "\r",
      " 26%|███████████████████████▉                                                                    | 56/215 [01:48<06:13,  2.35s/it]"
     ]
    },
    {
     "name": "stdout",
     "output_type": "stream",
     "text": [
      "Extracting parameters from /data0/practical-sose23/brain-age/data/lemon/LEMON_RAW/sub-010261/RSEEG/sub-010261.vhdr...\n",
      "Setting channel info structure...\n",
      "Reading 0 ... 2589549  =      0.000 ...  1035.820 secs...\n",
      "&&&&&&&&&&&&&&&:  62\n"
     ]
    },
    {
     "name": "stderr",
     "output_type": "stream",
     "text": [
      "\r",
      " 27%|████████████████████████▍                                                                   | 57/215 [01:51<06:25,  2.44s/it]"
     ]
    },
    {
     "name": "stdout",
     "output_type": "stream",
     "text": [
      "Extracting parameters from /data0/practical-sose23/brain-age/data/lemon/LEMON_RAW/sub-010007/RSEEG/sub-010007.vhdr...\n",
      "Setting channel info structure...\n",
      "Reading 0 ... 2556699  =      0.000 ...  1022.680 secs...\n",
      "&&&&&&&&&&&&&&&:  62\n"
     ]
    },
    {
     "name": "stderr",
     "output_type": "stream",
     "text": [
      "\r",
      " 27%|████████████████████████▊                                                                   | 58/215 [01:53<06:13,  2.38s/it]"
     ]
    },
    {
     "name": "stdout",
     "output_type": "stream",
     "text": [
      "Extracting parameters from /data0/practical-sose23/brain-age/data/lemon/LEMON_RAW/sub-010239/RSEEG/sub-010239.vhdr...\n",
      "Setting channel info structure...\n",
      "Reading 0 ... 2624399  =      0.000 ...  1049.760 secs...\n"
     ]
    },
    {
     "name": "stderr",
     "output_type": "stream",
     "text": [
      "\r",
      " 27%|█████████████████████████▏                                                                  | 59/215 [01:55<05:57,  2.29s/it]"
     ]
    },
    {
     "name": "stdout",
     "output_type": "stream",
     "text": [
      "&&&&&&&&&&&&&&&:  62\n",
      "Extracting parameters from /data0/practical-sose23/brain-age/data/lemon/LEMON_RAW/sub-010265/RSEEG/sub-010265.vhdr...\n",
      "Setting channel info structure...\n",
      "Reading 0 ... 2556949  =      0.000 ...  1022.780 secs...\n",
      "&&&&&&&&&&&&&&&:  62\n"
     ]
    },
    {
     "name": "stderr",
     "output_type": "stream",
     "text": [
      "\r",
      " 28%|█████████████████████████▋                                                                  | 60/215 [01:57<05:48,  2.25s/it]"
     ]
    },
    {
     "name": "stdout",
     "output_type": "stream",
     "text": [
      "Extracting parameters from /data0/practical-sose23/brain-age/data/lemon/LEMON_RAW/sub-010246/RSEEG/sub-010246.vhdr...\n",
      "Setting channel info structure...\n",
      "Reading 0 ... 2579099  =      0.000 ...  1031.640 secs...\n",
      "&&&&&&&&&&&&&&&:  62\n"
     ]
    },
    {
     "name": "stderr",
     "output_type": "stream",
     "text": [
      "\r",
      " 28%|██████████████████████████                                                                  | 61/215 [02:00<05:55,  2.31s/it]"
     ]
    },
    {
     "name": "stdout",
     "output_type": "stream",
     "text": [
      "Extracting parameters from /data0/practical-sose23/brain-age/data/lemon/LEMON_RAW/sub-010094/RSEEG/sub-010094.vhdr...\n",
      "Setting channel info structure...\n",
      "Reading 0 ... 2615999  =      0.000 ...  1046.400 secs...\n",
      "&&&&&&&&&&&&&&&:  62\n"
     ]
    },
    {
     "name": "stderr",
     "output_type": "stream",
     "text": [
      "\r",
      " 29%|██████████████████████████▌                                                                 | 62/215 [02:02<06:03,  2.37s/it]"
     ]
    },
    {
     "name": "stdout",
     "output_type": "stream",
     "text": [
      "Extracting parameters from /data0/practical-sose23/brain-age/data/lemon/LEMON_RAW/sub-010204/RSEEG/sub-010204.vhdr...\n",
      "Setting channel info structure...\n",
      "Reading 0 ... 2735749  =      0.000 ...  1094.300 secs...\n",
      "&&&&&&&&&&&&&&&:  62\n"
     ]
    },
    {
     "name": "stderr",
     "output_type": "stream",
     "text": [
      "\r",
      " 29%|██████████████████████████▉                                                                 | 63/215 [02:05<06:14,  2.46s/it]"
     ]
    },
    {
     "name": "stdout",
     "output_type": "stream",
     "text": [
      "Extracting parameters from /data0/practical-sose23/brain-age/data/lemon/LEMON_RAW/sub-010086/RSEEG/sub-010086.vhdr...\n",
      "Setting channel info structure...\n",
      "Reading 0 ... 2543099  =      0.000 ...  1017.240 secs...\n",
      "&&&&&&&&&&&&&&&:  62\n"
     ]
    },
    {
     "name": "stderr",
     "output_type": "stream",
     "text": [
      "\r",
      " 30%|███████████████████████████▍                                                                | 64/215 [02:07<05:59,  2.38s/it]"
     ]
    },
    {
     "name": "stdout",
     "output_type": "stream",
     "text": [
      "Extracting parameters from /data0/practical-sose23/brain-age/data/lemon/LEMON_RAW/sub-010166/RSEEG/sub-010166.vhdr...\n",
      "Setting channel info structure...\n",
      "Reading 0 ... 2552799  =      0.000 ...  1021.120 secs...\n",
      "&&&&&&&&&&&&&&&:  62\n"
     ]
    },
    {
     "name": "stderr",
     "output_type": "stream",
     "text": [
      "\r",
      " 30%|███████████████████████████▊                                                                | 65/215 [02:10<06:25,  2.57s/it]"
     ]
    },
    {
     "name": "stdout",
     "output_type": "stream",
     "text": [
      "Extracting parameters from /data0/practical-sose23/brain-age/data/lemon/LEMON_RAW/sub-010247/RSEEG/sub-010247.vhdr...\n",
      "Setting channel info structure...\n",
      "Reading 0 ... 2715049  =      0.000 ...  1086.020 secs...\n",
      "&&&&&&&&&&&&&&&:  62\n"
     ]
    },
    {
     "name": "stderr",
     "output_type": "stream",
     "text": [
      "\r",
      " 31%|████████████████████████████▏                                                               | 66/215 [02:12<06:20,  2.55s/it]"
     ]
    },
    {
     "name": "stdout",
     "output_type": "stream",
     "text": [
      "Extracting parameters from /data0/practical-sose23/brain-age/data/lemon/LEMON_RAW/sub-010317/RSEEG/sub-010317.vhdr...\n",
      "Setting channel info structure...\n",
      "Reading 0 ... 2693999  =      0.000 ...  1077.600 secs...\n",
      "&&&&&&&&&&&&&&&:  62\n"
     ]
    },
    {
     "name": "stderr",
     "output_type": "stream",
     "text": [
      "\r",
      " 31%|████████████████████████████▋                                                               | 67/215 [02:15<06:38,  2.69s/it]"
     ]
    },
    {
     "name": "stdout",
     "output_type": "stream",
     "text": [
      "Extracting parameters from /data0/practical-sose23/brain-age/data/lemon/LEMON_RAW/sub-010193/RSEEG/sub-010193.vhdr...\n",
      "Extracting parameters from /data0/practical-sose23/brain-age/data/lemon/LEMON_RAW/sub-010273/RSEEG/sub-010273.vhdr...\n",
      "Setting channel info structure...\n",
      "Reading 0 ... 2708049  =      0.000 ...  1083.220 secs...\n",
      "&&&&&&&&&&&&&&&:  62\n"
     ]
    },
    {
     "name": "stderr",
     "output_type": "stream",
     "text": [
      "\r",
      " 32%|█████████████████████████████▌                                                              | 69/215 [02:18<05:11,  2.13s/it]"
     ]
    },
    {
     "name": "stdout",
     "output_type": "stream",
     "text": [
      "Extracting parameters from /data0/practical-sose23/brain-age/data/lemon/LEMON_RAW/sub-010138/RSEEG/sub-010138.vhdr...\n",
      "Setting channel info structure...\n",
      "Reading 0 ... 2696349  =      0.000 ...  1078.540 secs...\n",
      "&&&&&&&&&&&&&&&:  62\n"
     ]
    },
    {
     "name": "stderr",
     "output_type": "stream",
     "text": [
      "\r",
      " 33%|█████████████████████████████▉                                                              | 70/215 [02:22<05:43,  2.37s/it]"
     ]
    },
    {
     "name": "stdout",
     "output_type": "stream",
     "text": [
      "Extracting parameters from /data0/practical-sose23/brain-age/data/lemon/LEMON_RAW/sub-010183/RSEEG/sub-010183.vhdr...\n",
      "Setting channel info structure...\n",
      "Reading 0 ... 2546199  =      0.000 ...  1018.480 secs...\n",
      "&&&&&&&&&&&&&&&:  62\n"
     ]
    },
    {
     "name": "stderr",
     "output_type": "stream",
     "text": [
      "\r",
      " 33%|██████████████████████████████▍                                                             | 71/215 [02:24<05:58,  2.49s/it]"
     ]
    },
    {
     "name": "stdout",
     "output_type": "stream",
     "text": [
      "Extracting parameters from /data0/practical-sose23/brain-age/data/lemon/LEMON_RAW/sub-010100/RSEEG/sub-010100.vhdr...\n",
      "Setting channel info structure...\n",
      "Reading 0 ... 2080238  =      0.000 ...   832.095 secs...\n"
     ]
    },
    {
     "name": "stderr",
     "output_type": "stream",
     "text": [
      "/tmp/ipykernel_3090442/2975309167.py:5: RuntimeWarning: Omitted 170 annotation(s) that were outside data range.\n",
      "  example_raw = mne.io.read_raw_brainvision(file_path, preload=True)\n"
     ]
    },
    {
     "name": "stdout",
     "output_type": "stream",
     "text": [
      "&&&&&&&&&&&&&&&:  62\n"
     ]
    },
    {
     "name": "stderr",
     "output_type": "stream",
     "text": [
      "\r",
      " 33%|██████████████████████████████▊                                                             | 72/215 [02:27<05:44,  2.41s/it]"
     ]
    },
    {
     "name": "stdout",
     "output_type": "stream",
     "text": [
      "Extracting parameters from /data0/practical-sose23/brain-age/data/lemon/LEMON_RAW/sub-010017/RSEEG/sub-010017.vhdr...\n",
      "Setting channel info structure...\n",
      "Reading 0 ... 2525249  =      0.000 ...  1010.100 secs...\n",
      "&&&&&&&&&&&&&&&:  62\n"
     ]
    },
    {
     "name": "stderr",
     "output_type": "stream",
     "text": [
      "\r",
      " 34%|███████████████████████████████▏                                                            | 73/215 [02:29<06:00,  2.54s/it]"
     ]
    },
    {
     "name": "stdout",
     "output_type": "stream",
     "text": [
      "Extracting parameters from /data0/practical-sose23/brain-age/data/lemon/LEMON_RAW/sub-010152/RSEEG/sub-010152.vhdr...\n",
      "Setting channel info structure...\n",
      "Reading 0 ... 2693799  =      0.000 ...  1077.520 secs...\n",
      "&&&&&&&&&&&&&&&:  62\n"
     ]
    },
    {
     "name": "stderr",
     "output_type": "stream",
     "text": [
      "\r",
      " 34%|███████████████████████████████▋                                                            | 74/215 [02:32<06:08,  2.62s/it]"
     ]
    },
    {
     "name": "stdout",
     "output_type": "stream",
     "text": [
      "Extracting parameters from /data0/practical-sose23/brain-age/data/lemon/LEMON_RAW/sub-010042/RSEEG/sub-010042.vhdr...\n",
      "Setting channel info structure...\n",
      "Reading 0 ... 2579999  =      0.000 ...  1032.000 secs...\n",
      "&&&&&&&&&&&&&&&:  62\n"
     ]
    },
    {
     "name": "stderr",
     "output_type": "stream",
     "text": [
      "\r",
      " 35%|████████████████████████████████                                                            | 75/215 [02:35<06:13,  2.67s/it]"
     ]
    },
    {
     "name": "stdout",
     "output_type": "stream",
     "text": [
      "Extracting parameters from /data0/practical-sose23/brain-age/data/lemon/LEMON_RAW/sub-010003/RSEEG/sub-010003.vhdr...\n",
      "Setting channel info structure...\n",
      "Reading 0 ... 2519849  =      0.000 ...  1007.940 secs...\n",
      "&&&&&&&&&&&&&&&:  62\n"
     ]
    },
    {
     "name": "stderr",
     "output_type": "stream",
     "text": [
      "\r",
      " 35%|████████████████████████████████▌                                                           | 76/215 [02:38<06:16,  2.71s/it]"
     ]
    },
    {
     "name": "stdout",
     "output_type": "stream",
     "text": [
      "Extracting parameters from /data0/practical-sose23/brain-age/data/lemon/LEMON_RAW/sub-010165/RSEEG/sub-010165.vhdr...\n",
      "Setting channel info structure...\n",
      "Reading 0 ... 2565699  =      0.000 ...  1026.280 secs...\n",
      "&&&&&&&&&&&&&&&:  62\n"
     ]
    },
    {
     "name": "stderr",
     "output_type": "stream",
     "text": [
      "\r",
      " 36%|████████████████████████████████▉                                                           | 77/215 [02:40<06:10,  2.69s/it]"
     ]
    },
    {
     "name": "stdout",
     "output_type": "stream",
     "text": [
      "Extracting parameters from /data0/practical-sose23/brain-age/data/lemon/LEMON_RAW/sub-010292/RSEEG/sub-010292.vhdr...\n",
      "Setting channel info structure...\n",
      "Reading 0 ... 2644149  =      0.000 ...  1057.660 secs...\n",
      "&&&&&&&&&&&&&&&:  62\n"
     ]
    },
    {
     "name": "stderr",
     "output_type": "stream",
     "text": [
      "\r",
      " 36%|█████████████████████████████████▍                                                          | 78/215 [02:43<06:09,  2.70s/it]"
     ]
    },
    {
     "name": "stdout",
     "output_type": "stream",
     "text": [
      "Extracting parameters from /data0/practical-sose23/brain-age/data/lemon/LEMON_RAW/sub-010315/RSEEG/sub-010315.vhdr...\n",
      "Setting channel info structure...\n",
      "Reading 0 ... 2890349  =      0.000 ...  1156.140 secs...\n",
      "&&&&&&&&&&&&&&&:  62\n"
     ]
    },
    {
     "name": "stderr",
     "output_type": "stream",
     "text": [
      "\r",
      " 37%|█████████████████████████████████▊                                                          | 79/215 [02:46<06:19,  2.79s/it]"
     ]
    },
    {
     "name": "stdout",
     "output_type": "stream",
     "text": [
      "Extracting parameters from /data0/practical-sose23/brain-age/data/lemon/LEMON_RAW/sub-010245/RSEEG/sub-010245.vhdr...\n",
      "Setting channel info structure...\n",
      "Reading 0 ... 2697999  =      0.000 ...  1079.200 secs...\n",
      "&&&&&&&&&&&&&&&:  62\n"
     ]
    },
    {
     "name": "stderr",
     "output_type": "stream",
     "text": [
      "\r",
      " 37%|██████████████████████████████████▏                                                         | 80/215 [02:49<06:18,  2.80s/it]"
     ]
    },
    {
     "name": "stdout",
     "output_type": "stream",
     "text": [
      "Extracting parameters from /data0/practical-sose23/brain-age/data/lemon/LEMON_RAW/sub-010271/RSEEG/sub-010271.vhdr...\n",
      "Setting channel info structure...\n",
      "Reading 0 ... 2756899  =      0.000 ...  1102.760 secs...\n",
      "&&&&&&&&&&&&&&&:  62\n"
     ]
    },
    {
     "name": "stderr",
     "output_type": "stream",
     "text": [
      "\r",
      " 38%|██████████████████████████████████▋                                                         | 81/215 [02:52<06:14,  2.80s/it]"
     ]
    },
    {
     "name": "stdout",
     "output_type": "stream",
     "text": [
      "Extracting parameters from /data0/practical-sose23/brain-age/data/lemon/LEMON_RAW/sub-010318/RSEEG/sub-010318.vhdr...\n",
      "Setting channel info structure...\n",
      "Reading 0 ... 2728149  =      0.000 ...  1091.260 secs...\n",
      "&&&&&&&&&&&&&&&:  62\n"
     ]
    },
    {
     "name": "stderr",
     "output_type": "stream",
     "text": [
      "\r",
      " 38%|███████████████████████████████████                                                         | 82/215 [02:55<06:14,  2.81s/it]"
     ]
    },
    {
     "name": "stdout",
     "output_type": "stream",
     "text": [
      "Extracting parameters from /data0/practical-sose23/brain-age/data/lemon/LEMON_RAW/sub-010137/RSEEG/sub-010137.vhdr...\n",
      "Setting channel info structure...\n",
      "Reading 0 ... 2852849  =      0.000 ...  1141.140 secs...\n",
      "&&&&&&&&&&&&&&&:  62\n"
     ]
    },
    {
     "name": "stderr",
     "output_type": "stream",
     "text": [
      "\r",
      " 39%|███████████████████████████████████▌                                                        | 83/215 [02:58<06:16,  2.85s/it]"
     ]
    },
    {
     "name": "stdout",
     "output_type": "stream",
     "text": [
      "Extracting parameters from /data0/practical-sose23/brain-age/data/lemon/LEMON_RAW/sub-010029/RSEEG/sub-010029.vhdr...\n",
      "Setting channel info structure...\n",
      "Reading 0 ... 2566349  =      0.000 ...  1026.540 secs...\n",
      "&&&&&&&&&&&&&&&:  62\n"
     ]
    },
    {
     "name": "stderr",
     "output_type": "stream",
     "text": [
      "\r",
      " 39%|███████████████████████████████████▉                                                        | 84/215 [03:00<06:02,  2.76s/it]"
     ]
    },
    {
     "name": "stdout",
     "output_type": "stream",
     "text": [
      "Extracting parameters from /data0/practical-sose23/brain-age/data/lemon/LEMON_RAW/sub-010191/RSEEG/sub-010191.vhdr...\n",
      "Setting channel info structure...\n",
      "Reading 0 ... 2839299  =      0.000 ...  1135.720 secs...\n",
      "&&&&&&&&&&&&&&&:  62\n"
     ]
    },
    {
     "name": "stderr",
     "output_type": "stream",
     "text": [
      "\r",
      " 40%|████████████████████████████████████▎                                                       | 85/215 [03:03<06:00,  2.77s/it]"
     ]
    },
    {
     "name": "stdout",
     "output_type": "stream",
     "text": [
      "Extracting parameters from /data0/practical-sose23/brain-age/data/lemon/LEMON_RAW/sub-010251/RSEEG/sub-010251.vhdr...\n",
      "Setting channel info structure...\n",
      "Reading 0 ... 2586899  =      0.000 ...  1034.760 secs...\n",
      "&&&&&&&&&&&&&&&:  62\n"
     ]
    },
    {
     "name": "stderr",
     "output_type": "stream",
     "text": [
      "\r",
      " 40%|████████████████████████████████████▊                                                       | 86/215 [03:06<05:54,  2.75s/it]"
     ]
    },
    {
     "name": "stdout",
     "output_type": "stream",
     "text": [
      "Extracting parameters from /data0/practical-sose23/brain-age/data/lemon/LEMON_RAW/sub-010062/RSEEG/sub-010062.vhdr...\n",
      "Setting channel info structure...\n",
      "Reading 0 ... 2584049  =      0.000 ...  1033.620 secs...\n",
      "&&&&&&&&&&&&&&&:  62\n"
     ]
    },
    {
     "name": "stderr",
     "output_type": "stream",
     "text": [
      "\r",
      " 40%|█████████████████████████████████████▏                                                      | 87/215 [03:08<05:39,  2.66s/it]"
     ]
    },
    {
     "name": "stdout",
     "output_type": "stream",
     "text": [
      "Extracting parameters from /data0/practical-sose23/brain-age/data/lemon/LEMON_RAW/sub-010020/RSEEG/sub-010020.vhdr...\n",
      "Extracting parameters from /data0/practical-sose23/brain-age/data/lemon/LEMON_RAW/sub-010289/RSEEG/sub-010289.vhdr...\n",
      "Setting channel info structure...\n",
      "Reading 0 ... 2888699  =      0.000 ...  1155.480 secs...\n",
      "&&&&&&&&&&&&&&&:  62\n"
     ]
    },
    {
     "name": "stderr",
     "output_type": "stream",
     "text": [
      "\r",
      " 41%|██████████████████████████████████████                                                      | 89/215 [03:11<04:24,  2.10s/it]"
     ]
    },
    {
     "name": "stdout",
     "output_type": "stream",
     "text": [
      "Extracting parameters from /data0/practical-sose23/brain-age/data/lemon/LEMON_RAW/sub-010300/RSEEG/sub-010300.vhdr...\n",
      "Setting channel info structure...\n",
      "Reading 0 ... 2607499  =      0.000 ...  1043.000 secs...\n",
      "&&&&&&&&&&&&&&&:  62\n"
     ]
    },
    {
     "name": "stderr",
     "output_type": "stream",
     "text": [
      "\r",
      " 42%|██████████████████████████████████████▌                                                     | 90/215 [03:14<04:38,  2.22s/it]"
     ]
    },
    {
     "name": "stdout",
     "output_type": "stream",
     "text": [
      "Extracting parameters from /data0/practical-sose23/brain-age/data/lemon/LEMON_RAW/sub-010216/RSEEG/sub-010216.vhdr...\n",
      "Setting channel info structure...\n",
      "Reading 0 ... 523979  =      0.000 ...  1047.958 secs...\n"
     ]
    },
    {
     "name": "stderr",
     "output_type": "stream",
     "text": [
      "/tmp/ipykernel_3090442/2975309167.py:5: RuntimeWarning: Online software filter detected. Using software filter settings and ignoring hardware values\n",
      "  example_raw = mne.io.read_raw_brainvision(file_path, preload=True)\n",
      " 42%|██████████████████████████████████████▉                                                     | 91/215 [03:14<03:45,  1.82s/it]"
     ]
    },
    {
     "name": "stdout",
     "output_type": "stream",
     "text": [
      "&&&&&&&&&&&&&&&:  62\n",
      "Extracting parameters from /data0/practical-sose23/brain-age/data/lemon/LEMON_RAW/sub-010050/RSEEG/sub-010050.vhdr...\n",
      "Setting channel info structure...\n",
      "Reading 0 ... 2599899  =      0.000 ...  1039.960 secs...\n",
      "&&&&&&&&&&&&&&&:  62\n"
     ]
    },
    {
     "name": "stderr",
     "output_type": "stream",
     "text": [
      "\r",
      " 43%|███████████████████████████████████████▎                                                    | 92/215 [03:17<04:06,  2.00s/it]"
     ]
    },
    {
     "name": "stdout",
     "output_type": "stream",
     "text": [
      "Extracting parameters from /data0/practical-sose23/brain-age/data/lemon/LEMON_RAW/sub-010275/RSEEG/sub-010275.vhdr...\n",
      "Setting channel info structure...\n",
      "Reading 0 ... 2545599  =      0.000 ...  1018.240 secs...\n",
      "&&&&&&&&&&&&&&&:  62\n"
     ]
    },
    {
     "name": "stderr",
     "output_type": "stream",
     "text": [
      "\r",
      " 43%|███████████████████████████████████████▊                                                    | 93/215 [03:19<04:16,  2.11s/it]"
     ]
    },
    {
     "name": "stdout",
     "output_type": "stream",
     "text": [
      "Extracting parameters from /data0/practical-sose23/brain-age/data/lemon/LEMON_RAW/sub-010157/RSEEG/sub-010157.vhdr...\n",
      "Setting channel info structure...\n",
      "Reading 0 ... 2648349  =      0.000 ...  1059.340 secs...\n",
      "&&&&&&&&&&&&&&&:  62\n"
     ]
    },
    {
     "name": "stderr",
     "output_type": "stream",
     "text": [
      "\r",
      " 44%|████████████████████████████████████████▏                                                   | 94/215 [03:22<04:32,  2.25s/it]"
     ]
    },
    {
     "name": "stdout",
     "output_type": "stream",
     "text": [
      "Extracting parameters from /data0/practical-sose23/brain-age/data/lemon/LEMON_RAW/sub-010091/RSEEG/sub-010091.vhdr...\n",
      "Setting channel info structure...\n",
      "Reading 0 ... 2663899  =      0.000 ...  1065.560 secs...\n",
      "&&&&&&&&&&&&&&&:  62\n"
     ]
    },
    {
     "name": "stderr",
     "output_type": "stream",
     "text": [
      "\r",
      " 44%|████████████████████████████████████████▋                                                   | 95/215 [03:24<04:39,  2.33s/it]"
     ]
    },
    {
     "name": "stdout",
     "output_type": "stream",
     "text": [
      "Extracting parameters from /data0/practical-sose23/brain-age/data/lemon/LEMON_RAW/sub-010290/RSEEG/sub-010290.vhdr...\n",
      "Setting channel info structure...\n",
      "Reading 0 ... 2610649  =      0.000 ...  1044.260 secs...\n",
      "&&&&&&&&&&&&&&&:  62\n"
     ]
    },
    {
     "name": "stderr",
     "output_type": "stream",
     "text": [
      "\r",
      " 45%|█████████████████████████████████████████                                                   | 96/215 [03:27<04:45,  2.40s/it]"
     ]
    },
    {
     "name": "stdout",
     "output_type": "stream",
     "text": [
      "Extracting parameters from /data0/practical-sose23/brain-age/data/lemon/LEMON_RAW/sub-010321/RSEEG/sub-010321.vhdr...\n",
      "Setting channel info structure...\n",
      "Reading 0 ... 2597649  =      0.000 ...  1039.060 secs...\n",
      "&&&&&&&&&&&&&&&:  62\n"
     ]
    },
    {
     "name": "stderr",
     "output_type": "stream",
     "text": [
      "\r",
      " 45%|█████████████████████████████████████████▌                                                  | 97/215 [03:29<04:45,  2.42s/it]"
     ]
    },
    {
     "name": "stdout",
     "output_type": "stream",
     "text": [
      "Extracting parameters from /data0/practical-sose23/brain-age/data/lemon/LEMON_RAW/sub-010005/RSEEG/sub-010005.vhdr...\n",
      "Setting channel info structure...\n",
      "Reading 0 ... 2741399  =      0.000 ...  1096.560 secs...\n",
      "&&&&&&&&&&&&&&&:  62\n"
     ]
    },
    {
     "name": "stderr",
     "output_type": "stream",
     "text": [
      "\r",
      " 46%|█████████████████████████████████████████▉                                                  | 98/215 [03:32<04:52,  2.50s/it]"
     ]
    },
    {
     "name": "stdout",
     "output_type": "stream",
     "text": [
      "Extracting parameters from /data0/practical-sose23/brain-age/data/lemon/LEMON_RAW/sub-010244/RSEEG/sub-010244.vhdr...\n",
      "Setting channel info structure...\n",
      "Reading 0 ... 2671899  =      0.000 ...  1068.760 secs...\n",
      "&&&&&&&&&&&&&&&:  62\n"
     ]
    },
    {
     "name": "stderr",
     "output_type": "stream",
     "text": [
      "\r",
      " 46%|██████████████████████████████████████████▎                                                 | 99/215 [03:34<04:49,  2.50s/it]"
     ]
    },
    {
     "name": "stdout",
     "output_type": "stream",
     "text": [
      "Extracting parameters from /data0/practical-sose23/brain-age/data/lemon/LEMON_RAW/sub-010222/RSEEG/sub-010222.vhdr...\n",
      "Setting channel info structure...\n",
      "Reading 0 ... 2553199  =      0.000 ...  1021.280 secs...\n",
      "&&&&&&&&&&&&&&&:  62\n"
     ]
    },
    {
     "name": "stderr",
     "output_type": "stream",
     "text": [
      "\r",
      " 47%|██████████████████████████████████████████▎                                                | 100/215 [03:37<04:39,  2.43s/it]"
     ]
    },
    {
     "name": "stdout",
     "output_type": "stream",
     "text": [
      "Extracting parameters from /data0/practical-sose23/brain-age/data/lemon/LEMON_RAW/sub-010234/RSEEG/sub-010234.vhdr...\n",
      "Setting channel info structure...\n",
      "Reading 0 ... 2501649  =      0.000 ...  1000.660 secs...\n",
      "&&&&&&&&&&&&&&&:  62\n"
     ]
    },
    {
     "name": "stderr",
     "output_type": "stream",
     "text": [
      "\r",
      " 47%|██████████████████████████████████████████▋                                                | 101/215 [03:39<04:36,  2.43s/it]"
     ]
    },
    {
     "name": "stdout",
     "output_type": "stream",
     "text": [
      "Extracting parameters from /data0/practical-sose23/brain-age/data/lemon/LEMON_RAW/sub-010163/RSEEG/sub-010163.vhdr...\n",
      "Setting channel info structure...\n",
      "Reading 0 ... 2660999  =      0.000 ...  1064.400 secs...\n",
      "&&&&&&&&&&&&&&&:  62\n"
     ]
    },
    {
     "name": "stderr",
     "output_type": "stream",
     "text": [
      "\r",
      " 47%|███████████████████████████████████████████▏                                               | 102/215 [03:42<04:39,  2.48s/it]"
     ]
    },
    {
     "name": "stdout",
     "output_type": "stream",
     "text": [
      "Extracting parameters from /data0/practical-sose23/brain-age/data/lemon/LEMON_RAW/sub-010002/RSEEG/sub-010002.vhdr...\n",
      "Setting channel info structure...\n",
      "Reading 0 ... 2554999  =      0.000 ...  1022.000 secs...\n",
      "&&&&&&&&&&&&&&&:  62\n"
     ]
    },
    {
     "name": "stderr",
     "output_type": "stream",
     "text": [
      "\r",
      " 48%|███████████████████████████████████████████▌                                               | 103/215 [03:44<04:34,  2.45s/it]"
     ]
    },
    {
     "name": "stdout",
     "output_type": "stream",
     "text": [
      "Extracting parameters from /data0/practical-sose23/brain-age/data/lemon/LEMON_RAW/sub-010203/RSEEG/sub-010203.vhdr...\n",
      "Setting channel info structure...\n",
      "Reading 0 ... 2643199  =      0.000 ...  1057.280 secs...\n"
     ]
    },
    {
     "name": "stderr",
     "output_type": "stream",
     "text": [
      "/tmp/ipykernel_3090442/2975309167.py:5: RuntimeWarning: Missing header in marker file.\n",
      "  example_raw = mne.io.read_raw_brainvision(file_path, preload=True)\n",
      "/tmp/ipykernel_3090442/2975309167.py:5: RuntimeWarning:     MNE-Python currently only supports marker versions 1.0 and 2.0, got unparsable     ''. Contact MNE-Python developers for support.\n",
      "  example_raw = mne.io.read_raw_brainvision(file_path, preload=True)\n"
     ]
    },
    {
     "name": "stdout",
     "output_type": "stream",
     "text": [
      "&&&&&&&&&&&&&&&:  62\n"
     ]
    },
    {
     "name": "stderr",
     "output_type": "stream",
     "text": [
      "\r",
      " 48%|████████████████████████████████████████████                                               | 104/215 [03:47<04:28,  2.42s/it]"
     ]
    },
    {
     "name": "stdout",
     "output_type": "stream",
     "text": [
      "Extracting parameters from /data0/practical-sose23/brain-age/data/lemon/LEMON_RAW/sub-010088/RSEEG/sub-010088.vhdr...\n",
      "Setting channel info structure...\n",
      "Reading 0 ... 2702599  =      0.000 ...  1081.040 secs...\n",
      "&&&&&&&&&&&&&&&:  62\n"
     ]
    },
    {
     "name": "stderr",
     "output_type": "stream",
     "text": [
      "\r",
      " 49%|████████████████████████████████████████████▍                                              | 105/215 [03:49<04:15,  2.33s/it]"
     ]
    },
    {
     "name": "stdout",
     "output_type": "stream",
     "text": [
      "Extracting parameters from /data0/practical-sose23/brain-age/data/lemon/LEMON_RAW/sub-010176/RSEEG/sub-010176.vhdr...\n",
      "Setting channel info structure...\n",
      "Reading 0 ... 2497749  =      0.000 ...   999.100 secs...\n",
      "&&&&&&&&&&&&&&&:  62\n"
     ]
    },
    {
     "name": "stderr",
     "output_type": "stream",
     "text": [
      "\r",
      " 49%|████████████████████████████████████████████▊                                              | 106/215 [03:52<04:34,  2.52s/it]"
     ]
    },
    {
     "name": "stdout",
     "output_type": "stream",
     "text": [
      "Extracting parameters from /data0/practical-sose23/brain-age/data/lemon/LEMON_RAW/sub-010126/RSEEG/sub-010126.vhdr...\n",
      "Setting channel info structure...\n",
      "Reading 0 ... 2640099  =      0.000 ...  1056.040 secs...\n",
      "&&&&&&&&&&&&&&&:  62\n"
     ]
    },
    {
     "name": "stderr",
     "output_type": "stream",
     "text": [
      "\r",
      " 50%|█████████████████████████████████████████████▎                                             | 107/215 [03:54<04:44,  2.63s/it]"
     ]
    },
    {
     "name": "stdout",
     "output_type": "stream",
     "text": [
      "Extracting parameters from /data0/practical-sose23/brain-age/data/lemon/LEMON_RAW/sub-010287/RSEEG/sub-010287.vhdr...\n",
      "Setting channel info structure...\n",
      "Reading 0 ... 2554499  =      0.000 ...  1021.800 secs...\n",
      "&&&&&&&&&&&&&&&:  62\n"
     ]
    },
    {
     "name": "stderr",
     "output_type": "stream",
     "text": [
      "\r",
      " 50%|█████████████████████████████████████████████▋                                             | 108/215 [03:57<04:50,  2.71s/it]"
     ]
    },
    {
     "name": "stdout",
     "output_type": "stream",
     "text": [
      "Extracting parameters from /data0/practical-sose23/brain-age/data/lemon/LEMON_RAW/sub-010296/RSEEG/sub-010296.vhdr...\n",
      "Setting channel info structure...\n",
      "Reading 0 ... 2746499  =      0.000 ...  1098.600 secs...\n",
      "&&&&&&&&&&&&&&&:  62\n"
     ]
    },
    {
     "name": "stderr",
     "output_type": "stream",
     "text": [
      "\r",
      " 51%|██████████████████████████████████████████████▏                                            | 109/215 [04:01<05:05,  2.88s/it]"
     ]
    },
    {
     "name": "stdout",
     "output_type": "stream",
     "text": [
      "Extracting parameters from /data0/practical-sose23/brain-age/data/lemon/LEMON_RAW/sub-010284/RSEEG/sub-010284.vhdr...\n",
      "Setting channel info structure...\n",
      "Reading 0 ... 2665799  =      0.000 ...  1066.320 secs...\n",
      "&&&&&&&&&&&&&&&:  62\n"
     ]
    },
    {
     "name": "stderr",
     "output_type": "stream",
     "text": [
      "\r",
      " 51%|██████████████████████████████████████████████▌                                            | 110/215 [04:03<04:52,  2.78s/it]"
     ]
    },
    {
     "name": "stdout",
     "output_type": "stream",
     "text": [
      "Extracting parameters from /data0/practical-sose23/brain-age/data/lemon/LEMON_RAW/sub-010227/RSEEG/sub-010227.vhdr...\n",
      "Setting channel info structure...\n",
      "Reading 0 ... 2669849  =      0.000 ...  1067.940 secs...\n",
      "&&&&&&&&&&&&&&&:  62\n"
     ]
    },
    {
     "name": "stderr",
     "output_type": "stream",
     "text": [
      "\r",
      " 52%|██████████████████████████████████████████████▉                                            | 111/215 [04:06<04:34,  2.64s/it]"
     ]
    },
    {
     "name": "stdout",
     "output_type": "stream",
     "text": [
      "Extracting parameters from /data0/practical-sose23/brain-age/data/lemon/LEMON_RAW/sub-010061/RSEEG/sub-010061.vhdr...\n",
      "Setting channel info structure...\n",
      "Reading 0 ... 2822549  =      0.000 ...  1129.020 secs...\n",
      "&&&&&&&&&&&&&&&:  62\n"
     ]
    },
    {
     "name": "stderr",
     "output_type": "stream",
     "text": [
      "\r",
      " 52%|███████████████████████████████████████████████▍                                           | 112/215 [04:08<04:39,  2.71s/it]"
     ]
    },
    {
     "name": "stdout",
     "output_type": "stream",
     "text": [
      "Extracting parameters from /data0/practical-sose23/brain-age/data/lemon/LEMON_RAW/sub-010136/RSEEG/sub-010136.vhdr...\n",
      "Setting channel info structure...\n",
      "Reading 0 ... 2613249  =      0.000 ...  1045.300 secs...\n",
      "&&&&&&&&&&&&&&&:  62\n"
     ]
    },
    {
     "name": "stderr",
     "output_type": "stream",
     "text": [
      "\r",
      " 53%|███████████████████████████████████████████████▊                                           | 113/215 [04:11<04:18,  2.54s/it]"
     ]
    },
    {
     "name": "stdout",
     "output_type": "stream",
     "text": [
      "Extracting parameters from /data0/practical-sose23/brain-age/data/lemon/LEMON_RAW/sub-010256/RSEEG/sub-010256.vhdr...\n",
      "Setting channel info structure...\n",
      "Reading 0 ... 2873999  =      0.000 ...  1149.600 secs...\n",
      "&&&&&&&&&&&&&&&:  62\n"
     ]
    },
    {
     "name": "stderr",
     "output_type": "stream",
     "text": [
      "\r",
      " 53%|████████████████████████████████████████████████▎                                          | 114/215 [04:13<04:12,  2.50s/it]"
     ]
    },
    {
     "name": "stdout",
     "output_type": "stream",
     "text": [
      "Extracting parameters from /data0/practical-sose23/brain-age/data/lemon/LEMON_RAW/sub-010254/RSEEG/sub-010254.vhdr...\n",
      "Setting channel info structure...\n",
      "Reading 0 ... 2712799  =      0.000 ...  1085.120 secs...\n",
      "&&&&&&&&&&&&&&&:  62\n"
     ]
    },
    {
     "name": "stderr",
     "output_type": "stream",
     "text": [
      "\r",
      " 53%|████████████████████████████████████████████████▋                                          | 115/215 [04:16<04:13,  2.54s/it]"
     ]
    },
    {
     "name": "stdout",
     "output_type": "stream",
     "text": [
      "Extracting parameters from /data0/practical-sose23/brain-age/data/lemon/LEMON_RAW/sub-010279/RSEEG/sub-010279.vhdr...\n",
      "Setting channel info structure...\n",
      "Reading 0 ... 1115539  =      0.000 ...  1115.539 secs...\n"
     ]
    },
    {
     "name": "stderr",
     "output_type": "stream",
     "text": [
      "\r",
      " 54%|█████████████████████████████████████████████████                                          | 116/215 [04:17<03:25,  2.07s/it]"
     ]
    },
    {
     "name": "stdout",
     "output_type": "stream",
     "text": [
      "&&&&&&&&&&&&&&&:  62\n",
      "Extracting parameters from /data0/practical-sose23/brain-age/data/lemon/LEMON_RAW/sub-010267/RSEEG/sub-010267.vhdr...\n",
      "Setting channel info structure...\n",
      "Reading 0 ... 3158899  =      0.000 ...  1263.560 secs...\n",
      "&&&&&&&&&&&&&&&:  62\n"
     ]
    },
    {
     "name": "stderr",
     "output_type": "stream",
     "text": [
      "\r",
      " 54%|█████████████████████████████████████████████████▌                                         | 117/215 [04:19<03:34,  2.19s/it]"
     ]
    },
    {
     "name": "stdout",
     "output_type": "stream",
     "text": [
      "Extracting parameters from /data0/practical-sose23/brain-age/data/lemon/LEMON_RAW/sub-010274/RSEEG/sub-010274.vhdr...\n",
      "Setting channel info structure...\n",
      "Reading 0 ... 2577599  =      0.000 ...  1031.040 secs...\n",
      "&&&&&&&&&&&&&&&:  62\n"
     ]
    },
    {
     "name": "stderr",
     "output_type": "stream",
     "text": [
      "\r",
      " 55%|█████████████████████████████████████████████████▉                                         | 118/215 [04:21<03:30,  2.17s/it]"
     ]
    },
    {
     "name": "stdout",
     "output_type": "stream",
     "text": [
      "Extracting parameters from /data0/practical-sose23/brain-age/data/lemon/LEMON_RAW/sub-010297/RSEEG/sub-010297.vhdr...\n",
      "Setting channel info structure...\n",
      "Reading 0 ... 2626949  =      0.000 ...  1050.780 secs...\n"
     ]
    },
    {
     "name": "stderr",
     "output_type": "stream",
     "text": [
      "\r",
      " 55%|██████████████████████████████████████████████████▎                                        | 119/215 [04:23<03:26,  2.16s/it]"
     ]
    },
    {
     "name": "stdout",
     "output_type": "stream",
     "text": [
      "&&&&&&&&&&&&&&&:  62\n",
      "Extracting parameters from /data0/practical-sose23/brain-age/data/lemon/LEMON_RAW/sub-010075/RSEEG/sub-010075.vhdr...\n",
      "Setting channel info structure...\n",
      "Reading 0 ... 2682949  =      0.000 ...  1073.180 secs...\n",
      "&&&&&&&&&&&&&&&:  62\n"
     ]
    },
    {
     "name": "stderr",
     "output_type": "stream",
     "text": [
      "\r",
      " 56%|██████████████████████████████████████████████████▊                                        | 120/215 [04:26<03:31,  2.23s/it]"
     ]
    },
    {
     "name": "stdout",
     "output_type": "stream",
     "text": [
      "Extracting parameters from /data0/practical-sose23/brain-age/data/lemon/LEMON_RAW/sub-010319/RSEEG/sub-010319.vhdr...\n",
      "Setting channel info structure...\n",
      "Reading 0 ... 2537249  =      0.000 ...  1014.900 secs...\n"
     ]
    },
    {
     "name": "stderr",
     "output_type": "stream",
     "text": [
      "\r",
      " 56%|███████████████████████████████████████████████████▏                                       | 121/215 [04:28<03:23,  2.16s/it]"
     ]
    },
    {
     "name": "stdout",
     "output_type": "stream",
     "text": [
      "&&&&&&&&&&&&&&&:  62\n",
      "Extracting parameters from /data0/practical-sose23/brain-age/data/lemon/LEMON_RAW/sub-010155/RSEEG/sub-010155.vhdr...\n",
      "Setting channel info structure...\n",
      "Reading 0 ... 2710849  =      0.000 ...  1084.340 secs...\n",
      "&&&&&&&&&&&&&&&:  62\n"
     ]
    },
    {
     "name": "stderr",
     "output_type": "stream",
     "text": [
      "\r",
      " 57%|███████████████████████████████████████████████████▋                                       | 122/215 [04:30<03:23,  2.18s/it]"
     ]
    },
    {
     "name": "stdout",
     "output_type": "stream",
     "text": [
      "Extracting parameters from /data0/practical-sose23/brain-age/data/lemon/LEMON_RAW/sub-010304/RSEEG/sub-010304.vhdr...\n",
      "Setting channel info structure...\n",
      "Reading 0 ... 2729499  =      0.000 ...  1091.800 secs...\n",
      "&&&&&&&&&&&&&&&:  62\n"
     ]
    },
    {
     "name": "stderr",
     "output_type": "stream",
     "text": [
      "\r",
      " 57%|████████████████████████████████████████████████████                                       | 123/215 [04:32<03:23,  2.21s/it]"
     ]
    },
    {
     "name": "stdout",
     "output_type": "stream",
     "text": [
      "Extracting parameters from /data0/practical-sose23/brain-age/data/lemon/LEMON_RAW/sub-010071/RSEEG/sub-010071.vhdr...\n",
      "Setting channel info structure...\n",
      "Reading 0 ... 2694049  =      0.000 ...  1077.620 secs...\n",
      "&&&&&&&&&&&&&&&:  62\n"
     ]
    },
    {
     "name": "stderr",
     "output_type": "stream",
     "text": [
      "\r",
      " 58%|████████████████████████████████████████████████████▍                                      | 124/215 [04:35<03:27,  2.28s/it]"
     ]
    },
    {
     "name": "stdout",
     "output_type": "stream",
     "text": [
      "Extracting parameters from /data0/practical-sose23/brain-age/data/lemon/LEMON_RAW/sub-010228/RSEEG/sub-010228.vhdr...\n",
      "Setting channel info structure...\n",
      "Reading 0 ... 2670299  =      0.000 ...  1068.120 secs...\n",
      "&&&&&&&&&&&&&&&:  62\n"
     ]
    },
    {
     "name": "stderr",
     "output_type": "stream",
     "text": [
      "\r",
      " 58%|████████████████████████████████████████████████████▉                                      | 125/215 [04:37<03:20,  2.22s/it]"
     ]
    },
    {
     "name": "stdout",
     "output_type": "stream",
     "text": [
      "Extracting parameters from /data0/practical-sose23/brain-age/data/lemon/LEMON_RAW/sub-010060/RSEEG/sub-010060.vhdr...\n",
      "Setting channel info structure...\n",
      "Reading 0 ... 2627049  =      0.000 ...  1050.820 secs...\n"
     ]
    },
    {
     "name": "stderr",
     "output_type": "stream",
     "text": [
      "\r",
      " 59%|█████████████████████████████████████████████████████▎                                     | 126/215 [04:39<03:15,  2.20s/it]"
     ]
    },
    {
     "name": "stdout",
     "output_type": "stream",
     "text": [
      "&&&&&&&&&&&&&&&:  62\n",
      "Extracting parameters from /data0/practical-sose23/brain-age/data/lemon/LEMON_RAW/sub-010049/RSEEG/sub-010049.vhdr...\n",
      "Setting channel info structure...\n",
      "Reading 0 ... 2536349  =      0.000 ...  1014.540 secs...\n"
     ]
    },
    {
     "name": "stderr",
     "output_type": "stream",
     "text": [
      "\r",
      " 59%|█████████████████████████████████████████████████████▊                                     | 127/215 [04:41<03:09,  2.15s/it]"
     ]
    },
    {
     "name": "stdout",
     "output_type": "stream",
     "text": [
      "&&&&&&&&&&&&&&&:  62\n",
      "Extracting parameters from /data0/practical-sose23/brain-age/data/lemon/LEMON_RAW/sub-010280/RSEEG/sub-010280.vhdr...\n",
      "Setting channel info structure...\n",
      "Reading 0 ... 1049539  =      0.000 ...  1049.539 secs...\n"
     ]
    },
    {
     "name": "stderr",
     "output_type": "stream",
     "text": [
      "\r",
      " 60%|██████████████████████████████████████████████████████▏                                    | 128/215 [04:42<02:42,  1.87s/it]"
     ]
    },
    {
     "name": "stdout",
     "output_type": "stream",
     "text": [
      "&&&&&&&&&&&&&&&:  62\n",
      "Extracting parameters from /data0/practical-sose23/brain-age/data/lemon/LEMON_RAW/sub-010301/RSEEG/sub-010301.vhdr...\n",
      "Setting channel info structure...\n",
      "Reading 0 ... 2547299  =      0.000 ...  1018.920 secs...\n",
      "&&&&&&&&&&&&&&&:  62\n"
     ]
    },
    {
     "name": "stderr",
     "output_type": "stream",
     "text": [
      "\r",
      " 60%|██████████████████████████████████████████████████████▌                                    | 129/215 [04:44<02:46,  1.93s/it]"
     ]
    },
    {
     "name": "stdout",
     "output_type": "stream",
     "text": [
      "Extracting parameters from /data0/practical-sose23/brain-age/data/lemon/LEMON_RAW/sub-010063/RSEEG/sub-010063.vhdr...\n",
      "Setting channel info structure...\n",
      "Reading 0 ... 2680149  =      0.000 ...  1072.060 secs...\n",
      "&&&&&&&&&&&&&&&:  62\n"
     ]
    },
    {
     "name": "stderr",
     "output_type": "stream",
     "text": [
      "\r",
      " 60%|███████████████████████████████████████████████████████                                    | 130/215 [04:46<02:48,  1.98s/it]"
     ]
    },
    {
     "name": "stdout",
     "output_type": "stream",
     "text": [
      "Extracting parameters from /data0/practical-sose23/brain-age/data/lemon/LEMON_RAW/sub-010264/RSEEG/sub-010264.vhdr...\n",
      "Setting channel info structure...\n",
      "Reading 0 ... 2679299  =      0.000 ...  1071.720 secs...\n"
     ]
    },
    {
     "name": "stderr",
     "output_type": "stream",
     "text": [
      "\r",
      " 61%|███████████████████████████████████████████████████████▍                                   | 131/215 [04:48<02:50,  2.03s/it]"
     ]
    },
    {
     "name": "stdout",
     "output_type": "stream",
     "text": [
      "&&&&&&&&&&&&&&&:  62\n",
      "Extracting parameters from /data0/practical-sose23/brain-age/data/lemon/LEMON_RAW/sub-010004/RSEEG/sub-010004.vhdr...\n",
      "Setting channel info structure...\n",
      "Reading 0 ... 2555099  =      0.000 ...  1022.040 secs...\n",
      "&&&&&&&&&&&&&&&:  62\n"
     ]
    },
    {
     "name": "stderr",
     "output_type": "stream",
     "text": [
      "\r",
      " 61%|███████████████████████████████████████████████████████▊                                   | 132/215 [04:51<02:54,  2.11s/it]"
     ]
    },
    {
     "name": "stdout",
     "output_type": "stream",
     "text": [
      "Extracting parameters from /data0/practical-sose23/brain-age/data/lemon/LEMON_RAW/sub-010241/RSEEG/sub-010241.vhdr...\n",
      "Setting channel info structure...\n",
      "Reading 0 ... 2550799  =      0.000 ...  1020.320 secs...\n",
      "&&&&&&&&&&&&&&&:  62\n"
     ]
    },
    {
     "name": "stderr",
     "output_type": "stream",
     "text": [
      "\r",
      " 62%|████████████████████████████████████████████████████████▎                                  | 133/215 [04:53<02:56,  2.15s/it]"
     ]
    },
    {
     "name": "stdout",
     "output_type": "stream",
     "text": [
      "Extracting parameters from /data0/practical-sose23/brain-age/data/lemon/LEMON_RAW/sub-010032/RSEEG/sub-010032.vhdr...\n",
      "Setting channel info structure...\n",
      "Reading 0 ... 2503299  =      0.000 ...  1001.320 secs...\n"
     ]
    },
    {
     "name": "stderr",
     "output_type": "stream",
     "text": [
      "\r",
      " 62%|████████████████████████████████████████████████████████▋                                  | 134/215 [04:55<02:51,  2.12s/it]"
     ]
    },
    {
     "name": "stdout",
     "output_type": "stream",
     "text": [
      "&&&&&&&&&&&&&&&:  62\n",
      "Extracting parameters from /data0/practical-sose23/brain-age/data/lemon/LEMON_RAW/sub-010238/RSEEG/sub-010238.vhdr...\n",
      "Setting channel info structure...\n",
      "Reading 0 ... 2722249  =      0.000 ...  1088.900 secs...\n",
      "&&&&&&&&&&&&&&&:  62\n"
     ]
    },
    {
     "name": "stderr",
     "output_type": "stream",
     "text": [
      "\r",
      " 63%|█████████████████████████████████████████████████████████▏                                 | 135/215 [04:57<02:53,  2.17s/it]"
     ]
    },
    {
     "name": "stdout",
     "output_type": "stream",
     "text": [
      "Extracting parameters from /data0/practical-sose23/brain-age/data/lemon/LEMON_RAW/sub-010194/RSEEG/sub-010194.vhdr...\n",
      "Setting channel info structure...\n",
      "Reading 0 ... 2713749  =      0.000 ...  1085.500 secs...\n",
      "&&&&&&&&&&&&&&&:  62\n"
     ]
    },
    {
     "name": "stderr",
     "output_type": "stream",
     "text": [
      "\r",
      " 63%|█████████████████████████████████████████████████████████▌                                 | 136/215 [05:00<03:00,  2.28s/it]"
     ]
    },
    {
     "name": "stdout",
     "output_type": "stream",
     "text": [
      "Extracting parameters from /data0/practical-sose23/brain-age/data/lemon/LEMON_RAW/sub-010257/RSEEG/sub-010257.vhdr...\n",
      "Setting channel info structure...\n",
      "Reading 0 ... 2716349  =      0.000 ...  1086.540 secs...\n"
     ]
    },
    {
     "name": "stderr",
     "output_type": "stream",
     "text": [
      "\r",
      " 64%|█████████████████████████████████████████████████████████▉                                 | 137/215 [05:02<02:54,  2.24s/it]"
     ]
    },
    {
     "name": "stdout",
     "output_type": "stream",
     "text": [
      "&&&&&&&&&&&&&&&:  62\n",
      "Extracting parameters from /data0/practical-sose23/brain-age/data/lemon/LEMON_RAW/sub-010164/RSEEG/sub-010164.vhdr...\n",
      "Setting channel info structure...\n",
      "Reading 0 ... 2623749  =      0.000 ...  1049.500 secs...\n"
     ]
    },
    {
     "name": "stderr",
     "output_type": "stream",
     "text": [
      "\r",
      " 64%|██████████████████████████████████████████████████████████▍                                | 138/215 [05:04<02:50,  2.21s/it]"
     ]
    },
    {
     "name": "stdout",
     "output_type": "stream",
     "text": [
      "&&&&&&&&&&&&&&&:  62\n",
      "Extracting parameters from /data0/practical-sose23/brain-age/data/lemon/LEMON_RAW/sub-010230/RSEEG/sub-010230.vhdr...\n",
      "Setting channel info structure...\n",
      "Reading 0 ... 2777799  =      0.000 ...  1111.120 secs...\n",
      "&&&&&&&&&&&&&&&:  62\n"
     ]
    },
    {
     "name": "stderr",
     "output_type": "stream",
     "text": [
      "\r",
      " 65%|██████████████████████████████████████████████████████████▊                                | 139/215 [05:06<02:50,  2.24s/it]"
     ]
    },
    {
     "name": "stdout",
     "output_type": "stream",
     "text": [
      "Extracting parameters from /data0/practical-sose23/brain-age/data/lemon/LEMON_RAW/sub-010084/RSEEG/sub-010084.vhdr...\n",
      "Setting channel info structure...\n",
      "Reading 0 ... 2796049  =      0.000 ...  1118.420 secs...\n",
      "&&&&&&&&&&&&&&&:  62\n"
     ]
    },
    {
     "name": "stderr",
     "output_type": "stream",
     "text": [
      "\r",
      " 65%|███████████████████████████████████████████████████████████▎                               | 140/215 [05:09<02:57,  2.36s/it]"
     ]
    },
    {
     "name": "stdout",
     "output_type": "stream",
     "text": [
      "Extracting parameters from /data0/practical-sose23/brain-age/data/lemon/LEMON_RAW/sub-010064/RSEEG/sub-010064.vhdr...\n",
      "Setting channel info structure...\n",
      "Reading 0 ... 2708599  =      0.000 ...  1083.440 secs...\n"
     ]
    },
    {
     "name": "stderr",
     "output_type": "stream",
     "text": [
      "\r",
      " 66%|███████████████████████████████████████████████████████████▋                               | 141/215 [05:11<02:50,  2.30s/it]"
     ]
    },
    {
     "name": "stdout",
     "output_type": "stream",
     "text": [
      "&&&&&&&&&&&&&&&:  62\n",
      "Extracting parameters from /data0/practical-sose23/brain-age/data/lemon/LEMON_RAW/sub-010249/RSEEG/sub-010249.vhdr...\n",
      "Setting channel info structure...\n",
      "Reading 0 ... 2590899  =      0.000 ...  1036.360 secs...\n",
      "&&&&&&&&&&&&&&&:  62\n"
     ]
    },
    {
     "name": "stderr",
     "output_type": "stream",
     "text": [
      "\r",
      " 66%|████████████████████████████████████████████████████████████                               | 142/215 [05:13<02:44,  2.26s/it]"
     ]
    },
    {
     "name": "stdout",
     "output_type": "stream",
     "text": [
      "Extracting parameters from /data0/practical-sose23/brain-age/data/lemon/LEMON_RAW/sub-010148/RSEEG/sub-010148.vhdr...\n",
      "Setting channel info structure...\n",
      "Reading 0 ... 2592899  =      0.000 ...  1037.160 secs...\n"
     ]
    },
    {
     "name": "stderr",
     "output_type": "stream",
     "text": [
      "\r",
      " 67%|████████████████████████████████████████████████████████████▌                              | 143/215 [05:15<02:37,  2.19s/it]"
     ]
    },
    {
     "name": "stdout",
     "output_type": "stream",
     "text": [
      "&&&&&&&&&&&&&&&:  62\n",
      "Extracting parameters from /data0/practical-sose23/brain-age/data/lemon/LEMON_RAW/sub-010295/RSEEG/sub-010295.vhdr...\n",
      "Setting channel info structure...\n",
      "Reading 0 ... 2658849  =      0.000 ...  1063.540 secs...\n"
     ]
    },
    {
     "name": "stderr",
     "output_type": "stream",
     "text": [
      "\r",
      " 67%|████████████████████████████████████████████████████████████▉                              | 144/215 [05:18<02:41,  2.28s/it]"
     ]
    },
    {
     "name": "stdout",
     "output_type": "stream",
     "text": [
      "&&&&&&&&&&&&&&&:  62\n",
      "Extracting parameters from /data0/practical-sose23/brain-age/data/lemon/LEMON_RAW/sub-010307/RSEEG/sub-010307.vhdr...\n",
      "Setting channel info structure...\n",
      "Reading 0 ... 2587549  =      0.000 ...  1035.020 secs...\n"
     ]
    },
    {
     "name": "stderr",
     "output_type": "stream",
     "text": [
      "\r",
      " 67%|█████████████████████████████████████████████████████████████▎                             | 145/215 [05:20<02:33,  2.20s/it]"
     ]
    },
    {
     "name": "stdout",
     "output_type": "stream",
     "text": [
      "&&&&&&&&&&&&&&&:  62\n",
      "Extracting parameters from /data0/practical-sose23/brain-age/data/lemon/LEMON_RAW/sub-010298/RSEEG/sub-010298.vhdr...\n",
      "Setting channel info structure...\n",
      "Reading 0 ... 2592199  =      0.000 ...  1036.880 secs...\n",
      "&&&&&&&&&&&&&&&:  62\n"
     ]
    },
    {
     "name": "stderr",
     "output_type": "stream",
     "text": [
      "\r",
      " 68%|█████████████████████████████████████████████████████████████▊                             | 146/215 [05:22<02:28,  2.16s/it]"
     ]
    },
    {
     "name": "stdout",
     "output_type": "stream",
     "text": [
      "Extracting parameters from /data0/practical-sose23/brain-age/data/lemon/LEMON_RAW/sub-010214/RSEEG/sub-010214.vhdr...\n",
      "Setting channel info structure...\n",
      "Reading 0 ... 2663199  =      0.000 ...  1065.280 secs...\n"
     ]
    },
    {
     "name": "stderr",
     "output_type": "stream",
     "text": [
      "\r",
      " 68%|██████████████████████████████████████████████████████████████▏                            | 147/215 [05:24<02:24,  2.13s/it]"
     ]
    },
    {
     "name": "stdout",
     "output_type": "stream",
     "text": [
      "&&&&&&&&&&&&&&&:  62\n",
      "Extracting parameters from /data0/practical-sose23/brain-age/data/lemon/LEMON_RAW/sub-010310/RSEEG/sub-010310.vhdr...\n",
      "Setting channel info structure...\n",
      "Reading 0 ... 2720149  =      0.000 ...  1088.060 secs...\n",
      "&&&&&&&&&&&&&&&:  62\n"
     ]
    },
    {
     "name": "stderr",
     "output_type": "stream",
     "text": [
      "\r",
      " 69%|██████████████████████████████████████████████████████████████▋                            | 148/215 [05:27<02:30,  2.25s/it]"
     ]
    },
    {
     "name": "stdout",
     "output_type": "stream",
     "text": [
      "Extracting parameters from /data0/practical-sose23/brain-age/data/lemon/LEMON_RAW/sub-010048/RSEEG/sub-010048.vhdr...\n",
      "Setting channel info structure...\n",
      "Reading 0 ... 2526549  =      0.000 ...  1010.620 secs...\n"
     ]
    },
    {
     "name": "stderr",
     "output_type": "stream",
     "text": [
      "\r",
      " 69%|███████████████████████████████████████████████████████████████                            | 149/215 [05:29<02:25,  2.20s/it]"
     ]
    },
    {
     "name": "stdout",
     "output_type": "stream",
     "text": [
      "&&&&&&&&&&&&&&&:  62\n",
      "Extracting parameters from /data0/practical-sose23/brain-age/data/lemon/LEMON_RAW/sub-010196/RSEEG/sub-010196.vhdr...\n",
      "Setting channel info structure...\n",
      "Reading 0 ... 2669899  =      0.000 ...  1067.960 secs...\n",
      "&&&&&&&&&&&&&&&:  62\n"
     ]
    },
    {
     "name": "stderr",
     "output_type": "stream",
     "text": [
      "\r",
      " 70%|███████████████████████████████████████████████████████████████▍                           | 150/215 [05:31<02:21,  2.18s/it]"
     ]
    },
    {
     "name": "stdout",
     "output_type": "stream",
     "text": [
      "Extracting parameters from /data0/practical-sose23/brain-age/data/lemon/LEMON_RAW/sub-010231/RSEEG/sub-010231.vhdr...\n",
      "Setting channel info structure...\n",
      "Reading 0 ... 2739649  =      0.000 ...  1095.860 secs...\n",
      "&&&&&&&&&&&&&&&:  62\n"
     ]
    },
    {
     "name": "stderr",
     "output_type": "stream",
     "text": [
      "\r",
      " 70%|███████████████████████████████████████████████████████████████▉                           | 151/215 [05:33<02:20,  2.20s/it]"
     ]
    },
    {
     "name": "stdout",
     "output_type": "stream",
     "text": [
      "Extracting parameters from /data0/practical-sose23/brain-age/data/lemon/LEMON_RAW/sub-010146/RSEEG/sub-010146.vhdr...\n",
      "Setting channel info structure...\n",
      "Reading 0 ... 2729749  =      0.000 ...  1091.900 secs...\n",
      "&&&&&&&&&&&&&&&:  62\n"
     ]
    },
    {
     "name": "stderr",
     "output_type": "stream",
     "text": [
      "\r",
      " 71%|████████████████████████████████████████████████████████████████▎                          | 152/215 [05:36<02:25,  2.31s/it]"
     ]
    },
    {
     "name": "stdout",
     "output_type": "stream",
     "text": [
      "Extracting parameters from /data0/practical-sose23/brain-age/data/lemon/LEMON_RAW/sub-010215/RSEEG/sub-010215.vhdr...\n",
      "Setting channel info structure...\n",
      "Reading 0 ... 2713099  =      0.000 ...  1085.240 secs...\n"
     ]
    },
    {
     "name": "stderr",
     "output_type": "stream",
     "text": [
      "\r",
      " 71%|████████████████████████████████████████████████████████████████▊                          | 153/215 [05:38<02:20,  2.27s/it]"
     ]
    },
    {
     "name": "stdout",
     "output_type": "stream",
     "text": [
      "&&&&&&&&&&&&&&&:  62\n",
      "Extracting parameters from /data0/practical-sose23/brain-age/data/lemon/LEMON_RAW/sub-010038/RSEEG/sub-010038.vhdr...\n",
      "Setting channel info structure...\n",
      "Reading 0 ... 2691799  =      0.000 ...  1076.720 secs...\n",
      "&&&&&&&&&&&&&&&:  62\n"
     ]
    },
    {
     "name": "stderr",
     "output_type": "stream",
     "text": [
      "\r",
      " 72%|█████████████████████████████████████████████████████████████████▏                         | 154/215 [05:40<02:17,  2.25s/it]"
     ]
    },
    {
     "name": "stdout",
     "output_type": "stream",
     "text": [
      "Extracting parameters from /data0/practical-sose23/brain-age/data/lemon/LEMON_RAW/sub-010168/RSEEG/sub-010168.vhdr...\n",
      "Setting channel info structure...\n",
      "Reading 0 ... 2567799  =      0.000 ...  1027.120 secs...\n"
     ]
    },
    {
     "name": "stderr",
     "output_type": "stream",
     "text": [
      "\r",
      " 72%|█████████████████████████████████████████████████████████████████▌                         | 155/215 [05:42<02:10,  2.18s/it]"
     ]
    },
    {
     "name": "stdout",
     "output_type": "stream",
     "text": [
      "&&&&&&&&&&&&&&&:  62\n",
      "Extracting parameters from /data0/practical-sose23/brain-age/data/lemon/LEMON_RAW/sub-010087/RSEEG/sub-010087.vhdr...\n",
      "Setting channel info structure...\n",
      "Reading 0 ... 2643699  =      0.000 ...  1057.480 secs...\n"
     ]
    },
    {
     "name": "stderr",
     "output_type": "stream",
     "text": [
      "\r",
      " 73%|██████████████████████████████████████████████████████████████████                         | 156/215 [05:45<02:14,  2.29s/it]"
     ]
    },
    {
     "name": "stdout",
     "output_type": "stream",
     "text": [
      "&&&&&&&&&&&&&&&:  62\n",
      "Extracting parameters from /data0/practical-sose23/brain-age/data/lemon/LEMON_RAW/sub-010052/RSEEG/sub-010052.vhdr...\n",
      "Setting channel info structure...\n",
      "Reading 0 ... 2806199  =      0.000 ...  1122.480 secs...\n",
      "&&&&&&&&&&&&&&&:  62\n"
     ]
    },
    {
     "name": "stderr",
     "output_type": "stream",
     "text": [
      "\r",
      " 73%|██████████████████████████████████████████████████████████████████▍                        | 157/215 [05:47<02:12,  2.29s/it]"
     ]
    },
    {
     "name": "stdout",
     "output_type": "stream",
     "text": [
      "Extracting parameters from /data0/practical-sose23/brain-age/data/lemon/LEMON_RAW/sub-010291/RSEEG/sub-010291.vhdr...\n",
      "Setting channel info structure...\n",
      "Reading 0 ... 2683999  =      0.000 ...  1073.600 secs...\n",
      "&&&&&&&&&&&&&&&:  62\n"
     ]
    },
    {
     "name": "stderr",
     "output_type": "stream",
     "text": [
      "\r",
      " 73%|██████████████████████████████████████████████████████████████████▊                        | 158/215 [05:49<02:11,  2.31s/it]"
     ]
    },
    {
     "name": "stdout",
     "output_type": "stream",
     "text": [
      "Extracting parameters from /data0/practical-sose23/brain-age/data/lemon/LEMON_RAW/sub-010199/RSEEG/sub-010199.vhdr...\n",
      "Setting channel info structure...\n",
      "Reading 0 ... 2543849  =      0.000 ...  1017.540 secs...\n",
      "&&&&&&&&&&&&&&&:  62\n"
     ]
    },
    {
     "name": "stderr",
     "output_type": "stream",
     "text": [
      "\r",
      " 74%|███████████████████████████████████████████████████████████████████▎                       | 159/215 [05:52<02:11,  2.35s/it]"
     ]
    },
    {
     "name": "stdout",
     "output_type": "stream",
     "text": [
      "Extracting parameters from /data0/practical-sose23/brain-age/data/lemon/LEMON_RAW/sub-010195/RSEEG/sub-010195.vhdr...\n",
      "Setting channel info structure...\n",
      "Reading 0 ... 2654649  =      0.000 ...  1061.860 secs...\n",
      "&&&&&&&&&&&&&&&:  62\n"
     ]
    },
    {
     "name": "stderr",
     "output_type": "stream",
     "text": [
      "\r",
      " 74%|███████████████████████████████████████████████████████████████████▋                       | 160/215 [05:54<02:11,  2.39s/it]"
     ]
    },
    {
     "name": "stdout",
     "output_type": "stream",
     "text": [
      "Extracting parameters from /data0/practical-sose23/brain-age/data/lemon/LEMON_RAW/sub-010302/RSEEG/sub-010302.vhdr...\n",
      "Setting channel info structure...\n",
      "Reading 0 ... 2632949  =      0.000 ...  1053.180 secs...\n",
      "&&&&&&&&&&&&&&&:  62\n"
     ]
    },
    {
     "name": "stderr",
     "output_type": "stream",
     "text": [
      "\r",
      " 75%|████████████████████████████████████████████████████████████████████▏                      | 161/215 [05:56<02:06,  2.34s/it]"
     ]
    },
    {
     "name": "stdout",
     "output_type": "stream",
     "text": [
      "Extracting parameters from /data0/practical-sose23/brain-age/data/lemon/LEMON_RAW/sub-010068/RSEEG/sub-010068.vhdr...\n",
      "Setting channel info structure...\n",
      "Reading 0 ... 2648149  =      0.000 ...  1059.260 secs...\n"
     ]
    },
    {
     "name": "stderr",
     "output_type": "stream",
     "text": [
      "\r",
      " 75%|████████████████████████████████████████████████████████████████████▌                      | 162/215 [05:59<02:01,  2.30s/it]"
     ]
    },
    {
     "name": "stdout",
     "output_type": "stream",
     "text": [
      "&&&&&&&&&&&&&&&:  62\n",
      "Extracting parameters from /data0/practical-sose23/brain-age/data/lemon/LEMON_RAW/sub-010255/RSEEG/sub-010255.vhdr...\n",
      "Setting channel info structure...\n",
      "Reading 0 ... 2651749  =      0.000 ...  1060.700 secs...\n",
      "&&&&&&&&&&&&&&&:  62\n"
     ]
    },
    {
     "name": "stderr",
     "output_type": "stream",
     "text": [
      "\r",
      " 76%|████████████████████████████████████████████████████████████████████▉                      | 163/215 [06:01<02:03,  2.37s/it]"
     ]
    },
    {
     "name": "stdout",
     "output_type": "stream",
     "text": [
      "Extracting parameters from /data0/practical-sose23/brain-age/data/lemon/LEMON_RAW/sub-010031/RSEEG/sub-010031.vhdr...\n",
      "Setting channel info structure...\n",
      "Reading 0 ... 2604849  =      0.000 ...  1041.940 secs...\n"
     ]
    },
    {
     "name": "stderr",
     "output_type": "stream",
     "text": [
      "\r",
      " 76%|█████████████████████████████████████████████████████████████████████▍                     | 164/215 [06:03<01:58,  2.32s/it]"
     ]
    },
    {
     "name": "stdout",
     "output_type": "stream",
     "text": [
      "&&&&&&&&&&&&&&&:  62\n",
      "Extracting parameters from /data0/practical-sose23/brain-age/data/lemon/LEMON_RAW/sub-010053/RSEEG/sub-010053.vhdr...\n",
      "Setting channel info structure...\n",
      "Reading 0 ... 2554699  =      0.000 ...  1021.880 secs...\n",
      "&&&&&&&&&&&&&&&:  62\n"
     ]
    },
    {
     "name": "stderr",
     "output_type": "stream",
     "text": [
      "\r",
      " 77%|█████████████████████████████████████████████████████████████████████▊                     | 165/215 [06:05<01:52,  2.24s/it]"
     ]
    },
    {
     "name": "stdout",
     "output_type": "stream",
     "text": [
      "Extracting parameters from /data0/practical-sose23/brain-age/data/lemon/LEMON_RAW/sub-010142/RSEEG/sub-010142.vhdr...\n",
      "Setting channel info structure...\n",
      "Reading 0 ... 2568599  =      0.000 ...  1027.440 secs...\n",
      "&&&&&&&&&&&&&&&:  62\n"
     ]
    },
    {
     "name": "stderr",
     "output_type": "stream",
     "text": [
      "\r",
      " 77%|██████████████████████████████████████████████████████████████████████▎                    | 166/215 [06:07<01:47,  2.20s/it]"
     ]
    },
    {
     "name": "stdout",
     "output_type": "stream",
     "text": [
      "Extracting parameters from /data0/practical-sose23/brain-age/data/lemon/LEMON_RAW/sub-010074/RSEEG/sub-010074.vhdr...\n",
      "Setting channel info structure...\n",
      "Reading 0 ... 2688499  =      0.000 ...  1075.400 secs...\n",
      "&&&&&&&&&&&&&&&:  62\n"
     ]
    },
    {
     "name": "stderr",
     "output_type": "stream",
     "text": [
      "\r",
      " 78%|██████████████████████████████████████████████████████████████████████▋                    | 167/215 [06:10<01:44,  2.18s/it]"
     ]
    },
    {
     "name": "stdout",
     "output_type": "stream",
     "text": [
      "Extracting parameters from /data0/practical-sose23/brain-age/data/lemon/LEMON_RAW/sub-010016/RSEEG/sub-010016.vhdr...\n",
      "Setting channel info structure...\n",
      "Reading 0 ... 2523649  =      0.000 ...  1009.460 secs...\n"
     ]
    },
    {
     "name": "stderr",
     "output_type": "stream",
     "text": [
      "\r",
      " 78%|███████████████████████████████████████████████████████████████████████                    | 168/215 [06:12<01:47,  2.28s/it]"
     ]
    },
    {
     "name": "stdout",
     "output_type": "stream",
     "text": [
      "&&&&&&&&&&&&&&&:  62\n",
      "Extracting parameters from /data0/practical-sose23/brain-age/data/lemon/LEMON_RAW/sub-010240/RSEEG/sub-010240.vhdr...\n",
      "Setting channel info structure...\n",
      "Reading 0 ... 2666549  =      0.000 ...  1066.620 secs...\n",
      "&&&&&&&&&&&&&&&:  62\n"
     ]
    },
    {
     "name": "stderr",
     "output_type": "stream",
     "text": [
      "\r",
      " 79%|███████████████████████████████████████████████████████████████████████▌                   | 169/215 [06:14<01:43,  2.25s/it]"
     ]
    },
    {
     "name": "stdout",
     "output_type": "stream",
     "text": [
      "Extracting parameters from /data0/practical-sose23/brain-age/data/lemon/LEMON_RAW/sub-010034/RSEEG/sub-010034.vhdr...\n",
      "Setting channel info structure...\n",
      "Reading 0 ... 2604899  =      0.000 ...  1041.960 secs...\n"
     ]
    },
    {
     "name": "stderr",
     "output_type": "stream",
     "text": [
      "\r",
      " 79%|███████████████████████████████████████████████████████████████████████▉                   | 170/215 [06:16<01:40,  2.22s/it]"
     ]
    },
    {
     "name": "stdout",
     "output_type": "stream",
     "text": [
      "&&&&&&&&&&&&&&&:  62\n",
      "Extracting parameters from /data0/practical-sose23/brain-age/data/lemon/LEMON_RAW/sub-010134/RSEEG/sub-010134.vhdr...\n",
      "Setting channel info structure...\n",
      "Reading 0 ... 2528399  =      0.000 ...  1011.360 secs...\n",
      "&&&&&&&&&&&&&&&:  62\n"
     ]
    },
    {
     "name": "stderr",
     "output_type": "stream",
     "text": [
      "\r",
      " 80%|████████████████████████████████████████████████████████████████████████▍                  | 171/215 [06:19<01:36,  2.20s/it]"
     ]
    },
    {
     "name": "stdout",
     "output_type": "stream",
     "text": [
      "Extracting parameters from /data0/practical-sose23/brain-age/data/lemon/LEMON_RAW/sub-010081/RSEEG/sub-010081.vhdr...\n",
      "Setting channel info structure...\n",
      "Reading 0 ... 2793599  =      0.000 ...  1117.440 secs...\n",
      "&&&&&&&&&&&&&&&:  62\n"
     ]
    },
    {
     "name": "stderr",
     "output_type": "stream",
     "text": [
      "\r",
      " 80%|████████████████████████████████████████████████████████████████████████▊                  | 172/215 [06:21<01:38,  2.30s/it]"
     ]
    },
    {
     "name": "stdout",
     "output_type": "stream",
     "text": [
      "Extracting parameters from /data0/practical-sose23/brain-age/data/lemon/LEMON_RAW/sub-010010/RSEEG/sub-010010.vhdr...\n",
      "Setting channel info structure...\n",
      "Reading 0 ... 2520049  =      0.000 ...  1008.020 secs...\n"
     ]
    },
    {
     "name": "stderr",
     "output_type": "stream",
     "text": [
      "\r",
      " 80%|█████████████████████████████████████████████████████████████████████████▏                 | 173/215 [06:23<01:34,  2.24s/it]"
     ]
    },
    {
     "name": "stdout",
     "output_type": "stream",
     "text": [
      "&&&&&&&&&&&&&&&:  62\n",
      "Extracting parameters from /data0/practical-sose23/brain-age/data/lemon/LEMON_RAW/sub-010294/RSEEG/sub-010294.vhdr...\n",
      "Setting channel info structure...\n",
      "Reading 0 ... 2638199  =      0.000 ...  1055.280 secs...\n",
      "&&&&&&&&&&&&&&&:  62\n"
     ]
    },
    {
     "name": "stderr",
     "output_type": "stream",
     "text": [
      "\r",
      " 81%|█████████████████████████████████████████████████████████████████████████▋                 | 174/215 [06:25<01:31,  2.22s/it]"
     ]
    },
    {
     "name": "stdout",
     "output_type": "stream",
     "text": [
      "Extracting parameters from /data0/practical-sose23/brain-age/data/lemon/LEMON_RAW/sub-010090/RSEEG/sub-010090.vhdr...\n",
      "Setting channel info structure...\n",
      "Reading 0 ... 2611649  =      0.000 ...  1044.660 secs...\n",
      "&&&&&&&&&&&&&&&:  62\n"
     ]
    },
    {
     "name": "stderr",
     "output_type": "stream",
     "text": [
      "\r",
      " 81%|██████████████████████████████████████████████████████████████████████████                 | 175/215 [06:28<01:30,  2.25s/it]"
     ]
    },
    {
     "name": "stdout",
     "output_type": "stream",
     "text": [
      "Extracting parameters from /data0/practical-sose23/brain-age/data/lemon/LEMON_RAW/sub-010045/RSEEG/sub-010045.vhdr...\n",
      "Setting channel info structure...\n",
      "Reading 0 ... 2541749  =      0.000 ...  1016.700 secs...\n"
     ]
    },
    {
     "name": "stderr",
     "output_type": "stream",
     "text": [
      "\r",
      " 82%|██████████████████████████████████████████████████████████████████████████▍                | 176/215 [06:30<01:28,  2.26s/it]"
     ]
    },
    {
     "name": "stdout",
     "output_type": "stream",
     "text": [
      "&&&&&&&&&&&&&&&:  62\n",
      "Extracting parameters from /data0/practical-sose23/brain-age/data/lemon/LEMON_RAW/sub-010309/RSEEG/sub-010309.vhdr...\n",
      "Setting channel info structure...\n",
      "Reading 0 ... 2759099  =      0.000 ...  1103.640 secs...\n",
      "&&&&&&&&&&&&&&&:  62\n"
     ]
    },
    {
     "name": "stderr",
     "output_type": "stream",
     "text": [
      "\r",
      " 82%|██████████████████████████████████████████████████████████████████████████▉                | 177/215 [06:32<01:25,  2.26s/it]"
     ]
    },
    {
     "name": "stdout",
     "output_type": "stream",
     "text": [
      "Extracting parameters from /data0/practical-sose23/brain-age/data/lemon/LEMON_RAW/sub-010192/RSEEG/sub-010192.vhdr...\n",
      "Setting channel info structure...\n",
      "Reading 0 ... 2638399  =      0.000 ...  1055.360 secs...\n",
      "&&&&&&&&&&&&&&&:  62\n"
     ]
    },
    {
     "name": "stderr",
     "output_type": "stream",
     "text": [
      "\r",
      " 83%|███████████████████████████████████████████████████████████████████████████▎               | 178/215 [06:34<01:22,  2.24s/it]"
     ]
    },
    {
     "name": "stdout",
     "output_type": "stream",
     "text": [
      "Extracting parameters from /data0/practical-sose23/brain-age/data/lemon/LEMON_RAW/sub-010277/RSEEG/sub-010277.vhdr...\n",
      "Setting channel info structure...\n",
      "Reading 0 ... 1088219  =      0.000 ...  1088.219 secs...\n"
     ]
    },
    {
     "name": "stderr",
     "output_type": "stream",
     "text": [
      "\r",
      " 83%|███████████████████████████████████████████████████████████████████████████▊               | 179/215 [06:35<01:06,  1.84s/it]"
     ]
    },
    {
     "name": "stdout",
     "output_type": "stream",
     "text": [
      "&&&&&&&&&&&&&&&:  62\n",
      "Extracting parameters from /data0/practical-sose23/brain-age/data/lemon/LEMON_RAW/sub-010051/RSEEG/sub-010051.vhdr...\n",
      "Setting channel info structure...\n",
      "Reading 0 ... 2543249  =      0.000 ...  1017.300 secs...\n",
      "&&&&&&&&&&&&&&&:  62\n"
     ]
    },
    {
     "name": "stderr",
     "output_type": "stream",
     "text": [
      "\r",
      " 84%|████████████████████████████████████████████████████████████████████████████▏              | 180/215 [06:38<01:09,  2.00s/it]"
     ]
    },
    {
     "name": "stdout",
     "output_type": "stream",
     "text": [
      "Extracting parameters from /data0/practical-sose23/brain-age/data/lemon/LEMON_RAW/sub-010019/RSEEG/sub-010019.vhdr...\n",
      "Setting channel info structure...\n",
      "Reading 0 ... 2622249  =      0.000 ...  1048.900 secs...\n",
      "&&&&&&&&&&&&&&&:  62\n"
     ]
    },
    {
     "name": "stderr",
     "output_type": "stream",
     "text": [
      "\r",
      " 84%|████████████████████████████████████████████████████████████████████████████▌              | 181/215 [06:40<01:09,  2.04s/it]"
     ]
    },
    {
     "name": "stdout",
     "output_type": "stream",
     "text": [
      "Extracting parameters from /data0/practical-sose23/brain-age/data/lemon/LEMON_RAW/sub-010083/RSEEG/sub-010083.vhdr...\n",
      "Setting channel info structure...\n",
      "Reading 0 ... 2508499  =      0.000 ...  1003.400 secs...\n"
     ]
    },
    {
     "name": "stderr",
     "output_type": "stream",
     "text": [
      "\r",
      " 85%|█████████████████████████████████████████████████████████████████████████████              | 182/215 [06:42<01:06,  2.03s/it]"
     ]
    },
    {
     "name": "stdout",
     "output_type": "stream",
     "text": [
      "&&&&&&&&&&&&&&&:  62\n",
      "Extracting parameters from /data0/practical-sose23/brain-age/data/lemon/LEMON_RAW/sub-010026/RSEEG/sub-010026.vhdr...\n",
      "Setting channel info structure...\n",
      "Reading 0 ... 2598849  =      0.000 ...  1039.540 secs...\n"
     ]
    },
    {
     "name": "stderr",
     "output_type": "stream",
     "text": [
      "\r",
      " 85%|█████████████████████████████████████████████████████████████████████████████▍             | 183/215 [06:44<01:05,  2.05s/it]"
     ]
    },
    {
     "name": "stdout",
     "output_type": "stream",
     "text": [
      "&&&&&&&&&&&&&&&:  62\n",
      "Extracting parameters from /data0/practical-sose23/brain-age/data/lemon/LEMON_RAW/sub-010044/RSEEG/sub-010044.vhdr...\n",
      "Extracting parameters from /data0/practical-sose23/brain-age/data/lemon/LEMON_RAW/sub-010232/RSEEG/sub-010232.vhdr...\n",
      "Setting channel info structure...\n",
      "Reading 0 ... 2727949  =      0.000 ...  1091.180 secs...\n",
      "&&&&&&&&&&&&&&&:  62\n"
     ]
    },
    {
     "name": "stderr",
     "output_type": "stream",
     "text": [
      "\r",
      " 86%|██████████████████████████████████████████████████████████████████████████████▎            | 185/215 [06:47<00:51,  1.70s/it]"
     ]
    },
    {
     "name": "stdout",
     "output_type": "stream",
     "text": [
      "Extracting parameters from /data0/practical-sose23/brain-age/data/lemon/LEMON_RAW/sub-010250/RSEEG/sub-010250.vhdr...\n",
      "Setting channel info structure...\n",
      "Reading 0 ... 2626149  =      0.000 ...  1050.460 secs...\n",
      "&&&&&&&&&&&&&&&:  62\n"
     ]
    },
    {
     "name": "stderr",
     "output_type": "stream",
     "text": [
      "\r",
      " 87%|██████████████████████████████████████████████████████████████████████████████▋            | 186/215 [06:49<00:52,  1.82s/it]"
     ]
    },
    {
     "name": "stdout",
     "output_type": "stream",
     "text": [
      "Extracting parameters from /data0/practical-sose23/brain-age/data/lemon/LEMON_RAW/sub-010276/RSEEG/sub-010276.vhdr...\n",
      "Setting channel info structure...\n",
      "Reading 0 ... 1072839  =      0.000 ...  1072.839 secs...\n"
     ]
    },
    {
     "name": "stderr",
     "output_type": "stream",
     "text": [
      "\r",
      " 87%|███████████████████████████████████████████████████████████████████████████████▏           | 187/215 [06:50<00:44,  1.58s/it]"
     ]
    },
    {
     "name": "stdout",
     "output_type": "stream",
     "text": [
      "&&&&&&&&&&&&&&&:  62\n",
      "Extracting parameters from /data0/practical-sose23/brain-age/data/lemon/LEMON_RAW/sub-010092/RSEEG/sub-010092.vhdr...\n",
      "Setting channel info structure...\n",
      "Reading 0 ... 2579999  =      0.000 ...  1032.000 secs...\n",
      "&&&&&&&&&&&&&&&:  62\n"
     ]
    },
    {
     "name": "stderr",
     "output_type": "stream",
     "text": [
      "\r",
      " 87%|███████████████████████████████████████████████████████████████████████████████▌           | 188/215 [06:52<00:46,  1.72s/it]"
     ]
    },
    {
     "name": "stdout",
     "output_type": "stream",
     "text": [
      "Extracting parameters from /data0/practical-sose23/brain-age/data/lemon/LEMON_RAW/sub-010077/RSEEG/sub-010077.vhdr...\n",
      "Setting channel info structure...\n",
      "Reading 0 ... 2601349  =      0.000 ...  1040.540 secs...\n"
     ]
    },
    {
     "name": "stderr",
     "output_type": "stream",
     "text": [
      "\r",
      " 88%|███████████████████████████████████████████████████████████████████████████████▉           | 189/215 [06:54<00:47,  1.82s/it]"
     ]
    },
    {
     "name": "stdout",
     "output_type": "stream",
     "text": [
      "&&&&&&&&&&&&&&&:  62\n",
      "Extracting parameters from /data0/practical-sose23/brain-age/data/lemon/LEMON_RAW/sub-010242/RSEEG/sub-010242.vhdr...\n",
      "Setting channel info structure...\n",
      "Reading 0 ... 2669399  =      0.000 ...  1067.760 secs...\n",
      "&&&&&&&&&&&&&&&:  62\n"
     ]
    },
    {
     "name": "stderr",
     "output_type": "stream",
     "text": [
      "\r",
      " 88%|████████████████████████████████████████████████████████████████████████████████▍          | 190/215 [06:56<00:50,  2.04s/it]"
     ]
    },
    {
     "name": "stdout",
     "output_type": "stream",
     "text": [
      "Extracting parameters from /data0/practical-sose23/brain-age/data/lemon/LEMON_RAW/sub-010288/RSEEG/sub-010288.vhdr...\n",
      "Setting channel info structure...\n",
      "Reading 0 ... 2518699  =      0.000 ...  1007.480 secs...\n",
      "&&&&&&&&&&&&&&&:  62\n"
     ]
    },
    {
     "name": "stderr",
     "output_type": "stream",
     "text": [
      "\r",
      " 89%|████████████████████████████████████████████████████████████████████████████████▊          | 191/215 [06:59<00:49,  2.08s/it]"
     ]
    },
    {
     "name": "stdout",
     "output_type": "stream",
     "text": [
      "Extracting parameters from /data0/practical-sose23/brain-age/data/lemon/LEMON_RAW/sub-010047/RSEEG/sub-010047.vhdr...\n",
      "Setting channel info structure...\n",
      "Reading 0 ... 2514499  =      0.000 ...  1005.800 secs...\n"
     ]
    },
    {
     "name": "stderr",
     "output_type": "stream",
     "text": [
      "\r",
      " 89%|█████████████████████████████████████████████████████████████████████████████████▎         | 192/215 [07:01<00:47,  2.05s/it]"
     ]
    },
    {
     "name": "stdout",
     "output_type": "stream",
     "text": [
      "&&&&&&&&&&&&&&&:  62\n",
      "Extracting parameters from /data0/practical-sose23/brain-age/data/lemon/LEMON_RAW/sub-010197/RSEEG/sub-010197.vhdr...\n",
      "Setting channel info structure...\n",
      "Reading 0 ... 2506599  =      0.000 ...  1002.640 secs...\n"
     ]
    },
    {
     "name": "stderr",
     "output_type": "stream",
     "text": [
      "\r",
      " 90%|█████████████████████████████████████████████████████████████████████████████████▋         | 193/215 [07:03<00:44,  2.04s/it]"
     ]
    },
    {
     "name": "stdout",
     "output_type": "stream",
     "text": [
      "&&&&&&&&&&&&&&&:  62\n",
      "Extracting parameters from /data0/practical-sose23/brain-age/data/lemon/LEMON_RAW/sub-010035/RSEEG/sub-010035.vhdr...\n",
      "Setting channel info structure...\n",
      "Reading 0 ... 2556399  =      0.000 ...  1022.560 secs...\n",
      "&&&&&&&&&&&&&&&:  62\n"
     ]
    },
    {
     "name": "stderr",
     "output_type": "stream",
     "text": [
      "\r",
      " 90%|██████████████████████████████████████████████████████████████████████████████████         | 194/215 [07:05<00:44,  2.14s/it]"
     ]
    },
    {
     "name": "stdout",
     "output_type": "stream",
     "text": [
      "Extracting parameters from /data0/practical-sose23/brain-age/data/lemon/LEMON_RAW/sub-010223/RSEEG/sub-010223.vhdr...\n",
      "Setting channel info structure...\n",
      "Reading 0 ... 2558549  =      0.000 ...  1023.420 secs...\n"
     ]
    },
    {
     "name": "stderr",
     "output_type": "stream",
     "text": [
      "\r",
      " 91%|██████████████████████████████████████████████████████████████████████████████████▌        | 195/215 [07:07<00:42,  2.12s/it]"
     ]
    },
    {
     "name": "stdout",
     "output_type": "stream",
     "text": [
      "&&&&&&&&&&&&&&&:  62\n",
      "Extracting parameters from /data0/practical-sose23/brain-age/data/lemon/LEMON_RAW/sub-010306/RSEEG/sub-010306.vhdr...\n",
      "Setting channel info structure...\n",
      "Reading 0 ... 2587949  =      0.000 ...  1035.180 secs...\n"
     ]
    },
    {
     "name": "stderr",
     "output_type": "stream",
     "text": [
      "\r",
      " 91%|██████████████████████████████████████████████████████████████████████████████████▉        | 196/215 [07:09<00:39,  2.10s/it]"
     ]
    },
    {
     "name": "stdout",
     "output_type": "stream",
     "text": [
      "&&&&&&&&&&&&&&&:  62\n",
      "Extracting parameters from /data0/practical-sose23/brain-age/data/lemon/LEMON_RAW/sub-010030/RSEEG/sub-010030.vhdr...\n",
      "Setting channel info structure...\n",
      "Reading 0 ... 2602249  =      0.000 ...  1040.900 secs...\n",
      "&&&&&&&&&&&&&&&:  62\n"
     ]
    },
    {
     "name": "stderr",
     "output_type": "stream",
     "text": [
      "\r",
      " 92%|███████████████████████████████████████████████████████████████████████████████████▍       | 197/215 [07:11<00:37,  2.11s/it]"
     ]
    },
    {
     "name": "stdout",
     "output_type": "stream",
     "text": [
      "Extracting parameters from /data0/practical-sose23/brain-age/data/lemon/LEMON_RAW/sub-010012/RSEEG/sub-010012.vhdr...\n",
      "Setting channel info structure...\n",
      "Reading 0 ... 2614449  =      0.000 ...  1045.780 secs...\n",
      "&&&&&&&&&&&&&&&:  62\n"
     ]
    },
    {
     "name": "stderr",
     "output_type": "stream",
     "text": [
      "\r",
      " 92%|███████████████████████████████████████████████████████████████████████████████████▊       | 198/215 [07:13<00:36,  2.16s/it]"
     ]
    },
    {
     "name": "stdout",
     "output_type": "stream",
     "text": [
      "Extracting parameters from /data0/practical-sose23/brain-age/data/lemon/LEMON_RAW/sub-010076/RSEEG/sub-010076.vhdr...\n",
      "Setting channel info structure...\n",
      "Reading 0 ... 2600599  =      0.000 ...  1040.240 secs...\n",
      "&&&&&&&&&&&&&&&:  62\n"
     ]
    },
    {
     "name": "stderr",
     "output_type": "stream",
     "text": [
      "\r",
      " 93%|████████████████████████████████████████████████████████████████████████████████████▏      | 199/215 [07:16<00:34,  2.19s/it]"
     ]
    },
    {
     "name": "stdout",
     "output_type": "stream",
     "text": [
      "Extracting parameters from /data0/practical-sose23/brain-age/data/lemon/LEMON_RAW/sub-010170/RSEEG/sub-010170.vhdr...\n",
      "Setting channel info structure...\n",
      "Reading 0 ... 2547549  =      0.000 ...  1019.020 secs...\n",
      "&&&&&&&&&&&&&&&:  62\n"
     ]
    },
    {
     "name": "stderr",
     "output_type": "stream",
     "text": [
      "\r",
      " 93%|████████████████████████████████████████████████████████████████████████████████████▋      | 200/215 [07:18<00:32,  2.15s/it]"
     ]
    },
    {
     "name": "stdout",
     "output_type": "stream",
     "text": [
      "Extracting parameters from /data0/practical-sose23/brain-age/data/lemon/LEMON_RAW/sub-010299/RSEEG/sub-010299.vhdr...\n",
      "Setting channel info structure...\n",
      "Reading 0 ... 2706599  =      0.000 ...  1082.640 secs...\n",
      "&&&&&&&&&&&&&&&:  62\n"
     ]
    },
    {
     "name": "stderr",
     "output_type": "stream",
     "text": [
      "\r",
      " 93%|█████████████████████████████████████████████████████████████████████████████████████      | 201/215 [07:20<00:30,  2.20s/it]"
     ]
    },
    {
     "name": "stdout",
     "output_type": "stream",
     "text": [
      "Extracting parameters from /data0/practical-sose23/brain-age/data/lemon/LEMON_RAW/sub-010266/RSEEG/sub-010266.vhdr...\n",
      "Setting channel info structure...\n",
      "Reading 0 ... 2687299  =      0.000 ...  1074.920 secs...\n",
      "&&&&&&&&&&&&&&&:  62\n"
     ]
    },
    {
     "name": "stderr",
     "output_type": "stream",
     "text": [
      "\r",
      " 94%|█████████████████████████████████████████████████████████████████████████████████████▍     | 202/215 [07:23<00:29,  2.31s/it]"
     ]
    },
    {
     "name": "stdout",
     "output_type": "stream",
     "text": [
      "Extracting parameters from /data0/practical-sose23/brain-age/data/lemon/LEMON_RAW/sub-010282/RSEEG/sub-010282.vhdr...\n",
      "Setting channel info structure...\n",
      "Reading 0 ... 1093579  =      0.000 ...  1093.579 secs...\n"
     ]
    },
    {
     "name": "stderr",
     "output_type": "stream",
     "text": [
      "\r",
      " 94%|█████████████████████████████████████████████████████████████████████████████████████▉     | 203/215 [07:24<00:22,  1.91s/it]"
     ]
    },
    {
     "name": "stdout",
     "output_type": "stream",
     "text": [
      "&&&&&&&&&&&&&&&:  62\n",
      "Extracting parameters from /data0/practical-sose23/brain-age/data/lemon/LEMON_RAW/sub-010022/RSEEG/sub-010022.vhdr...\n",
      "Setting channel info structure...\n",
      "Reading 0 ... 2505249  =      0.000 ...  1002.100 secs...\n",
      "&&&&&&&&&&&&&&&:  62\n"
     ]
    },
    {
     "name": "stderr",
     "output_type": "stream",
     "text": [
      "\r",
      " 95%|██████████████████████████████████████████████████████████████████████████████████████▎    | 204/215 [07:26<00:21,  1.95s/it]"
     ]
    },
    {
     "name": "stdout",
     "output_type": "stream",
     "text": [
      "Extracting parameters from /data0/practical-sose23/brain-age/data/lemon/LEMON_RAW/sub-010283/RSEEG/sub-010283.vhdr...\n",
      "Setting channel info structure...\n",
      "Reading 0 ... 2771099  =      0.000 ...  1108.440 secs...\n",
      "&&&&&&&&&&&&&&&:  62\n"
     ]
    },
    {
     "name": "stderr",
     "output_type": "stream",
     "text": [
      "\r",
      " 95%|██████████████████████████████████████████████████████████████████████████████████████▊    | 205/215 [07:28<00:20,  2.06s/it]"
     ]
    },
    {
     "name": "stdout",
     "output_type": "stream",
     "text": [
      "Extracting parameters from /data0/practical-sose23/brain-age/data/lemon/LEMON_RAW/sub-010150/RSEEG/sub-010150.vhdr...\n",
      "Setting channel info structure...\n",
      "Reading 0 ... 2620649  =      0.000 ...  1048.260 secs...\n",
      "&&&&&&&&&&&&&&&:  62\n"
     ]
    },
    {
     "name": "stderr",
     "output_type": "stream",
     "text": [
      "\r",
      " 96%|███████████████████████████████████████████████████████████████████████████████████████▏   | 206/215 [07:30<00:18,  2.09s/it]"
     ]
    },
    {
     "name": "stdout",
     "output_type": "stream",
     "text": [
      "Extracting parameters from /data0/practical-sose23/brain-age/data/lemon/LEMON_RAW/sub-010073/RSEEG/sub-010073.vhdr...\n",
      "Setting channel info structure...\n",
      "Reading 0 ... 2522349  =      0.000 ...  1008.940 secs...\n",
      "&&&&&&&&&&&&&&&:  62\n"
     ]
    },
    {
     "name": "stderr",
     "output_type": "stream",
     "text": [
      "\r",
      " 96%|███████████████████████████████████████████████████████████████████████████████████████▌   | 207/215 [07:33<00:17,  2.23s/it]"
     ]
    },
    {
     "name": "stdout",
     "output_type": "stream",
     "text": [
      "Extracting parameters from /data0/practical-sose23/brain-age/data/lemon/LEMON_RAW/sub-010046/RSEEG/sub-010046.vhdr...\n",
      "Setting channel info structure...\n",
      "Reading 0 ... 2519249  =      0.000 ...  1007.700 secs...\n",
      "&&&&&&&&&&&&&&&:  62\n"
     ]
    },
    {
     "name": "stderr",
     "output_type": "stream",
     "text": [
      "\r",
      " 97%|████████████████████████████████████████████████████████████████████████████████████████   | 208/215 [07:35<00:15,  2.24s/it]"
     ]
    },
    {
     "name": "stdout",
     "output_type": "stream",
     "text": [
      "Extracting parameters from /data0/practical-sose23/brain-age/data/lemon/LEMON_RAW/sub-010078/RSEEG/sub-010078.vhdr...\n",
      "Setting channel info structure...\n",
      "Reading 0 ... 2685599  =      0.000 ...  1074.240 secs...\n",
      "&&&&&&&&&&&&&&&:  62\n"
     ]
    },
    {
     "name": "stderr",
     "output_type": "stream",
     "text": [
      "\r",
      " 97%|████████████████████████████████████████████████████████████████████████████████████████▍  | 209/215 [07:37<00:13,  2.23s/it]"
     ]
    },
    {
     "name": "stdout",
     "output_type": "stream",
     "text": [
      "Extracting parameters from /data0/practical-sose23/brain-age/data/lemon/LEMON_RAW/sub-010268/RSEEG/sub-010268.vhdr...\n",
      "Setting channel info structure...\n",
      "Reading 0 ... 2553099  =      0.000 ...  1021.240 secs...\n"
     ]
    },
    {
     "name": "stderr",
     "output_type": "stream",
     "text": [
      " 97%|████████████████████████████████████████████████████████████████████████████████████████▍  | 209/215 [07:39<00:13,  2.20s/it]\n"
     ]
    },
    {
     "ename": "KeyboardInterrupt",
     "evalue": "",
     "output_type": "error",
     "traceback": [
      "\u001b[0;31m---------------------------------------------------------------------------\u001b[0m",
      "\u001b[0;31mKeyboardInterrupt\u001b[0m                         Traceback (most recent call last)",
      "Cell \u001b[0;32mIn[8], line 5\u001b[0m\n\u001b[1;32m      3\u001b[0m \u001b[38;5;28;01mfor\u001b[39;00m file_path \u001b[38;5;129;01min\u001b[39;00m tqdm(eeg_files_all):\n\u001b[1;32m      4\u001b[0m     \u001b[38;5;28;01mtry\u001b[39;00m:\n\u001b[0;32m----> 5\u001b[0m         example_raw \u001b[38;5;241m=\u001b[39m mne\u001b[38;5;241m.\u001b[39mio\u001b[38;5;241m.\u001b[39mread_raw_brainvision(file_path, preload\u001b[38;5;241m=\u001b[39m\u001b[38;5;28;01mTrue\u001b[39;00m)\n\u001b[1;32m      6\u001b[0m         \u001b[38;5;28mprint\u001b[39m(\u001b[38;5;124m'\u001b[39m\u001b[38;5;124m&&&&&&&&&&&&&&&: \u001b[39m\u001b[38;5;124m'\u001b[39m, example_raw\u001b[38;5;241m.\u001b[39mget_data()\u001b[38;5;241m.\u001b[39mshape[\u001b[38;5;241m0\u001b[39m])\n\u001b[1;32m      7\u001b[0m         eeg_len\u001b[38;5;241m.\u001b[39mappend(example_raw\u001b[38;5;241m.\u001b[39mget_data()\u001b[38;5;241m.\u001b[39mshape[\u001b[38;5;241m1\u001b[39m] \u001b[38;5;241m/\u001b[39m \u001b[38;5;241m2500\u001b[39m)\n",
      "File \u001b[0;32m~/.conda/envs/brain_age/lib/python3.11/site-packages/mne/io/brainvision/brainvision.py:888\u001b[0m, in \u001b[0;36mread_raw_brainvision\u001b[0;34m(vhdr_fname, eog, misc, scale, preload, verbose)\u001b[0m\n\u001b[1;32m    854\u001b[0m \u001b[38;5;129m@fill_doc\u001b[39m\n\u001b[1;32m    855\u001b[0m \u001b[38;5;28;01mdef\u001b[39;00m \u001b[38;5;21mread_raw_brainvision\u001b[39m(vhdr_fname,\n\u001b[1;32m    856\u001b[0m                          eog\u001b[38;5;241m=\u001b[39m(\u001b[38;5;124m'\u001b[39m\u001b[38;5;124mHEOGL\u001b[39m\u001b[38;5;124m'\u001b[39m, \u001b[38;5;124m'\u001b[39m\u001b[38;5;124mHEOGR\u001b[39m\u001b[38;5;124m'\u001b[39m, \u001b[38;5;124m'\u001b[39m\u001b[38;5;124mVEOGb\u001b[39m\u001b[38;5;124m'\u001b[39m), misc\u001b[38;5;241m=\u001b[39m\u001b[38;5;124m'\u001b[39m\u001b[38;5;124mauto\u001b[39m\u001b[38;5;124m'\u001b[39m,\n\u001b[1;32m    857\u001b[0m                          scale\u001b[38;5;241m=\u001b[39m\u001b[38;5;241m1.\u001b[39m, preload\u001b[38;5;241m=\u001b[39m\u001b[38;5;28;01mFalse\u001b[39;00m, verbose\u001b[38;5;241m=\u001b[39m\u001b[38;5;28;01mNone\u001b[39;00m):\n\u001b[1;32m    858\u001b[0m     \u001b[38;5;124;03m\"\"\"Reader for Brain Vision EEG file.\u001b[39;00m\n\u001b[1;32m    859\u001b[0m \n\u001b[1;32m    860\u001b[0m \u001b[38;5;124;03m    Parameters\u001b[39;00m\n\u001b[0;32m   (...)\u001b[0m\n\u001b[1;32m    886\u001b[0m \u001b[38;5;124;03m    mne.io.Raw : Documentation of attribute and methods.\u001b[39;00m\n\u001b[1;32m    887\u001b[0m \u001b[38;5;124;03m    \"\"\"\u001b[39;00m\n\u001b[0;32m--> 888\u001b[0m     \u001b[38;5;28;01mreturn\u001b[39;00m RawBrainVision(vhdr_fname\u001b[38;5;241m=\u001b[39mvhdr_fname, eog\u001b[38;5;241m=\u001b[39meog,\n\u001b[1;32m    889\u001b[0m                           misc\u001b[38;5;241m=\u001b[39mmisc, scale\u001b[38;5;241m=\u001b[39mscale, preload\u001b[38;5;241m=\u001b[39mpreload,\n\u001b[1;32m    890\u001b[0m                           verbose\u001b[38;5;241m=\u001b[39mverbose)\n",
      "File \u001b[0;32m<decorator-gen-240>:12\u001b[0m, in \u001b[0;36m__init__\u001b[0;34m(self, vhdr_fname, eog, misc, scale, preload, verbose)\u001b[0m\n",
      "File \u001b[0;32m~/.conda/envs/brain_age/lib/python3.11/site-packages/mne/io/brainvision/brainvision.py:98\u001b[0m, in \u001b[0;36mRawBrainVision.__init__\u001b[0;34m(self, vhdr_fname, eog, misc, scale, preload, verbose)\u001b[0m\n\u001b[1;32m     95\u001b[0m orig_format \u001b[38;5;241m=\u001b[39m \u001b[38;5;124m\"\u001b[39m\u001b[38;5;124msingle\u001b[39m\u001b[38;5;124m\"\u001b[39m \u001b[38;5;28;01mif\u001b[39;00m \u001b[38;5;28misinstance\u001b[39m(fmt, \u001b[38;5;28mdict\u001b[39m) \u001b[38;5;28;01melse\u001b[39;00m fmt\n\u001b[1;32m     96\u001b[0m raw_extras \u001b[38;5;241m=\u001b[39m \u001b[38;5;28mdict\u001b[39m(\n\u001b[1;32m     97\u001b[0m     offsets\u001b[38;5;241m=\u001b[39moffsets, fmt\u001b[38;5;241m=\u001b[39mfmt, order\u001b[38;5;241m=\u001b[39morder, n_samples\u001b[38;5;241m=\u001b[39mn_samples)\n\u001b[0;32m---> 98\u001b[0m \u001b[38;5;28msuper\u001b[39m(RawBrainVision, \u001b[38;5;28mself\u001b[39m)\u001b[38;5;241m.\u001b[39m\u001b[38;5;21m__init__\u001b[39m(\n\u001b[1;32m     99\u001b[0m     info, last_samps\u001b[38;5;241m=\u001b[39m[n_samples \u001b[38;5;241m-\u001b[39m \u001b[38;5;241m1\u001b[39m], filenames\u001b[38;5;241m=\u001b[39m[data_fname],\n\u001b[1;32m    100\u001b[0m     orig_format\u001b[38;5;241m=\u001b[39morig_format, preload\u001b[38;5;241m=\u001b[39mpreload, verbose\u001b[38;5;241m=\u001b[39mverbose,\n\u001b[1;32m    101\u001b[0m     raw_extras\u001b[38;5;241m=\u001b[39m[raw_extras], orig_units\u001b[38;5;241m=\u001b[39morig_units)\n\u001b[1;32m    103\u001b[0m \u001b[38;5;28mself\u001b[39m\u001b[38;5;241m.\u001b[39mset_montage(montage)\n\u001b[1;32m    105\u001b[0m settings, cfg, cinfo, _ \u001b[38;5;241m=\u001b[39m _aux_hdr_info(hdr_fname)\n",
      "File \u001b[0;32m<decorator-gen-222>:12\u001b[0m, in \u001b[0;36m__init__\u001b[0;34m(self, info, preload, first_samps, last_samps, filenames, raw_extras, orig_format, dtype, buffer_size_sec, orig_units, verbose)\u001b[0m\n",
      "File \u001b[0;32m~/.conda/envs/brain_age/lib/python3.11/site-packages/mne/io/base.py:227\u001b[0m, in \u001b[0;36mBaseRaw.__init__\u001b[0;34m(self, info, preload, first_samps, last_samps, filenames, raw_extras, orig_format, dtype, buffer_size_sec, orig_units, verbose)\u001b[0m\n\u001b[1;32m    225\u001b[0m \u001b[38;5;66;03m# If we have True or a string, actually do the preloading\u001b[39;00m\n\u001b[1;32m    226\u001b[0m \u001b[38;5;28;01mif\u001b[39;00m load_from_disk:\n\u001b[0;32m--> 227\u001b[0m     \u001b[38;5;28mself\u001b[39m\u001b[38;5;241m.\u001b[39m_preload_data(preload)\n\u001b[1;32m    228\u001b[0m \u001b[38;5;28mself\u001b[39m\u001b[38;5;241m.\u001b[39m_init_kwargs \u001b[38;5;241m=\u001b[39m _get_argvalues()\n",
      "File \u001b[0;32m~/.conda/envs/brain_age/lib/python3.11/site-packages/mne/io/base.py:507\u001b[0m, in \u001b[0;36mBaseRaw._preload_data\u001b[0;34m(self, preload)\u001b[0m\n\u001b[1;32m    504\u001b[0m     data_buffer \u001b[38;5;241m=\u001b[39m \u001b[38;5;28;01mNone\u001b[39;00m\n\u001b[1;32m    505\u001b[0m logger\u001b[38;5;241m.\u001b[39minfo(\u001b[38;5;124m'\u001b[39m\u001b[38;5;124mReading \u001b[39m\u001b[38;5;132;01m%d\u001b[39;00m\u001b[38;5;124m ... \u001b[39m\u001b[38;5;132;01m%d\u001b[39;00m\u001b[38;5;124m  =  \u001b[39m\u001b[38;5;132;01m%9.3f\u001b[39;00m\u001b[38;5;124m ... \u001b[39m\u001b[38;5;132;01m%9.3f\u001b[39;00m\u001b[38;5;124m secs...\u001b[39m\u001b[38;5;124m'\u001b[39m \u001b[38;5;241m%\u001b[39m\n\u001b[1;32m    506\u001b[0m             (\u001b[38;5;241m0\u001b[39m, \u001b[38;5;28mlen\u001b[39m(\u001b[38;5;28mself\u001b[39m\u001b[38;5;241m.\u001b[39mtimes) \u001b[38;5;241m-\u001b[39m \u001b[38;5;241m1\u001b[39m, \u001b[38;5;241m0.\u001b[39m, \u001b[38;5;28mself\u001b[39m\u001b[38;5;241m.\u001b[39mtimes[\u001b[38;5;241m-\u001b[39m\u001b[38;5;241m1\u001b[39m]))\n\u001b[0;32m--> 507\u001b[0m \u001b[38;5;28mself\u001b[39m\u001b[38;5;241m.\u001b[39m_data \u001b[38;5;241m=\u001b[39m \u001b[38;5;28mself\u001b[39m\u001b[38;5;241m.\u001b[39m_read_segment(\n\u001b[1;32m    508\u001b[0m     data_buffer\u001b[38;5;241m=\u001b[39mdata_buffer, projector\u001b[38;5;241m=\u001b[39m\u001b[38;5;28mself\u001b[39m\u001b[38;5;241m.\u001b[39m_projector)\n\u001b[1;32m    509\u001b[0m \u001b[38;5;28;01massert\u001b[39;00m \u001b[38;5;28mlen\u001b[39m(\u001b[38;5;28mself\u001b[39m\u001b[38;5;241m.\u001b[39m_data) \u001b[38;5;241m==\u001b[39m \u001b[38;5;28mself\u001b[39m\u001b[38;5;241m.\u001b[39minfo[\u001b[38;5;124m'\u001b[39m\u001b[38;5;124mnchan\u001b[39m\u001b[38;5;124m'\u001b[39m]\n\u001b[1;32m    510\u001b[0m \u001b[38;5;28mself\u001b[39m\u001b[38;5;241m.\u001b[39mpreload \u001b[38;5;241m=\u001b[39m \u001b[38;5;28;01mTrue\u001b[39;00m\n",
      "File \u001b[0;32m<decorator-gen-224>:12\u001b[0m, in \u001b[0;36m_read_segment\u001b[0;34m(self, start, stop, sel, data_buffer, projector, verbose)\u001b[0m\n",
      "File \u001b[0;32m~/.conda/envs/brain_age/lib/python3.11/site-packages/mne/io/base.py:392\u001b[0m, in \u001b[0;36mBaseRaw._read_segment\u001b[0;34m(***failed resolving arguments***)\u001b[0m\n\u001b[1;32m    390\u001b[0m     \u001b[38;5;66;03m# reindex back to original file\u001b[39;00m\n\u001b[1;32m    391\u001b[0m     orig_idx \u001b[38;5;241m=\u001b[39m _convert_slice(\u001b[38;5;28mself\u001b[39m\u001b[38;5;241m.\u001b[39m_read_picks[fi][need_idx])\n\u001b[0;32m--> 392\u001b[0m     _ReadSegmentFileProtector(\u001b[38;5;28mself\u001b[39m)\u001b[38;5;241m.\u001b[39m_read_segment_file(\n\u001b[1;32m    393\u001b[0m         data[:, this_sl], orig_idx, fi,\n\u001b[1;32m    394\u001b[0m         \u001b[38;5;28mint\u001b[39m(start_file), \u001b[38;5;28mint\u001b[39m(stop_file), cals, mult)\n\u001b[1;32m    395\u001b[0m     offset \u001b[38;5;241m+\u001b[39m\u001b[38;5;241m=\u001b[39m n_read\n\u001b[1;32m    396\u001b[0m \u001b[38;5;28;01mreturn\u001b[39;00m data\n",
      "File \u001b[0;32m~/.conda/envs/brain_age/lib/python3.11/site-packages/mne/io/base.py:2145\u001b[0m, in \u001b[0;36m_ReadSegmentFileProtector._read_segment_file\u001b[0;34m(self, data, idx, fi, start, stop, cals, mult)\u001b[0m\n\u001b[1;32m   2144\u001b[0m \u001b[38;5;28;01mdef\u001b[39;00m \u001b[38;5;21m_read_segment_file\u001b[39m(\u001b[38;5;28mself\u001b[39m, data, idx, fi, start, stop, cals, mult):\n\u001b[0;32m-> 2145\u001b[0m     \u001b[38;5;28;01mreturn\u001b[39;00m \u001b[38;5;28mself\u001b[39m\u001b[38;5;241m.\u001b[39m__raw\u001b[38;5;241m.\u001b[39m\u001b[38;5;18m__class__\u001b[39m\u001b[38;5;241m.\u001b[39m_read_segment_file(\n\u001b[1;32m   2146\u001b[0m         \u001b[38;5;28mself\u001b[39m, data, idx, fi, start, stop, cals, mult)\n",
      "File \u001b[0;32m~/.conda/envs/brain_age/lib/python3.11/site-packages/mne/io/brainvision/brainvision.py:127\u001b[0m, in \u001b[0;36mRawBrainVision._read_segment_file\u001b[0;34m(self, data, idx, fi, start, stop, cals, mult)\u001b[0m\n\u001b[1;32m    125\u001b[0m \u001b[38;5;28;01melif\u001b[39;00m \u001b[38;5;28misinstance\u001b[39m(fmt, \u001b[38;5;28mstr\u001b[39m):\n\u001b[1;32m    126\u001b[0m     dtype \u001b[38;5;241m=\u001b[39m _fmt_dtype_dict[fmt]\n\u001b[0;32m--> 127\u001b[0m     _read_segments_file(\u001b[38;5;28mself\u001b[39m, data, idx, fi, start, stop, cals, mult,\n\u001b[1;32m    128\u001b[0m                         dtype\u001b[38;5;241m=\u001b[39mdtype, n_channels\u001b[38;5;241m=\u001b[39mn_data_ch)\n\u001b[1;32m    129\u001b[0m \u001b[38;5;28;01melse\u001b[39;00m:\n\u001b[1;32m    130\u001b[0m     offsets \u001b[38;5;241m=\u001b[39m \u001b[38;5;28mself\u001b[39m\u001b[38;5;241m.\u001b[39m_raw_extras[fi][\u001b[38;5;124m'\u001b[39m\u001b[38;5;124moffsets\u001b[39m\u001b[38;5;124m'\u001b[39m]\n",
      "File \u001b[0;32m~/.conda/envs/brain_age/lib/python3.11/site-packages/mne/io/utils.py:233\u001b[0m, in \u001b[0;36m_read_segments_file\u001b[0;34m(raw, data, idx, fi, start, stop, cals, mult, dtype, n_channels, offset, trigger_ch)\u001b[0m\n\u001b[1;32m    231\u001b[0m     block \u001b[38;5;241m=\u001b[39m np\u001b[38;5;241m.\u001b[39mvstack((block, stim_ch))\n\u001b[1;32m    232\u001b[0m data_view \u001b[38;5;241m=\u001b[39m data[:, sample_start:sample_stop]\n\u001b[0;32m--> 233\u001b[0m _mult_cal_one(data_view, block, idx, cals, mult)\n",
      "\u001b[0;31mKeyboardInterrupt\u001b[0m: "
     ]
    }
   ],
   "source": [
    "exceptions = []\n",
    "eeg_len = []\n",
    "for file_path in tqdm(eeg_files_all):\n",
    "    try:\n",
    "        example_raw = mne.io.read_raw_brainvision(file_path, preload=True)\n",
    "        assert example_raw.get_data().shape[0] == 62\n",
    "        eeg_len.append(example_raw.get_data().shape[1] / 2500)\n",
    "    except Exception as e:\n",
    "        exceptions.append((file_path, e))\n",
    "        continue"
   ]
  },
  {
   "cell_type": "code",
   "execution_count": 9,
   "id": "f6dfc730",
   "metadata": {},
   "outputs": [
    {
     "name": "stdout",
     "output_type": "stream",
     "text": [
      "80.1 1263.56\n"
     ]
    }
   ],
   "source": [
    "print(min(eeg_len), max(eeg_len))"
   ]
  },
  {
   "cell_type": "code",
   "execution_count": null,
   "id": "04778b74",
   "metadata": {},
   "outputs": [],
   "source": [
    "channel_to_channel_type = {ch_name:\"eeg\" for ch_name in example_raw.ch_names}\n",
    "channel_to_channel_type.update({\"VEOG\":\"misc\"})\n",
    "# eeg_chs = [ch for ch in example_raw.ch_names if not (ch==\"RE\" or ch==\"LE\")]\n",
    "example_raw.set_channel_types(channel_to_channel_type)"
   ]
  },
  {
   "cell_type": "code",
   "execution_count": null,
   "id": "44876a63",
   "metadata": {},
   "outputs": [],
   "source": [
    "print(exceptions)"
   ]
  },
  {
   "cell_type": "code",
   "execution_count": null,
   "id": "7e627720",
   "metadata": {},
   "outputs": [],
   "source": [
    "montage = mne.channels.make_standard_montage(\"standard_1020\")\n",
    "example_raw = example_raw.set_montage(montage)"
   ]
  },
  {
   "cell_type": "code",
   "execution_count": 12,
   "id": "111f463f",
   "metadata": {},
   "outputs": [
    {
     "name": "stdout",
     "output_type": "stream",
     "text": [
      "3000\n"
     ]
    }
   ],
   "source": [
    "test_path = '/data0/practical-sose23/brain-age/data/lemon/preprocessed/v2.0/sub-010319/RSEEG/sub-010319/sub-010319_9.npy'\n",
    "with open(test_path, 'rb') as in_file:\n",
    "    npy_file = np.load(in_file)\n",
    "print(npy_file.shape[1])"
   ]
  },
  {
   "cell_type": "code",
   "execution_count": null,
   "id": "c76d16a9",
   "metadata": {},
   "outputs": [],
   "source": [
    "data_dir = pathlib.Path(\"/data0/practical-sose23/brain-age/data/lemon/preprocessed\")\n",
    "file_paths = list(data_dir.rglob(\"*.npy\"))\n",
    "print(len(file_paths))"
   ]
  },
  {
   "cell_type": "code",
   "execution_count": null,
   "id": "7a578956",
   "metadata": {},
   "outputs": [],
   "source": [
    "eeg_len = []\n",
    "\n",
    "for file_path in tqdm(file_paths):\n",
    "    with open(file_path, 'rb') as in_file:\n",
    "        npy_file = np.load(in_file)\n",
    "        eeg_len.append(npy_file.shape[1])"
   ]
  },
  {
   "cell_type": "code",
   "execution_count": null,
   "id": "b64371ee",
   "metadata": {},
   "outputs": [],
   "source": [
    "sfreq = 100\n",
    "print(min(eeg_len) / sfreq, max(eeg_len) / sfreq)"
   ]
  },
  {
   "cell_type": "code",
   "execution_count": null,
   "id": "275142f5",
   "metadata": {},
   "outputs": [],
   "source": []
  }
 ],
 "metadata": {
  "kernelspec": {
   "display_name": "Python 3 (ipykernel)",
   "language": "python",
   "name": "python3"
  },
  "language_info": {
   "codemirror_mode": {
    "name": "ipython",
    "version": 3
   },
   "file_extension": ".py",
   "mimetype": "text/x-python",
   "name": "python",
   "nbconvert_exporter": "python",
   "pygments_lexer": "ipython3",
   "version": "3.11.3"
  }
 },
 "nbformat": 4,
 "nbformat_minor": 5
}
