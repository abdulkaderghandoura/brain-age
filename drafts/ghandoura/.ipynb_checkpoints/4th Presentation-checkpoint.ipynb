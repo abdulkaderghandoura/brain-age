{
 "cells": [
  {
   "cell_type": "code",
   "execution_count": 3,
   "id": "91e8b900",
   "metadata": {},
   "outputs": [],
   "source": [
    "# Import necessary modules\n",
    "import os\n",
    "import numpy as np\n",
    "import matplotlib.pyplot as plt\n",
    "import mne\n",
    "import pickle\n",
    "from tqdm import tqdm\n",
    "from scipy import signal\n",
    "import scipy\n",
    "import pandas as pd\n",
    "from pathlib import Path"
   ]
  },
  {
   "cell_type": "code",
   "execution_count": 4,
   "id": "a861b628",
   "metadata": {},
   "outputs": [],
   "source": [
    "%matplotlib inline"
   ]
  },
  {
   "cell_type": "code",
   "execution_count": 9,
   "id": "0f01c531",
   "metadata": {},
   "outputs": [
    {
     "data": {
      "text/plain": [
       "29510"
      ]
     },
     "execution_count": 9,
     "metadata": {},
     "output_type": "execute_result"
    }
   ],
   "source": [
    "path_clean = Path(\"/data0/practical-sose23/brain-age/data/ds004186-download/\")\n",
    "files_clean = list(path_clean.rglob(\"*.set\"))\n",
    "len(files_clean)"
   ]
  },
  {
   "cell_type": "code",
   "execution_count": 11,
   "id": "4f6002f9",
   "metadata": {},
   "outputs": [
    {
     "data": {
      "text/plain": [
       "2260"
      ]
     },
     "execution_count": 11,
     "metadata": {},
     "output_type": "execute_result"
    }
   ],
   "source": [
    "path_original = Path(\"/data0/practical-sose23/brain-age/data/hbn/unzipped/\")\n",
    "file_original = list(path_original.rglob(\"*.mat\"))\n",
    "len(file_original)"
   ]
  },
  {
   "cell_type": "code",
   "execution_count": 18,
   "id": "2da98aac",
   "metadata": {},
   "outputs": [
    {
     "name": "stdout",
     "output_type": "stream",
     "text": [
      "/data0/practical-sose23/brain-age/data/ds004186-download/sub-NDARTE752PYH/eeg/sub-NDARTE752PYH_task-EO_run-2_eeg.set\n",
      "/data0/practical-sose23/brain-age/data/hbn/unzipped/rest/NDARHN482HPM/EEG/raw/mat_format/RestingState.mat\n"
     ]
    }
   ],
   "source": [
    "file_clean = files_clean[0]\n",
    "print(file_clean)\n",
    "file_original = file_original[0]\n",
    "print(file_original)"
   ]
  },
  {
   "cell_type": "code",
   "execution_count": 17,
   "id": "e1ed76e8",
   "metadata": {},
   "outputs": [
    {
     "name": "stdout",
     "output_type": "stream",
     "text": [
      "Reading /data0/practical-sose23/brain-age/data/ds004186-download/sub-NDARTE752PYH/eeg/sub-NDARTE752PYH_task-EO_run-2_eeg.fdt\n",
      "Reading 0 ... 9997  =      0.000 ...    19.994 secs...\n"
     ]
    },
    {
     "name": "stderr",
     "output_type": "stream",
     "text": [
      "/tmp/ipykernel_1892752/363720020.py:1: RuntimeWarning: Estimated head radius (0.9 cm) is below the 3rd percentile for infant head size. Check if the montage_units argument is correct (the default is \"mm\", but your channel positions may be in different units).\n",
      "  raw = mne.io.read_raw(file_clean, preload=True)\n"
     ]
    }
   ],
   "source": [
    "raw = mne.io.read_raw(file_clean, preload=True)"
   ]
  },
  {
   "cell_type": "code",
   "execution_count": 22,
   "id": "8935d30f",
   "metadata": {},
   "outputs": [
    {
     "name": "stdout",
     "output_type": "stream",
     "text": [
      "(129, 9998)\n"
     ]
    }
   ],
   "source": [
    "print(raw.get_data().shape)"
   ]
  },
  {
   "cell_type": "code",
   "execution_count": null,
   "id": "e7c9d3c2",
   "metadata": {},
   "outputs": [],
   "source": [
    "for file in files_original"
   ]
  }
 ],
 "metadata": {
  "kernelspec": {
   "display_name": "Python 3 (ipykernel)",
   "language": "python",
   "name": "python3"
  },
  "language_info": {
   "codemirror_mode": {
    "name": "ipython",
    "version": 3
   },
   "file_extension": ".py",
   "mimetype": "text/x-python",
   "name": "python",
   "nbconvert_exporter": "python",
   "pygments_lexer": "ipython3",
   "version": "3.11.3"
  }
 },
 "nbformat": 4,
 "nbformat_minor": 5
}
