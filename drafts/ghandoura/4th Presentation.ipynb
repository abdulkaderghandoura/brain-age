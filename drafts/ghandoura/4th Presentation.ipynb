{
 "cells": [
  {
   "cell_type": "code",
   "execution_count": 3,
   "id": "0c3d002b",
   "metadata": {},
   "outputs": [],
   "source": [
    "# Import necessary modules\n",
    "import os\n",
    "import numpy as np\n",
    "import matplotlib.pyplot as plt\n",
    "import mne\n",
    "import pickle\n",
    "from tqdm import tqdm\n",
    "from scipy import signal\n",
    "import scipy\n",
    "import pandas as pd\n",
    "from pathlib import Path"
   ]
  },
  {
   "cell_type": "code",
   "execution_count": 4,
   "id": "a7719028",
   "metadata": {},
   "outputs": [],
   "source": [
    "%matplotlib inline"
   ]
  },
  {
   "cell_type": "code",
   "execution_count": 9,
   "id": "b13f1ffe",
   "metadata": {},
   "outputs": [
    {
     "data": {
      "text/plain": [
       "29510"
      ]
     },
     "execution_count": 9,
     "metadata": {},
     "output_type": "execute_result"
    }
   ],
   "source": [
    "path_clean = Path(\"/data0/practical-sose23/brain-age/data/ds004186-download/\")\n",
    "files_clean = list(path_clean.rglob(\"*.set\"))\n",
    "len(files_clean)"
   ]
  },
  {
   "cell_type": "code",
   "execution_count": 11,
   "id": "b7699a8a",
   "metadata": {},
   "outputs": [
    {
     "data": {
      "text/plain": [
       "2260"
      ]
     },
     "execution_count": 11,
     "metadata": {},
     "output_type": "execute_result"
    }
   ],
   "source": [
    "path_original = Path(\"/data0/practical-sose23/brain-age/data/hbn/unzipped/\")\n",
    "file_original = list(path_original.rglob(\"*.mat\"))\n",
    "len(file_original)"
   ]
  },
  {
   "cell_type": "code",
   "execution_count": 14,
   "id": "09e2df07",
   "metadata": {},
   "outputs": [
    {
     "name": "stdout",
     "output_type": "stream",
     "text": [
      "/data0/practical-sose23/brain-age/data/ds004186-download/sub-NDARTE752PYH/eeg/sub-NDARTE752PYH_task-EO_run-2_eeg.set\n"
     ]
    }
   ],
   "source": [
    "file_clean = files_clean[0]\n",
    "print(file_clean)"
   ]
  },
  {
   "cell_type": "code",
   "execution_count": null,
   "id": "7a69a96a",
   "metadata": {},
   "outputs": [],
   "source": [
    "raw = mne.io.read_raw_brainvision(str(file_clean), preload=True)"
   ]
  },
  {
   "cell_type": "code",
   "execution_count": null,
   "id": "dbe572cb",
   "metadata": {},
   "outputs": [],
   "source": []
  }
 ],
 "metadata": {
  "kernelspec": {
   "display_name": "Python 3 (ipykernel)",
   "language": "python",
   "name": "python3"
  },
  "language_info": {
   "codemirror_mode": {
    "name": "ipython",
    "version": 3
   },
   "file_extension": ".py",
   "mimetype": "text/x-python",
   "name": "python",
   "nbconvert_exporter": "python",
   "pygments_lexer": "ipython3",
   "version": "3.11.3"
  }
 },
 "nbformat": 4,
 "nbformat_minor": 5
}
