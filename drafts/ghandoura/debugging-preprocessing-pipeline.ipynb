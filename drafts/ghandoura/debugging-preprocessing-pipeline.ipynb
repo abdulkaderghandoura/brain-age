{
 "cells": [
  {
   "cell_type": "code",
   "execution_count": 1,
   "id": "485194a4",
   "metadata": {},
   "outputs": [],
   "source": [
    "# Import necessary modules\n",
    "import os\n",
    "import numpy as np\n",
    "import matplotlib.pyplot as plt\n",
    "import mne\n",
    "import pickle\n",
    "from tqdm import tqdm\n",
    "from scipy import signal\n",
    "import random"
   ]
  },
  {
   "cell_type": "code",
   "execution_count": 2,
   "id": "4f93bc21",
   "metadata": {},
   "outputs": [],
   "source": [
    "%matplotlib inline\n",
    "%load_ext autoreload\n",
    "%autoreload 2"
   ]
  },
  {
   "cell_type": "code",
   "execution_count": 7,
   "id": "5b53b91c",
   "metadata": {},
   "outputs": [],
   "source": [
    "d_version = 'v4.3'\n",
    "sfreq = 100\n",
    "seg_num = 12\n",
    "sample0_npy_seg_path = '/data0/practical-sose23/brain-age/data/bap/preprocessed/' + d_version + '/chronic_pain_patients/chronic_back_pain/preprocessed/Exp_eyes_closed_vp39_eyes_closed/Exp_eyes_closed_vp39_eyes_closed_' + str(seg_num) + '.npy'"
   ]
  },
  {
   "cell_type": "code",
   "execution_count": 6,
   "id": "3c3a5987",
   "metadata": {},
   "outputs": [
    {
     "name": "stdout",
     "output_type": "stream",
     "text": [
      "Shape of one segment of NumPy data:  (63, 3000)\n"
     ]
    }
   ],
   "source": [
    "with open(sample0_npy_seg_path, 'rb') as in_file:\n",
    "    sample0_npy_seg = np.load(in_file)\n",
    "print('Shape of one segment of NumPy data: ', sample0_npy_seg.shape)"
   ]
  },
  {
   "cell_type": "code",
   "execution_count": 9,
   "id": "370c64e5",
   "metadata": {},
   "outputs": [],
   "source": [
    "time0 = np.linspace(0, sample0_npy_seg.shape[1] / sfreq, num=sample0_npy_seg.shape[1])"
   ]
  },
  {
   "cell_type": "code",
   "execution_count": 12,
   "id": "d757c5b5",
   "metadata": {},
   "outputs": [
    {
     "data": {
      "image/png": "[encoded data removed]",
      "text/plain": [
       "<Figure size 1000x400 with 3 Axes>"
      ]
     },
     "metadata": {},
     "output_type": "display_data"
    }
   ],
   "source": [
    "num_channels = 3\n",
    "channels = random.sample(range(0, sample0_npy_seg.shape[0]), num_channels)\n",
    "\n",
    "# Create subplots for each channel\n",
    "fig, axs = plt.subplots(num_channels, sharex=True, figsize=(10, 4))\n",
    "\n"
   ]
  },
  {
   "cell_type": "code",
   "execution_count": null,
   "id": "be3565b9",
   "metadata": {},
   "outputs": [],
   "source": []
  }
 ],
 "metadata": {
  "kernelspec": {
   "display_name": "Python 3 (ipykernel)",
   "language": "python",
   "name": "python3"
  },
  "language_info": {
   "codemirror_mode": {
    "name": "ipython",
    "version": 3
   },
   "file_extension": ".py",
   "mimetype": "text/x-python",
   "name": "python",
   "nbconvert_exporter": "python",
   "pygments_lexer": "ipython3",
   "version": "3.11.3"
  }
 },
 "nbformat": 4,
 "nbformat_minor": 5
}
