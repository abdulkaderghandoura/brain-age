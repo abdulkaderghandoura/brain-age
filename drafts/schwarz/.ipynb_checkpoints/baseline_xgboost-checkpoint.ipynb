{
 "cells": [
  {
   "cell_type": "code",
   "execution_count": 1,
   "id": "9c96e092",
   "metadata": {},
   "outputs": [],
   "source": [
    "import numpy as np\n",
    "import pandas as pd\n",
    "import sklearn\n",
    "import matplotlib.pyplot as plt\n",
    "import matplotlib as mpl\n",
    "import mne\n",
    "import pathlib\n",
    "import pytorch_lightning as pl\n",
    "import torch\n",
    "import torcheeg\n",
    "import xgboost\n",
    "import wandb"
   ]
  },
  {
   "cell_type": "markdown",
   "id": "18b6af0d",
   "metadata": {},
   "source": [
    "### Interface with data"
   ]
  },
  {
   "cell_type": "code",
   "execution_count": 2,
   "id": "dee7d11a",
   "metadata": {},
   "outputs": [
    {
     "ename": "AssertionError",
     "evalue": "",
     "output_type": "error",
     "traceback": [
      "\u001b[0;31m---------------------------------------------------------------------------\u001b[0m",
      "\u001b[0;31mAssertionError\u001b[0m                            Traceback (most recent call last)",
      "Cell \u001b[0;32mIn[2], line 2\u001b[0m\n\u001b[1;32m      1\u001b[0m data_dir \u001b[38;5;241m=\u001b[39m pathlib\u001b[38;5;241m.\u001b[39mPath(\u001b[38;5;124m\"\u001b[39m\u001b[38;5;124m../../data/bap/\u001b[39m\u001b[38;5;124m\"\u001b[39m)\n\u001b[0;32m----> 2\u001b[0m \u001b[38;5;28;01massert\u001b[39;00m data_dir\u001b[38;5;241m.\u001b[39mis_dir()\n\u001b[1;32m      4\u001b[0m data_dir_healthy \u001b[38;5;241m=\u001b[39m data_dir \u001b[38;5;241m/\u001b[39m \u001b[38;5;124m\"\u001b[39m\u001b[38;5;124mhealthy_controls/preprocessed\u001b[39m\u001b[38;5;124m\"\u001b[39m\n\u001b[1;32m      5\u001b[0m \u001b[38;5;28;01massert\u001b[39;00m data_dir_healthy\u001b[38;5;241m.\u001b[39mis_dir()\n",
      "\u001b[0;31mAssertionError\u001b[0m: "
     ]
    }
   ],
   "source": [
    "data_dir = pathlib.Path(\"../../data/bap/\")\n",
    "assert data_dir.is_dir()\n",
    "\n",
    "data_dir_healthy = data_dir / \"healthy_controls/preprocessed\"\n",
    "assert data_dir_healthy.is_dir()\n",
    "\n",
    "data_dir_chronic_pain = data_dir / \"chronic_pain_patients\"\n",
    "assert data_dir_chronic_pain.is_dir()"
   ]
  },
  {
   "cell_type": "code",
   "execution_count": null,
   "id": "a6f9d830",
   "metadata": {},
   "outputs": [],
   "source": [
    "eeg_files_all = list(data_dir.rglob(\"*.vhdr\"))\n",
    "\n",
    "eeg_files_raw = [f for f in eeg_files_all if not \"preprocessed\" in str(f)]\n",
    "eeg_files_preprocessed = [f for f in eeg_files_all if \"preprocessed\" in str(f)]\n",
    "\n",
    "eeg_files_healthy = list(data_dir_healthy.rglob(\"*.vhdr\"))\n",
    "eeg_files_chronic_pain = [f for f in eeg_files_preprocessed if \"chronic_pain_patients\" in str(f)]\n"
   ]
  },
  {
   "cell_type": "markdown",
   "id": "713fc9fa",
   "metadata": {},
   "source": [
    "### Analyze the subject data"
   ]
  },
  {
   "cell_type": "code",
   "execution_count": null,
   "id": "30d55821",
   "metadata": {},
   "outputs": [],
   "source": [
    "def get_subj_id(eeg_file: pathlib.Path):\n",
    "    return eeg_file.stem.split(\"_\")[-3]\n",
    "\n",
    "def get_age(df_subj, eeg_file: pathlib.Path):\n",
    "    subj_id = get_subj_id(eeg_file)\n",
    "    return df_subj[df_subj[\"Subject ID\"] == subj_id][\"Age(years)\"].values[0]"
   ]
  },
  {
   "cell_type": "markdown",
   "id": "8f7a4ac6",
   "metadata": {},
   "source": [
    "#### Load clinical data"
   ]
  },
  {
   "cell_type": "code",
   "execution_count": null,
   "id": "247a3e1b",
   "metadata": {},
   "outputs": [],
   "source": [
    "f_subj = data_dir / \"clinical_data_updated_2020-08-04.ods\"\n",
    "assert f_subj.is_file()"
   ]
  },
  {
   "cell_type": "code",
   "execution_count": null,
   "id": "9a0675da",
   "metadata": {},
   "outputs": [],
   "source": [
    "df_subj_chronic_pain = pd.read_excel(f_subj, sheet_name=0, engine=\"odf\", skiprows=1)\n",
    "df_subj_healthy = pd.read_excel(f_subj, sheet_name=1, engine=\"odf\", skiprows=0)\n",
    "\n",
    "df_subj = pd.concat([df_subj_chronic_pain, df_subj_healthy])\n",
    "df_subj[\"Age(years)\"] = df_subj[\"Age(years)\"].fillna(df_subj[\"Age (years)\"])\n",
    "\n",
    "print(f\"# recorded subjects:      {len(df_subj)}\")\n",
    "print(f\"# raw eeg files:          {len(eeg_files_raw)}\")\n",
    "print(f\"# preprocessed eeg files: {len(eeg_files_preprocessed)}\")\n",
    "\n",
    "zfill_ints = lambda x:str(x).zfill(3) if type(x) else x\n",
    "df_subj_chronic_pain[\"Subject ID\"] = df_subj_chronic_pain[\"Subject ID\"].astype(str).map(zfill_ints)\n",
    "df_subj_healthy[\"Subject ID\"] = df_subj_healthy[\"Subject ID\"].astype(str).map(zfill_ints)\n",
    "df_subj[\"Subject ID\"] = df_subj[\"Subject ID\"].astype(str).map(zfill_ints)\n",
    "\n",
    "df_subj"
   ]
  },
  {
   "cell_type": "markdown",
   "id": "5b8ae5e0",
   "metadata": {},
   "source": [
    "#### Check the metadata and set channel types"
   ]
  },
  {
   "cell_type": "code",
   "execution_count": null,
   "id": "e1b7e52e",
   "metadata": {},
   "outputs": [],
   "source": [
    "example_raw = mne.io.read_raw_brainvision(eeg_files_chronic_pain[0])\n",
    "example_raw"
   ]
  },
  {
   "cell_type": "code",
   "execution_count": null,
   "id": "ca942a0d",
   "metadata": {},
   "outputs": [],
   "source": [
    "channel_to_channel_type = {ch_name:\"eeg\" for ch_name in example_raw.ch_names}\n",
    "channel_to_channel_type.update({\"LE\":\"misc\", \"RE\":\"misc\"})\n",
    "eeg_chs = [ch for ch in example_raw.ch_names if not (ch==\"RE\" or ch==\"LE\")]\n",
    "example_raw.set_channel_types(channel_to_channel_type)\n"
   ]
  },
  {
   "cell_type": "code",
   "execution_count": null,
   "id": "ae9f238c",
   "metadata": {},
   "outputs": [],
   "source": [
    "montage = mne.channels.make_standard_montage(\"standard_1020\")\n",
    "example_raw = example_raw.set_montage(montage)"
   ]
  },
  {
   "cell_type": "code",
   "execution_count": null,
   "id": "022682da",
   "metadata": {},
   "outputs": [],
   "source": [
    "for f in eeg_files_preprocessed:\n",
    "    if not f.is_file():\n",
    "        print(f)"
   ]
  },
  {
   "cell_type": "markdown",
   "id": "726b5a36",
   "metadata": {},
   "source": [
    "### Extract PSD dataset"
   ]
  },
  {
   "cell_type": "code",
   "execution_count": null,
   "id": "12c0fc19",
   "metadata": {
    "scrolled": true
   },
   "outputs": [],
   "source": [
    "ages = []\n",
    "psds = []\n",
    "\n",
    "for f in eeg_files_preprocessed:\n",
    "    \n",
    "    age = get_age(df_subj, f)\n",
    "    raw = mne.io.read_raw_brainvision(f, verbose=False, preload=True)\n",
    "    raw = raw.set_channel_types(channel_to_channel_type, verbose=False)\n",
    "    raw = raw.crop(raw.tmin+30, raw.tmax-30)\n",
    "    \n",
    "    raw = raw.notch_filter(freqs=50, notch_widths=0.5)\n",
    "    raw = raw.filter(l_freq=1, h_freq=100)\n",
    "    \n",
    "    epochs = mne.make_fixed_length_epochs(raw, duration=10, preload=True)\n",
    "    epochs_psds = np.log(epochs.compute_psd(\"welch\", fmin=1, fmax=100, n_fft=int(5*1024)))\n",
    "    \n",
    "    psds.append(epochs_psds)\n",
    "    ages.append(len(epochs_psds)*[age])\n",
    "\n"
   ]
  },
  {
   "cell_type": "code",
   "execution_count": null,
   "id": "3e75a7ec",
   "metadata": {},
   "outputs": [],
   "source": [
    "from sklearn.ensemble import RandomForestRegressor\n",
    "from sklearn.ensemble import GradientBoostingRegressor\n",
    "from sklearn.preprocessing import StandardScaler\n",
    "from sklearn.model_selection import RandomizedSearchCV, RepeatedKFold, cross_val_score, KFold, train_test_split\n",
    "from sklearn.pipeline import Pipeline"
   ]
  },
  {
   "cell_type": "markdown",
   "id": "105d8af6",
   "metadata": {},
   "source": [
    "### Baselines with train-validation split"
   ]
  },
  {
   "cell_type": "code",
   "execution_count": null,
   "id": "5e84d83a",
   "metadata": {},
   "outputs": [],
   "source": [
    "ch_name_to_ch_pos = montage.get_positions()[\"ch_pos\"]\n",
    "\n",
    "pos = [ch_name_to_ch_pos[ch_name] for ch_name in example_raw.ch_names if channel_to_channel_type[ch_name]==\"eeg\"]\n",
    "pos = np.stack(pos)"
   ]
  },
  {
   "cell_type": "code",
   "execution_count": null,
   "id": "57b53090",
   "metadata": {},
   "outputs": [],
   "source": [
    "### small sanity check: shuffling retains relationships between labels and features\n",
    "\n",
    "permutation1 = np.arange(0, 10)\n",
    "permutation2 = np.arange(0, 10)\n",
    "permutation3 = np.array([3*[i] for i in range(10)])\n",
    "\n",
    "np.random.seed(42)\n",
    "np.random.shuffle(permutation1)\n",
    "np.random.seed(42)\n",
    "np.random.shuffle(permutation2)\n",
    "np.random.seed(42)\n",
    "np.random.shuffle(permutation3)\n",
    "\n",
    "permutation1[0], permutation2[0], permutation3[0]"
   ]
  },
  {
   "cell_type": "code",
   "execution_count": null,
   "id": "ea0b654d",
   "metadata": {},
   "outputs": [],
   "source": [
    "np.random.seed(42)\n",
    "np.random.shuffle(psds)\n",
    "np.random.seed(42)\n",
    "np.random.shuffle(ages)\n",
    "\n",
    "n_train = int(0.7*len(psds))\n",
    "n_val = int(0.15*len(psds))\n",
    "n_test = int(0.15*len(psds))\n",
    "\n",
    "psds_train = np.concatenate(psds[:n_train])\n",
    "psds_train = psds_train.reshape(len(psds_train), -1)\n",
    "ages_train = np.concatenate(ages[:n_train])\n",
    "\n",
    "psds_val = np.concatenate(psds[n_train:n_train+n_val])\n",
    "psds_val = psds_val.reshape(len(psds_val), -1)\n",
    "ages_val = np.concatenate(ages[n_train:n_train+n_val])\n",
    "\n",
    "print(\"# subjects\")\n",
    "print(f\"train set: {n_train}\")\n",
    "print(f\"validation set: {n_val}\")\n",
    "print(f\"test set: {n_test}\")"
   ]
  },
  {
   "cell_type": "code",
   "execution_count": null,
   "id": "6debb2d7",
   "metadata": {},
   "outputs": [],
   "source": [
    "scaler = StandardScaler()\n",
    "X_train = scaler.fit_transform(psds_train)\n",
    "\n",
    "rfg = RandomForestRegressor(n_jobs=128)\n",
    "rfg.fit(psds_train, ages_train)\n",
    "r_squared_rfg_train = rfg.score(scaler.transform(psds_train), ages_train)\n",
    "r_squared_rfg_val = rfg.score(scaler.transform(psds_val), ages_val)\n",
    "\n",
    "print(\"Random forest regressor\")\n",
    "print(f\"train R²:     {r_squared_rfg_train:.3}\")\n",
    "print(f\"val R²:     {r_squared_rfg_val:.3}\")"
   ]
  },
  {
   "cell_type": "code",
   "execution_count": null,
   "id": "1e5553d1",
   "metadata": {},
   "outputs": [],
   "source": [
    "# percent_feat = 0.5\n",
    "# feat_mask = rfg.feature_importances_ > np.percentile(rfg.feature_importances_, 100-percent_feat)\n",
    "# X_train = X_train[:, feat_mask]\n",
    "# X_val = X_val[:, feat_mask]\n",
    "# scaler = StandardScaler()\n",
    "# X_train = scaler.fit_transform(X_train)\n",
    "\n",
    "gbr = GradientBoostingRegressor(n_estimators=400)\n",
    "gbr.fit(psds_train, ages_train)\n",
    "r_squared_gbr_train = gbr.score(scaler.transform(psds_train), ages_train)\n",
    "r_squared_gbr_val = gbr.score(scaler.transform(psds_val), ages_val)\n",
    "\n",
    "print(\"\\nTraining performance (R²) \\n\")\n",
    "print(f\"random forest regressor:     {r_squared_rfg_train:.3}\")\n",
    "print(f\"gradient boosting regressor: {r_squared_gbr_train:.3}\")\n",
    "print(\"\\nValidation performance (R²) \\n\")\n",
    "print(f\"random forest regressor:     {r_squared_rfg_val:.3}\")\n",
    "print(f\"gradient boosting regressor: {r_squared_gbr_val:.3}\")"
   ]
  },
  {
   "cell_type": "markdown",
   "id": "5c0b78e3",
   "metadata": {},
   "source": [
    "### KFold Crossvalidation"
   ]
  },
  {
   "cell_type": "code",
   "execution_count": null,
   "id": "c697db49",
   "metadata": {},
   "outputs": [],
   "source": [
    "# X, y = psds.reshape(len(psds), -1), ages\n",
    "# X_train, X_test, y_train, y_test = train_test_split(\n",
    "#     X, y, test_size=0.33)\n",
    "\n",
    "# scaler = StandardScaler()\n",
    "# X_train = scaler.fit_transform(X_train)"
   ]
  },
  {
   "cell_type": "markdown",
   "id": "e746e99d",
   "metadata": {},
   "source": [
    "#### Random Forest Regressor (sklearn)"
   ]
  },
  {
   "cell_type": "code",
   "execution_count": null,
   "id": "bc3b508c",
   "metadata": {},
   "outputs": [],
   "source": [
    "rfg = RandomForestRegressor(n_jobs=-1)\n",
    "rfg_pipe = Pipeline(steps=[(\"scaler\", scaler), (\"rfg\", rfg)])\n",
    "\n",
    "cv = KFold(n_splits=10)\n",
    "\n",
    "r_squared_rfg_val = cross_val_score(rfg_pipe, X=psds_train, y=ages_train, scoring='r2', cv=cv, n_jobs=-1)\n",
    "r_squared_rfg_val_mean, r_squared_rfg_val_std = r_squared_rfg_val.mean(), r_squared_rfg_val.std()\n",
    "\n",
    "print(f\"{r_squared_rfg_val_mean:.3} +/- {r_squared_rfg_val_std:.3}\")"
   ]
  },
  {
   "cell_type": "markdown",
   "id": "93d467b3",
   "metadata": {},
   "source": [
    "#### Gradient Boosting Regressor (sklearn)"
   ]
  },
  {
   "cell_type": "markdown",
   "id": "160ee903",
   "metadata": {},
   "source": [
    "Slow to train since it doesn't support parallelism"
   ]
  },
  {
   "cell_type": "code",
   "execution_count": null,
   "id": "ddc05738",
   "metadata": {},
   "outputs": [],
   "source": [
    "gbr = GradientBoostingRegressor()\n",
    "gbr_pipe = Pipeline(steps=[(\"scaler\", scaler), (\"gbr\", gbr)])\n",
    "\n",
    "cv = KFold(n_splits=10)\n",
    "\n",
    "r_squared_gbr_val = cross_val_score(gbr_pipe, X=psds_train, y=ages_train, scoring='r2', cv=cv, n_jobs=32)\n",
    "r_squared_gbr_val_mean, r_squared_gbr_val_std = r_squared_gbr_val.mean(), r_squared_gbr_val.std()\n",
    "\n",
    "print(f\"{r_squared_gbr_val_mean:.3} +/- {r_squared_gbr_val_std:.3}\")"
   ]
  },
  {
   "cell_type": "markdown",
   "id": "4efc0986",
   "metadata": {},
   "source": [
    "#### Gradient Boosting Regressor (XGboost)"
   ]
  },
  {
   "cell_type": "code",
   "execution_count": null,
   "id": "556ec3c1",
   "metadata": {},
   "outputs": [],
   "source": [
    "from xgboost import XGBRegressor"
   ]
  },
  {
   "cell_type": "code",
   "execution_count": null,
   "id": "32999267",
   "metadata": {},
   "outputs": [],
   "source": [
    "xgbr = XGBRegressor(n_estimators=160, max_depth=2, learning_rate=0.1, tree_method='gpu_hist', gpu_id=0)\n",
    "xgbr_pipe = Pipeline(steps=[(\"scaler\", scaler), (\"xgbr\", xgbr)])\n",
    "\n",
    "cv = KFold(n_splits=10)\n",
    "\n",
    "r_squared_xgbr_val = cross_val_score(xgbr_pipe, X=psds_train, y=ages_train, scoring='r2', cv=cv, n_jobs=-1)\n",
    "r_squared_xgbr_val_mean, r_squared_xgbr_val_std = r_squared_xgbr_val.mean(), r_squared_xgbr_val.std()\n",
    "\n",
    "print(f\"{r_squared_xgbr_val_mean:.3} +/- {r_squared_xgbr_val_std:.3}\")"
   ]
  },
  {
   "cell_type": "markdown",
   "id": "08035459",
   "metadata": {},
   "source": [
    "### XGBoost hyperparameter tuning (on GPU)"
   ]
  },
  {
   "cell_type": "code",
   "execution_count": null,
   "id": "5b3ca9b0",
   "metadata": {},
   "outputs": [],
   "source": [
    "param_distributions = {\n",
    "    \"xg_gbr__n_estimators\": [20, 80, 160, 320, 640, 1280],\n",
    "    \"xg_gbr__max_depth\": [2, 3, 4, 5, 6],\n",
    "    \"xg_gbr__learning_rate\": [1e-3, 1e-2, 1e-1, 0.2]\n",
    "}\n",
    "\n",
    "xgb_regr = XGBRegressor(tree_method='gpu_hist', gpu_id=0)\n",
    "xgb_pipe = Pipeline(steps=[(\"scaler\", scaler), (\"xg_gbr\", xgb_regr)])\n",
    "\n",
    "inner_cv = KFold(n_splits=5)\n",
    "outer_cv = KFold(n_splits=5)\n",
    "\n",
    "xgb_regr_cv = RandomizedSearchCV(xgb_pipe, param_distributions, cv=inner_cv, n_iter=100)\n",
    "search = xgb_regr_cv.fit(psds_train, ages_train)\n",
    "\n",
    "r_squared_xgbr_train = xgb_regr_cv.best_score_\n",
    "r_squared_xgbr_val = cross_val_score(xgb_regr_cv, X=psds_train, y=ages_train, scoring='r2', cv=outer_cv)\n",
    "\n",
    "print(\n",
    "    r_squared_xgbr_train,\n",
    "    r_squared_xgbr_val.mean(),\n",
    "    r_squared_xgbr_val.std()\n",
    ")"
   ]
  }
 ],
 "metadata": {
  "kernelspec": {
   "display_name": "Python 3 (ipykernel)",
   "language": "python",
   "name": "python3"
  },
  "language_info": {
   "codemirror_mode": {
    "name": "ipython",
    "version": 3
   },
   "file_extension": ".py",
   "mimetype": "text/x-python",
   "name": "python",
   "nbconvert_exporter": "python",
   "pygments_lexer": "ipython3",
   "version": "3.10.9"
  }
 },
 "nbformat": 4,
 "nbformat_minor": 5
}
