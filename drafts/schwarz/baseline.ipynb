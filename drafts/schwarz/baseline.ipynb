{
 "cells": [
  {
   "cell_type": "code",
   "execution_count": null,
   "id": "9c96e092",
   "metadata": {},
   "outputs": [],
   "source": [
    "import numpy as np\n",
    "import pandas as pd\n",
    "import sklearn\n",
    "import matplotlib.pyplot as plt\n",
    "import matplotlib as mpl\n",
    "import mne\n",
    "import pathlib\n",
    "import pytorch_lightning as pl\n",
    "import torch\n",
    "import torcheeg\n",
    "import xgboost\n",
    "import wandb"
   ]
  },
  {
   "cell_type": "code",
   "execution_count": null,
   "id": "79d6df22",
   "metadata": {},
   "outputs": [],
   "source": [
    "%load_ext autoreload\n",
    "%autoreload 2\n",
    "\n",
    "import sys\n",
    "sys.path.append('../../code')\n",
    "from preprocessing import preprocess_data\n",
    "from transforms import _compose, _randomcrop, totensor, \\\n",
    "channelwide_norm, channelwise_norm, _clamp, toimshape, \\\n",
    "_labelcenter, _labelnorm, _labelbin\n",
    "from functools import partial\n",
    "from data import BrainAgeDataset"
   ]
  },
  {
   "cell_type": "code",
   "execution_count": null,
   "id": "e683222d",
   "metadata": {},
   "outputs": [],
   "source": [
    "from pytorch_lightning.callbacks.early_stopping import EarlyStopping\n",
    "from pytorch_lightning.tuner import Tuner"
   ]
  },
  {
   "cell_type": "markdown",
   "id": "18b6af0d",
   "metadata": {},
   "source": [
    "### Interface with data"
   ]
  },
  {
   "cell_type": "code",
   "execution_count": null,
   "id": "dee7d11a",
   "metadata": {},
   "outputs": [],
   "source": [
    "data_dir = pathlib.Path(\"../../data/bap/\")\n",
    "assert data_dir.is_dir()\n",
    "\n",
    "data_dir_healthy = data_dir / \"healthy_controls/preprocessed\"\n",
    "assert data_dir_healthy.is_dir()\n",
    "\n",
    "data_dir_chronic_pain = data_dir / \"chronic_pain_patients\"\n",
    "assert data_dir_chronic_pain.is_dir()"
   ]
  },
  {
   "cell_type": "code",
   "execution_count": null,
   "id": "a6f9d830",
   "metadata": {},
   "outputs": [],
   "source": [
    "eeg_files_all = list(data_dir.rglob(\"*.vhdr\"))\n",
    "\n",
    "eeg_files_raw = [f for f in eeg_files_all if not \"preprocessed\" in str(f)]\n",
    "eeg_files_preprocessed = [f for f in eeg_files_all if \"preprocessed\" in str(f)]\n",
    "\n",
    "eeg_files_healthy = list(data_dir_healthy.rglob(\"*.vhdr\"))\n",
    "eeg_files_chronic_pain = [f for f in eeg_files_preprocessed if \"chronic_pain_patients\" in str(f)]\n"
   ]
  },
  {
   "cell_type": "markdown",
   "id": "713fc9fa",
   "metadata": {},
   "source": [
    "### Analyze the subject data"
   ]
  },
  {
   "cell_type": "code",
   "execution_count": null,
   "id": "b88dace3",
   "metadata": {},
   "outputs": [],
   "source": [
    "def get_subj_id(eeg_file: pathlib.Path):\n",
    "    return eeg_file.stem.split(\"_\")[-3]\n",
    "\n",
    "def get_age(df_subj, eeg_file: pathlib.Path):\n",
    "    subj_id = get_subj_id(eeg_file)\n",
    "    return df_subj[df_subj[\"Subject ID\"] == subj_id][\"Age(years)\"].values[0]"
   ]
  },
  {
   "cell_type": "markdown",
   "id": "8f7a4ac6",
   "metadata": {},
   "source": [
    "#### Load clinical data"
   ]
  },
  {
   "cell_type": "code",
   "execution_count": null,
   "id": "247a3e1b",
   "metadata": {},
   "outputs": [],
   "source": [
    "f_subj = data_dir / \"clinical_data_updated_2020-08-04.ods\"\n",
    "assert f_subj.is_file()"
   ]
  },
  {
   "cell_type": "code",
   "execution_count": null,
   "id": "9a0675da",
   "metadata": {},
   "outputs": [],
   "source": [
    "df_subj_chronic_pain = pd.read_excel(f_subj, sheet_name=0, engine=\"odf\", skiprows=1)\n",
    "df_subj_healthy = pd.read_excel(f_subj, sheet_name=1, engine=\"odf\", skiprows=0)\n",
    "\n",
    "df_subj = pd.concat([df_subj_chronic_pain, df_subj_healthy])\n",
    "df_subj[\"Age(years)\"] = df_subj[\"Age(years)\"].fillna(df_subj[\"Age (years)\"])\n",
    "\n",
    "print(f\"# recorded subjects:      {len(df_subj)}\")\n",
    "print(f\"# raw eeg files:          {len(eeg_files_raw)}\")\n",
    "print(f\"# preprocessed eeg files: {len(eeg_files_preprocessed)}\")\n",
    "\n",
    "zfill_ints = lambda x:str(x).zfill(3) if type(x) else x\n",
    "df_subj_chronic_pain[\"Subject ID\"] = df_subj_chronic_pain[\"Subject ID\"].astype(str).map(zfill_ints)\n",
    "df_subj_healthy[\"Subject ID\"] = df_subj_healthy[\"Subject ID\"].astype(str).map(zfill_ints)\n",
    "df_subj[\"Subject ID\"] = df_subj[\"Subject ID\"].astype(str).map(zfill_ints)\n",
    "\n",
    "df_subj"
   ]
  },
  {
   "cell_type": "markdown",
   "id": "5b8ae5e0",
   "metadata": {},
   "source": [
    "#### Check the metadata and set channel types"
   ]
  },
  {
   "cell_type": "code",
   "execution_count": null,
   "id": "e1b7e52e",
   "metadata": {},
   "outputs": [],
   "source": [
    "example_raw = mne.io.read_raw_brainvision(eeg_files_chronic_pain[0])\n",
    "example_raw"
   ]
  },
  {
   "cell_type": "code",
   "execution_count": null,
   "id": "ca942a0d",
   "metadata": {},
   "outputs": [],
   "source": [
    "channel_to_channel_type = {ch_name:\"eeg\" for ch_name in example_raw.ch_names}\n",
    "channel_to_channel_type.update({\"LE\":\"misc\", \"RE\":\"misc\"})\n",
    "eeg_chs = [ch for ch in example_raw.ch_names if not (ch==\"RE\" or ch==\"LE\")]\n",
    "example_raw.set_channel_types(channel_to_channel_type)\n"
   ]
  },
  {
   "cell_type": "code",
   "execution_count": null,
   "id": "ae9f238c",
   "metadata": {},
   "outputs": [],
   "source": [
    "montage = mne.channels.make_standard_montage(\"standard_1020\")\n",
    "example_raw = example_raw.set_montage(montage)"
   ]
  },
  {
   "cell_type": "code",
   "execution_count": null,
   "id": "4c2e38d0",
   "metadata": {},
   "outputs": [],
   "source": [
    "channel_to_channel_type = {ch_name:\"eeg\" for ch_name in example_raw.ch_names}\n",
    "channel_to_channel_type.update({\"LE\":\"misc\", \"RE\":\"misc\"})"
   ]
  },
  {
   "cell_type": "code",
   "execution_count": null,
   "id": "022682da",
   "metadata": {},
   "outputs": [],
   "source": [
    "for f in eeg_files_preprocessed:\n",
    "    if not f.is_file():\n",
    "        print(f)"
   ]
  },
  {
   "cell_type": "markdown",
   "id": "0c818e29",
   "metadata": {},
   "source": [
    "### Neural network baseline"
   ]
  },
  {
   "cell_type": "code",
   "execution_count": null,
   "id": "8cb04e73",
   "metadata": {},
   "outputs": [],
   "source": [
    "from torcheeg.models import EEGNet"
   ]
  },
  {
   "cell_type": "code",
   "execution_count": null,
   "id": "39b413c7",
   "metadata": {},
   "outputs": [],
   "source": [
    "sfreq = 128\n",
    "epoch_len = sfreq * 20\n",
    "\n",
    "epochs = []\n",
    "ages = []\n",
    "\n",
    "for f in eeg_files_preprocessed:\n",
    "    \n",
    "    sub_id = get_subj_id(f)\n",
    "    age = get_age(df_subj, f)\n",
    "    raw = mne.io.read_raw_brainvision(f, verbose=False, preload=True)\n",
    "    \n",
    "    raw.set_channel_types(channel_to_channel_type)\n",
    "    raw = raw.crop(raw.tmin+30, raw.tmax-30)\n",
    "    raw = raw.notch_filter(freqs=50, notch_widths=0.5)\n",
    "    raw = raw.filter(l_freq=0.5, h_freq=sfreq//(2+1))\n",
    "\n",
    "    raw = raw.resample(sfreq=sfreq)\n",
    "    data = raw.get_data(picks=eeg_chs)\n",
    "    \n",
    "    sections = np.arange(0, data.shape[-1], epoch_len)\n",
    "    epochs_subj = np.split(data, sections, axis=1)[1:-1]\n",
    "    \n",
    "    epochs.append(epochs_subj)\n",
    "    ages.append(len(epochs_subj)*[age])\n",
    "\n"
   ]
  },
  {
   "cell_type": "code",
   "execution_count": null,
   "id": "e6808c44",
   "metadata": {},
   "outputs": [],
   "source": [
    "hparams_eegnet = {\n",
    "    \"learning_rate\":1e-4,\n",
    "    \"batch_size\":64,\n",
    "    \"chunk_size\":int(sfreq*1),\n",
    "    \"dropout\":0.25,\n",
    "    \"kernel_1\": sfreq//2,\n",
    "    \"kernel_2\": sfreq//8,\n",
    "    \"F1\":8,\n",
    "    \"F2\":16,\n",
    "    \"depth_multiplier\":2\n",
    "}\n",
    "\n",
    "eegnet = EEGNet(chunk_size=hparams_eegnet[\"chunk_size\"],\n",
    "               num_electrodes=63,\n",
    "               dropout=hparams_eegnet[\"dropout\"],\n",
    "               kernel_1=hparams_eegnet[\"kernel_1\"],\n",
    "               kernel_2=hparams_eegnet[\"kernel_2\"],\n",
    "               F1=hparams_eegnet[\"F1\"],\n",
    "               F2=hparams_eegnet[\"F2\"],\n",
    "               D=hparams_eegnet[\"depth_multiplier\"],\n",
    "               num_classes=1)"
   ]
  },
  {
   "cell_type": "code",
   "execution_count": null,
   "id": "80228d73",
   "metadata": {},
   "outputs": [],
   "source": [
    "mean_age = torch.tensor(round(df_subj[\"Age(years)\"].mean(), 3))\n",
    "\n",
    "randomcrop = partial(_randomcrop, seq_len=hparams_eegnet[\"chunk_size\"])\n",
    "# labelcenter = partial(_labelcenter, mean_age=round(df_subj[\"Age(years)\"].mean(), 3))\n",
    "labelbin = partial(_labelbin, y_lower=mean_age)\n",
    "transforms = partial(_compose, transforms=[totensor, randomcrop, channelwise_norm, toimshape])\n",
    "target_transforms = partial(_compose, transforms=[labelbin, totensor])"
   ]
  },
  {
   "cell_type": "code",
   "execution_count": null,
   "id": "a40dcfe5",
   "metadata": {},
   "outputs": [],
   "source": [
    "np.random.seed(42), np.random.shuffle(epochs)\n",
    "np.random.seed(42), np.random.shuffle(ages)\n",
    "\n",
    "n_train = int(0.8*len(epochs))\n",
    "\n",
    "epochs_train = epochs[:n_train]\n",
    "ages_train = ages[:n_train]\n",
    "\n",
    "epochs_val = epochs[n_train:]\n",
    "ages_val = ages[n_train:]\n",
    "\n",
    "dataset_train = BrainAgeDataset(np.concatenate(epochs_train), np.concatenate(ages_train), \n",
    "                                transforms=transforms, target_transforms=target_transforms)\n",
    "dataset_val = BrainAgeDataset(np.concatenate(epochs_val), np.concatenate(ages_val), \n",
    "                              transforms=transforms, target_transforms=target_transforms)\n",
    "\n",
    "dataloader_train = torch.utils.data.DataLoader(dataset_train, batch_size=hparams_eegnet[\"batch_size\"], shuffle=True, drop_last=True)\n",
    "dataloader_val = torch.utils.data.DataLoader(dataset_val, batch_size=hparams_eegnet[\"batch_size\"], drop_last=True)\n",
    "\n",
    "print(len(dataset_train), len(dataset_val))"
   ]
  },
  {
   "cell_type": "code",
   "execution_count": null,
   "id": "8d0de679",
   "metadata": {},
   "outputs": [],
   "source": [
    "n_class_0 = 0\n",
    "for x, y in dataset_train:\n",
    "    n_class_0 += y.item()\n",
    "\n",
    "\n",
    "print(\"Subjects above the age threshold\")  \n",
    "print(f\"train set: {100*n_class_0 / len(dataset_train):.3}\")\n",
    "\n",
    "n_class_0 = 0\n",
    "for x, y in dataset_val:\n",
    "    n_class_0 += y.item()\n",
    "\n",
    "print(f\"validation set: {100*n_class_0 / len(dataset_val):.3}\")"
   ]
  },
  {
   "cell_type": "code",
   "execution_count": null,
   "id": "04633675",
   "metadata": {
    "scrolled": true
   },
   "outputs": [],
   "source": [
    "for eeg, age in dataloader_train.dataset:\n",
    "    plt.figure(figsize=(12,5))\n",
    "    print(eeg.mean(), eeg.std())\n",
    "    plt.title(f\"age label: {str(age.item())}\")\n",
    "    plt.imshow(eeg[0])\n",
    "    \n",
    "    plt.plot(eeg[0].T + torch.arange(eeg.shape[1]).unsqueeze(0), \"r\", alpha=0.25)\n",
    "    plt.xlabel(f\"time [@{sfreq}Hz]\")\n",
    "\n",
    "    plt.show()\n",
    "    break\n",
    "\n"
   ]
  },
  {
   "cell_type": "code",
   "execution_count": null,
   "id": "c95c54fd",
   "metadata": {
    "scrolled": true
   },
   "outputs": [],
   "source": [
    "len(np.concatenate(epochs)), len(np.concatenate(ages)), \\\n",
    "len(np.concatenate(epochs_train)), len(np.concatenate(ages_train))"
   ]
  },
  {
   "cell_type": "code",
   "execution_count": null,
   "id": "bc66d9e1",
   "metadata": {},
   "outputs": [],
   "source": [
    "class BrainAgeModel(pl.LightningModule):\n",
    "        \n",
    "    def __init__(self, model, hparams, loss_func, metric=None):\n",
    "        super().__init__()\n",
    "        self.model = model\n",
    "        self.hparams.update(hparams)\n",
    "        self.loss_func = loss_func\n",
    "        self.metric = metric\n",
    "        \n",
    "    def forward(self, x):\n",
    "        x = self.model(x)\n",
    "        return x\n",
    "    \n",
    "    def configure_optimizers(self):\n",
    "        return torch.optim.Adam(self.parameters(), lr=self.hparams[\"learning_rate\"])\n",
    "    \n",
    "    def validation_step(self, batch, batch_idx):\n",
    "        x, y = batch\n",
    "        y_hat = self.forward(x)\n",
    "        val_loss = -self.loss_func(y_hat.squeeze(), y.squeeze())\n",
    "        self.log(\"validation loss\", val_loss, on_step=True, on_epoch=True, prog_bar=True)\n",
    "        \n",
    "    def training_step(self, batch, batch_idx):\n",
    "        x, y = batch\n",
    "        y_hat = self.forward(x)\n",
    "        loss = -self.loss_func(y_hat.squeeze(), y.squeeze())\n",
    "        self.log(\"training loss\", loss, on_step=True, on_epoch=True, prog_bar=True)\n",
    "        if self.metric:\n",
    "            metric_val = self.metric[\"func\"](y_hat, y)\n",
    "            self.log(self.metric[\"name\"], metric_val, on_step=True, on_epoch=True, prog_bar=True)\n",
    "\n",
    "        return loss"
   ]
  },
  {
   "cell_type": "code",
   "execution_count": null,
   "id": "e50c38d8",
   "metadata": {},
   "outputs": [],
   "source": [
    "def score_accuracy(y_hat, y):\n",
    "    return (y==torch.argmax(y_hat, dim=-1)).float().mean()\n",
    "\n",
    "def score_binary_accuracy(y_hat, y):\n",
    "    return (y==torch.round(y_hat)).float().mean()\n",
    "\n",
    "def compute_r2(model, val_dataloader):\n",
    "    model.eval(), model.cpu()\n",
    "    rss, tss = 0, 0\n",
    "    for batch in val_dataloader:\n",
    "        x, y = batch\n",
    "        y_hat = model.forward(x)\n",
    "        rss += torch.nn.functional.mse_loss(y.squeeze(), y_hat.squeeze())\n",
    "        tss += y.var()\n",
    "    return 1 - rss/tss"
   ]
  },
  {
   "cell_type": "code",
   "execution_count": null,
   "id": "6d4ba048",
   "metadata": {},
   "outputs": [],
   "source": [
    "model = BrainAgeModel(\n",
    "    model=list(eegnet.modules())[0], \n",
    "    hparams=hparams_eegnet, \n",
    "    loss_func=torch.nn.functional.cross_entropy, \n",
    "    metric={\"name\":\"binary accuracy\", \"func\":score_binary_accuracy})\n",
    "print(model)\n",
    "example_out = model(next(iter(dataloader_train))[0])\n",
    "example_out.shape, example_out.min(), example_out.max()"
   ]
  },
  {
   "cell_type": "code",
   "execution_count": null,
   "id": "8bd5e736",
   "metadata": {
    "scrolled": false
   },
   "outputs": [],
   "source": [
    "import os\n",
    "os.environ[\"CUDA_VISIBLE_DEVICES\"] = \"0\"\n",
    "\n",
    "overfit_batches = 1\n",
    "wandb.login()\n",
    "logger = pl.loggers.WandbLogger(project=\"brain-age-ssl\", name=f\"EEGNet baseline on {overfit_batches} batches\", \n",
    "                                save_dir=\"/data0/practical-sose23/brain-age\", log_model=False)\n",
    "\n",
    "early_stop_callback = EarlyStopping(monitor=\"validation loss\", min_delta=0.00, patience=500, verbose=False, mode=\"max\")\n",
    "\n",
    "trainer = pl.Trainer(callbacks=[early_stop_callback], overfit_batches=1, max_epochs=500, accelerator=\"gpu\", logger=logger)\n",
    "# Tuner(trainer).lr_find(model, dataloader_train)\n",
    "\n",
    "trainer.fit(model, dataloader_train, dataloader_val)\n",
    "wandb.finish()"
   ]
  },
  {
   "cell_type": "code",
   "execution_count": null,
   "id": "6c15c1af",
   "metadata": {},
   "outputs": [],
   "source": [
    "compute_r2(model, dataloader_val), \\\n",
    "compute_r2(model, dataloader_train)"
   ]
  },
  {
   "cell_type": "code",
   "execution_count": null,
   "id": "8609b6e6",
   "metadata": {},
   "outputs": [],
   "source": [
    "!nvidia-smi"
   ]
  }
 ],
 "metadata": {
  "kernelspec": {
   "display_name": "Python 3 (ipykernel)",
   "language": "python",
   "name": "python3"
  },
  "language_info": {
   "codemirror_mode": {
    "name": "ipython",
    "version": 3
   },
   "file_extension": ".py",
   "mimetype": "text/x-python",
   "name": "python",
   "nbconvert_exporter": "python",
   "pygments_lexer": "ipython3",
   "version": "3.10.9"
  }
 },
 "nbformat": 4,
 "nbformat_minor": 5
}
