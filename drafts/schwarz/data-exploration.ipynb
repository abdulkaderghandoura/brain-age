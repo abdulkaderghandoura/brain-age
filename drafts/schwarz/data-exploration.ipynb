{
 "cells": [
  {
   "cell_type": "code",
   "execution_count": 2,
   "id": "9c96e092",
   "metadata": {},
   "outputs": [],
   "source": [
    "import numpy as np\n",
    "import pandas as pd\n",
    "import sklearn\n",
    "import matplotlib.pyplot as plt\n",
    "import matplotlib as mpl\n",
    "import mne\n",
    "import pathlib"
   ]
  },
  {
   "cell_type": "code",
   "execution_count": 3,
   "id": "bf3197f1",
   "metadata": {},
   "outputs": [],
   "source": [
    "lemon_info = pd.read_csv(\n",
    "  \"/data0/practical-sose23/brain-age/data/lemon/Behavioural_Data_MPILMBB_LEMON/META_File_IDs_Age_Gender_Education_Drug_Smoke_SKID_LEMON.csv\")"
   ]
  },
  {
   "cell_type": "markdown",
   "id": "18b6af0d",
   "metadata": {},
   "source": [
    "### Interface with data"
   ]
  },
  {
   "cell_type": "code",
   "execution_count": 4,
   "id": "dee7d11a",
   "metadata": {},
   "outputs": [],
   "source": [
    "data_dir = pathlib.Path(\"/data0/practical-sose23/brain-age/data/bap/preprocessed/\")\n",
    "assert data_dir.is_dir()\n",
    "\n",
    "data_dir_healthy = data_dir / \"healthy_controls/preprocessed\"\n",
    "assert data_dir_healthy.is_dir()\n",
    "\n",
    "data_dir_chronic_pain = data_dir / \"chronic_pain_patients\"\n",
    "assert data_dir_chronic_pain.is_dir()"
   ]
  },
  {
   "cell_type": "code",
   "execution_count": null,
   "id": "a6f9d830",
   "metadata": {},
   "outputs": [],
   "source": [
    "eeg_files_all = list(data_dir.rglob(\"*.vhdr\"))\n",
    "\n",
    "eeg_files_raw = [f for f in eeg_files_all if not \"preprocessed\" in str(f)]\n",
    "eeg_files_preprocessed = [f for f in eeg_files_all if \"preprocessed\" in str(f)]\n",
    "\n",
    "eeg_files_healthy = list(data_dir_healthy.rglob(\"*.vhdr\"))\n",
    "eeg_files_chronic_pain = [f for f in eeg_files_preprocessed if \"chronic_pain_patients\" in str(f)]\n"
   ]
  },
  {
   "cell_type": "markdown",
   "id": "713fc9fa",
   "metadata": {},
   "source": [
    "### Analyze the subject data"
   ]
  },
  {
   "cell_type": "markdown",
   "id": "8f7a4ac6",
   "metadata": {},
   "source": [
    "#### Load clinical data"
   ]
  },
  {
   "cell_type": "code",
   "execution_count": null,
   "id": "247a3e1b",
   "metadata": {},
   "outputs": [],
   "source": [
    "f_subj = data_dir / \"clinical_data_updated_2020-08-04.ods\"\n",
    "assert f_subj.is_file()"
   ]
  },
  {
   "cell_type": "code",
   "execution_count": null,
   "id": "9a0675da",
   "metadata": {},
   "outputs": [],
   "source": [
    "df_subj_chronic_pain = pd.read_excel(f_subj, sheet_name=0, engine=\"odf\", skiprows=1)\n",
    "df_subj_healthy = pd.read_excel(f_subj, sheet_name=1, engine=\"odf\", skiprows=0)\n",
    "\n",
    "df_subj = pd.concat([df_subj_chronic_pain, df_subj_healthy])\n",
    "df_subj[\"Age(years)\"] = df_subj[\"Age(years)\"].fillna(df_subj[\"Age (years)\"])\n",
    "\n",
    "print(f\"# recorded subjects:      {len(df_subj_healthy)+len(df_subj_chronic_pain)}\")\n",
    "print(f\"# raw eeg files:          {len(eeg_files_raw)}\")\n",
    "print(f\"# preprocessed eeg files: {len(eeg_files_preprocessed)}\")\n",
    "\n",
    "zfill_ints = lambda x:str(x).zfill(3) if type(x) else x\n",
    "df_subj_chronic_pain[\"Subject ID\"] = df_subj_chronic_pain[\"Subject ID\"].astype(str).map(zfill_ints)\n",
    "df_subj_healthy[\"Subject ID\"] = df_subj_healthy[\"Subject ID\"].astype(str).map(zfill_ints)\n",
    "df_subj[\"Subject ID\"] = df_subj[\"Subject ID\"].astype(str).map(zfill_ints)\n",
    "\n",
    "df_subj"
   ]
  },
  {
   "cell_type": "code",
   "execution_count": null,
   "id": "01af6118",
   "metadata": {},
   "outputs": [],
   "source": [
    "len(df_subj)"
   ]
  },
  {
   "cell_type": "code",
   "execution_count": null,
   "id": "eb12e257",
   "metadata": {},
   "outputs": [],
   "source": [
    "df_subj.hist(figsize=(15,15))"
   ]
  },
  {
   "cell_type": "markdown",
   "id": "3d1b9b25",
   "metadata": {},
   "source": [
    "#### Sex imbalance: more women among patients"
   ]
  },
  {
   "cell_type": "code",
   "execution_count": null,
   "id": "52b4b3a3",
   "metadata": {},
   "outputs": [],
   "source": [
    "plt.figure(figsize=(8,4))\n",
    "\n",
    "plt.subplot(1,2,1)\n",
    "plt.title(\"Healthy Controls\")#, fontsize=16)\n",
    "df_subj_healthy[df_subj_healthy[\"Sex (m/f)\"]==\"m\"][\"Age (years)\"].hist(\n",
    "    histtype=\"step\", label=\"male\", color=\"b\", linewidth=3, density=False)\n",
    "df_subj_healthy[df_subj_healthy[\"Sex (m/f)\"]==\"f\"][\"Age (years)\"].hist(\n",
    "    histtype=\"step\", label=\"female\", color=\"r\", linewidth=3, density=False)\n",
    "plt.ylabel(\"# participants\")#, fontsize=14)\n",
    "plt.xlabel(\"Age(years)\")#, fontsize=14)\n",
    "\n",
    "plt.subplot(1,2,2)\n",
    "plt.title(\"Chronic Pain Patients\")#, fontsize=16)\n",
    "df_subj_chronic_pain[df_subj_chronic_pain[\"Sex (m/f)\"]==\"m\"][\"Age(years)\"].hist(\n",
    "    histtype=\"step\", label=\"male\", color=\"b\", linewidth=3, density=False)\n",
    "df_subj_chronic_pain[df_subj_chronic_pain[\"Sex (m/f)\"]==\"f\"][\"Age(years)\"].hist(\n",
    "    histtype=\"step\", label=\"female\", color=\"r\", linewidth=3, density=False)\n",
    "plt.xlabel(\"Age(years)\")#, fontsize=14)\n",
    "plt.legend()\n",
    "plt.show()\n"
   ]
  },
  {
   "cell_type": "markdown",
   "id": "7d1b9562",
   "metadata": {},
   "source": [
    "#### Plot age distributions for every clinical condition and sex"
   ]
  },
  {
   "cell_type": "markdown",
   "id": "82ab30db",
   "metadata": {},
   "source": [
    "In men, some ages are not represented"
   ]
  },
  {
   "cell_type": "code",
   "execution_count": null,
   "id": "69754a0f",
   "metadata": {},
   "outputs": [],
   "source": [
    "conditions = df_subj_chronic_pain[\"Project prefix\"].unique()\n",
    "\n",
    "plt.figure(figsize=(20,8))\n",
    "\n",
    "for i, condition in enumerate(conditions):\n",
    "    plt.subplot(1,3,i+1)\n",
    "    \n",
    "    df_subj_by_cond = df_subj_chronic_pain[df_subj_chronic_pain[\"Project prefix\"]==condition]\n",
    "    is_male = df_subj_by_cond[\"Sex (m/f)\"]==\"m\"\n",
    "    is_female = is_male.map(lambda x: not x)\n",
    "    \n",
    "    plt.title(f\"{condition} (n = {is_male.sum()}m/{is_female.sum()}f)\")\n",
    "    df_subj_by_cond[is_male][\"Age(years)\"].hist(\n",
    "        histtype=\"step\", label=\"male\", color=\"b\", linewidth=3, density=True)\n",
    "    df_subj_by_cond[is_female][\"Age(years)\"].hist(\n",
    "        histtype=\"step\", label=\"female\", color=\"r\", linewidth=3, density=True)\n",
    "    plt.xlabel(\"Age(years)\")\n",
    "    \n",
    "plt.legend()\n",
    "plt.show()"
   ]
  },
  {
   "cell_type": "markdown",
   "id": "52f29687",
   "metadata": {},
   "source": [
    "#### Plot age distributions for every clinical condition"
   ]
  },
  {
   "cell_type": "markdown",
   "id": "f0d28d5a",
   "metadata": {},
   "source": [
    "The age distribution is similar across clinical conditions"
   ]
  },
  {
   "cell_type": "code",
   "execution_count": null,
   "id": "dc088903",
   "metadata": {
    "scrolled": true
   },
   "outputs": [],
   "source": [
    "conditions = df_subj_chronic_pain[\"Project prefix\"].unique()\n",
    "\n",
    "\n",
    "plt.figure(figsize=(8,3))\n",
    "plt.title(\"Age distribution for clinical classes\")\n",
    "\n",
    "df_subj_healthy[\"Age (years)\"].hist(\n",
    "    histtype=\"step\", label=f\"Healthy (n = {len(df_subj_healthy)})\", linewidth=3, density=False)\n",
    "\n",
    "\n",
    "for i, condition in enumerate(conditions):\n",
    "    \n",
    "    df_subj_by_cond = df_subj_chronic_pain[df_subj_chronic_pain[\"Project prefix\"]==condition]\n",
    "    \n",
    "    df_subj_by_cond[\"Age(years)\"].hist(\n",
    "        histtype=\"step\", label=f\"{condition} (n = {len(df_subj_by_cond)})\", linewidth=3, density=False)\n",
    "    plt.xlabel(\"Age(years)\")\n",
    "\n",
    "plt.ylabel(\"# participants\")\n",
    "plt.legend(loc=\"upper left\")"
   ]
  },
  {
   "cell_type": "code",
   "execution_count": null,
   "id": "aae9922d",
   "metadata": {},
   "outputs": [],
   "source": [
    "pd.plotting.scatter_matrix(df_subj, figsize=(15,15))"
   ]
  },
  {
   "cell_type": "markdown",
   "id": "7893d4a5",
   "metadata": {},
   "source": [
    "### Analyze a single eeg file"
   ]
  },
  {
   "cell_type": "markdown",
   "id": "cdadaea1",
   "metadata": {},
   "source": [
    "#### Load the file"
   ]
  },
  {
   "cell_type": "code",
   "execution_count": null,
   "id": "7789af69",
   "metadata": {
    "scrolled": true
   },
   "outputs": [],
   "source": [
    "example_raw = mne.io.read_raw_brainvision(eeg_files_chronic_pain[0])\n",
    "channel_to_channel_type = {ch_name:\"eeg\" for ch_name in example_raw.ch_names}\n",
    "channel_to_channel_type.update({\"LE\":\"misc\", \"RE\":\"misc\"})\n",
    "example_raw.set_channel_types(channel_to_channel_type)"
   ]
  },
  {
   "cell_type": "markdown",
   "id": "5b8ae5e0",
   "metadata": {},
   "source": [
    "#### Check the metadata"
   ]
  },
  {
   "cell_type": "code",
   "execution_count": null,
   "id": "e1b7e52e",
   "metadata": {},
   "outputs": [],
   "source": [
    "example_raw"
   ]
  },
  {
   "cell_type": "markdown",
   "id": "ad4248a5",
   "metadata": {},
   "source": [
    "#### Plot the locations of the eeg sensors on the head"
   ]
  },
  {
   "cell_type": "markdown",
   "id": "1efaf8b9",
   "metadata": {},
   "source": [
    "Find a montage that fits our data"
   ]
  },
  {
   "cell_type": "code",
   "execution_count": null,
   "id": "72900001",
   "metadata": {},
   "outputs": [],
   "source": [
    "for montage_name in mne.channels.get_builtin_montages():\n",
    "    montage = mne.channels.make_standard_montage(montage_name)\n",
    "    n_common_chs = len(set(example_raw.ch_names).intersection(set(montage.ch_names)))\n",
    "    print(\n",
    "        f\"montage: {montage_name} \\\n",
    "        \\nn_common_chs out of {len(montage.ch_names)}: {n_common_chs} \\\n",
    "        \\n==================\")"
   ]
  },
  {
   "cell_type": "markdown",
   "id": "cbdf4a84",
   "metadata": {},
   "source": [
    "Set the montage"
   ]
  },
  {
   "cell_type": "code",
   "execution_count": null,
   "id": "d8be8465",
   "metadata": {},
   "outputs": [],
   "source": [
    "montage = mne.channels.make_standard_montage(\"standard_1020\")\n",
    "set(example_raw.ch_names) - set(montage.ch_names), \\\n",
    "set(montage.ch_names) - set(example_raw.ch_names)\n",
    "example_raw = example_raw.set_montage(montage)\n",
    "example_raw.plot_sensors(show_names=True)"
   ]
  },
  {
   "cell_type": "markdown",
   "id": "4832e62e",
   "metadata": {},
   "source": [
    "#### Visualize a the time and frequency domain"
   ]
  },
  {
   "cell_type": "code",
   "execution_count": null,
   "id": "da79712a",
   "metadata": {},
   "outputs": [],
   "source": [
    "example_raw.plot()"
   ]
  },
  {
   "cell_type": "markdown",
   "id": "2116c336",
   "metadata": {},
   "source": [
    "#### Visualize the frequency domain"
   ]
  },
  {
   "cell_type": "code",
   "execution_count": null,
   "id": "96e66f18",
   "metadata": {},
   "outputs": [],
   "source": [
    "example_raw.compute_psd().plot()"
   ]
  },
  {
   "cell_type": "code",
   "execution_count": null,
   "id": "d595c2c1",
   "metadata": {},
   "outputs": [],
   "source": [
    "example_raw.compute_psd().plot_topomap()"
   ]
  },
  {
   "cell_type": "markdown",
   "id": "726b5a36",
   "metadata": {},
   "source": [
    "### Analyze all files with respect to age"
   ]
  },
  {
   "cell_type": "code",
   "execution_count": null,
   "id": "57ed6c08",
   "metadata": {},
   "outputs": [],
   "source": [
    "def get_subj_id(eeg_file: pathlib.Path):\n",
    "    return eeg_file.stem.split(\"_\")[-3]\n",
    "\n",
    "def get_age(df_subj, eeg_file: pathlib.Path):\n",
    "    subj_id = get_subj_id(eeg_file)\n",
    "    return df_subj[df_subj[\"Subject ID\"] == subj_id][\"Age(years)\"]\n",
    "    "
   ]
  },
  {
   "cell_type": "markdown",
   "id": "6b8e5395",
   "metadata": {},
   "source": [
    "#### Color PSDs by age"
   ]
  },
  {
   "cell_type": "code",
   "execution_count": null,
   "id": "4eee66e8",
   "metadata": {},
   "outputs": [],
   "source": [
    "# chs_pick = np.random.choice(example_raw.ch_names, replace=False, size=1)\n",
    "chs_pick = [ch for ch in example_raw.ch_names if not (ch==\"LE\" or ch==\"RE\")]\n",
    "\n",
    "c_scale = 1\n",
    "min_age = df_subj[\"Age(years)\"].min()\n",
    "max_age = df_subj[\"Age(years)\"].max()\n",
    "\n",
    "plt.figure(figsize=(8,8))\n",
    "plt.xlabel(\"Frequency\")\n",
    "plt.ylabel(\"Power Spectral Density (dB/Hz)\")\n",
    "np.random.shuffle(eeg_files_preprocessed)\n",
    "for f in eeg_files_preprocessed[:20]:\n",
    "    age = get_age(df_subj, f).values[0]\n",
    "    raw = mne.io.read_raw_brainvision(f, verbose=False, preload=True)\n",
    "    \n",
    "    for i, ch_pick in enumerate(chs_pick):\n",
    "        raw = raw.set_channel_types(channel_to_channel_type, verbose=False)\n",
    "        raw = raw.notch_filter(freqs=50, notch_widths=0.5)\n",
    "        raw = raw.filter(l_freq=1, h_freq=100)\n",
    "        raw_data = raw.get_data(ch_pick, verbose=False)[0]\n",
    "        \n",
    "        plt.subplot(8, 8, i+1)\n",
    "        plt.title(ch_pick, fontsize=8)\n",
    "        c_idx = c_scale*(age-min_age)/(max_age-min_age)\n",
    "        plt.psd(raw_data, color=mpl.colormaps[\"viridis\"](c_idx))\n",
    "        \n",
    "        plt.xlabel(\"\")\n",
    "        plt.ylabel(\"\")\n",
    "\n",
    "        if i % 8 != 0:\n",
    "            plt.yticks(np.arange(0, 1, 0.2), 5*[\"\"])\n",
    "        else:\n",
    "            plt.yticks(fontsize=6)\n",
    "\n",
    "        plt.grid(False)\n",
    "        \n",
    "# plt.colorbar()\n",
    "\n",
    "plt.tight_layout()\n",
    "plt.show()\n",
    "    "
   ]
  },
  {
   "cell_type": "code",
   "execution_count": null,
   "id": "12c0fc19",
   "metadata": {},
   "outputs": [],
   "source": [
    "psds_healthy = []\n",
    "ages_healthy = []\n",
    "psds_chronic_pain = []\n",
    "ages_chronic_pain = []\n",
    "for f in eeg_files_preprocessed:\n",
    "    age = get_age(df_subj, f).values[0]\n",
    "    raw = mne.io.read_raw_brainvision(f, verbose=False, preload=True)\n",
    "    raw = raw.set_channel_types(channel_to_channel_type, verbose=False)\n",
    "    raw = raw.notch_filter(freqs=50, notch_widths=0.5)\n",
    "    raw = raw.filter(l_freq=1, h_freq=100)\n",
    "\n",
    "    subj_data = df_subj[df_subj[\"Subject ID\"] == get_subj_id(f)]\n",
    "    is_healthy = subj_data[\"Pain duration(months)\"].isnull().item()\n",
    "    if is_healthy:\n",
    "        ages_healthy.append(age)\n",
    "        psds_healthy.append(np.log(raw.compute_psd().get_data()))\n",
    "    else:\n",
    "        ages_chronic_pain.append(age)\n",
    "        psds_chronic_pain.append(np.log(raw.compute_psd().get_data()))\n",
    "    \n",
    "psds_healthy = np.stack(psds_healthy)\n",
    "ages_healthy = np.array(ages_healthy)\n",
    "\n",
    "psds_chronic_pain = np.stack(psds_chronic_pain)\n",
    "ages_chronic_pain = np.array(ages_chronic_pain)"
   ]
  },
  {
   "cell_type": "markdown",
   "id": "84c37edf",
   "metadata": {},
   "source": [
    "#### Plot PSDs by patient status"
   ]
  },
  {
   "cell_type": "code",
   "execution_count": null,
   "id": "990063e8",
   "metadata": {
    "scrolled": true
   },
   "outputs": [],
   "source": [
    "# chs_pick = np.random.choice(example_raw.ch_names, replace=False, size=1)\n",
    "chs_pick = [ch for ch in example_raw.ch_names if not (ch==\"LE\" or ch==\"RE\")]\n",
    "\n",
    "c_scale = 1\n",
    "min_age = df_subj[\"Age(years)\"].min()\n",
    "max_age = df_subj[\"Age(years)\"].max()\n",
    "\n",
    "plt.figure(figsize=(8,10))\n",
    "plt.xlabel(\"Frequency\")\n",
    "plt.ylabel(\"Power Spectral Density (dB/Hz)\")\n",
    "np.random.shuffle(eeg_files_preprocessed)\n",
    "# for f in eeg_files_preprocessed[:20]:\n",
    "#     is_patient = ~df_subj[df_subj[\"Subject ID\"]== get_subj_id(f)].isnull()\n",
    "#     age = get_age(df_subj, f).values[0]\n",
    "#     raw = mne.io.read_raw_brainvision(f, verbose=False)\n",
    "    \n",
    "for i, ch_pick in enumerate(chs_pick):\n",
    "\n",
    "    psds_healthy_mean = psds_healthy[:, i, :].mean(0)\n",
    "    psds_healthy_std = psds_healthy[:, i, :].std(0)\n",
    "    psds_chronic_pain_mean = psds_chronic_pain[:, i, :].mean(0)\n",
    "    psds_chronic_pain_std = psds_chronic_pain[:, i, :].std(0)\n",
    "    \n",
    "    plt.subplot(8, 8, i+1)\n",
    "    plt.title(ch_pick, fontsize=8)\n",
    "    plt.plot(np.linspace(0, 300, 129), psds_healthy_mean, label=\"Healthy\", alpha=0.75)\n",
    "    plt.fill_between(\n",
    "        np.linspace(0, 300, 129), \n",
    "        psds_healthy_mean - psds_healthy_std, \n",
    "        psds_healthy_mean + psds_healthy_std, \n",
    "        alpha=0.2\n",
    "    )\n",
    "    plt.plot(np.linspace(0, 300, 129), psds_chronic_pain[:, i, :].mean(0), label=\"Patients\", alpha=0.75)\n",
    "    plt.fill_between(\n",
    "        np.linspace(0, 300, 129), \n",
    "        psds_chronic_pain_mean - psds_chronic_pain_std, \n",
    "        psds_chronic_pain_mean + psds_chronic_pain_std, \n",
    "        alpha=0.2\n",
    "    )\n",
    "    plt.xlabel(\"\")\n",
    "    plt.ylabel(\"\")\n",
    "\n",
    "    if i % 8 != 0:\n",
    "        plt.yticks(np.arange(0, 1, 0.2), 5*[\"\"])\n",
    "    else:\n",
    "        plt.yticks(fontsize=6)\n",
    "    \n",
    "    plt.xticks(np.arange(0, 300, 100), fontsize=6)\n",
    "    plt.ylim(-42,-25)\n",
    "    plt.grid(False)\n",
    "        \n",
    "plt.tight_layout()\n",
    "plt.legend(loc=(1.04, 0), fontsize=8)\n",
    "plt.show()\n",
    "    "
   ]
  },
  {
   "cell_type": "code",
   "execution_count": null,
   "id": "3e75a7ec",
   "metadata": {},
   "outputs": [],
   "source": [
    "from sklearn.ensemble import RandomForestRegressor\n",
    "from sklearn.preprocessing import StandardScaler\n",
    "from sklearn.model_selection import train_test_split"
   ]
  },
  {
   "cell_type": "code",
   "execution_count": null,
   "id": "5e84d83a",
   "metadata": {},
   "outputs": [],
   "source": [
    "ch_name_to_ch_pos = montage.get_positions()[\"ch_pos\"]\n",
    "\n",
    "pos = [ch_name_to_ch_pos[ch_name] for ch_name in example_raw.ch_names if channel_to_channel_type[ch_name]==\"eeg\"]\n",
    "pos = np.stack(pos)"
   ]
  },
  {
   "cell_type": "code",
   "execution_count": null,
   "id": "90e1da27",
   "metadata": {},
   "outputs": [],
   "source": [
    "# band_size = 20\n",
    "# band_sections = np.arange(band_size, 120, band_size)\n",
    "band_sections = [4, 8, 12, 30, 100]\n",
    "band_names = [\"Delta\", \"Theta\", \"Alpha\", \"Beta\", \"Gamma\"]\n",
    "# freq_bands = np.split(psds, band_sections, axis=-1)[:-1]\n",
    "\n",
    "fig, ax = plt.subplots(3, len(band_sections), figsize=(12,6))\n",
    "plt.suptitle(\"Feature Importances\\n\", fontsize=16)\n",
    "\n",
    "l_freq = 0\n",
    "for i in range(len(band_sections)):\n",
    "\n",
    "    h_freq = band_sections[i]\n",
    "    is_band = (raw.compute_psd().freqs > l_freq) * \\\n",
    "              (raw.compute_psd().freqs < h_freq)\n",
    "\n",
    "    X = np.concatenate([\n",
    "        psds_healthy[:, :, is_band].sum(-1),\n",
    "        psds_chronic_pain[:, :, is_band].sum(-1)\n",
    "    ], axis=0)\n",
    "    y = np.concatenate([\n",
    "        ages_healthy,\n",
    "        ages_chronic_pain\n",
    "    ], axis=0)\n",
    "   \n",
    "    X_train, X_test, y_train, y_test = train_test_split(\n",
    "        X, y, test_size=0.33, random_state=42)\n",
    "    scaler = StandardScaler()\n",
    "    X_train = scaler.fit_transform(X_train)\n",
    "    \n",
    "    rfg = RandomForestRegressor()\n",
    "    rfg.fit(X_train, y_train)\n",
    "    r_squared = rfg.score(scaler.transform(X_test), y_test)\n",
    "\n",
    "    ax[0,0].set_ylabel(\"All participants\\n\") if i == 0 else _\n",
    "    ax[0,i].set_xlabel(f\"R²={r_squared:.2f}, freq {l_freq}-{h_freq}Hz\")\n",
    "    ax[0,i].set_title(f\"{band_names[i]}\")\n",
    "\n",
    "    mne.viz.plot_topomap(rfg.feature_importances_, pos[:, :2], axes=ax[0,i], show=False)\n",
    "    l_freq = h_freq\n",
    "\n",
    "l_freq = 0\n",
    "for i in range(len(band_sections)):\n",
    "\n",
    "    h_freq = band_sections[i]\n",
    "    is_band = (raw.compute_psd().freqs > l_freq) * \\\n",
    "              (raw.compute_psd().freqs < h_freq)\n",
    "\n",
    "    X, y = psds_healthy[:, :, is_band].sum(-1), ages_healthy\n",
    "    X_train, X_test, y_train, y_test = train_test_split(\n",
    "        X, y, test_size=0.33, random_state=42)\n",
    "    scaler = StandardScaler()\n",
    "    X_train = scaler.fit_transform(X_train)\n",
    "    \n",
    "    rfg = RandomForestRegressor()\n",
    "    rfg.fit(X_train, y_train)\n",
    "    r_squared = rfg.score(scaler.transform(X_test), y_test)\n",
    "\n",
    "    ax[1,0].set_ylabel(\"Healthy controls\\n\") if i == 0 else _\n",
    "    ax[1,i].set_xlabel(f\"R²={r_squared:.2f}, freq {l_freq}-{h_freq}Hz\")\n",
    "    mne.viz.plot_topomap(rfg.feature_importances_, pos[:, :2], axes=ax[1,i], show=False)\n",
    "    l_freq = h_freq\n",
    "\n",
    "l_freq = 0\n",
    "for i in range(len(band_sections)):\n",
    "\n",
    "\n",
    "    h_freq = band_sections[i]\n",
    "    is_band = (raw.compute_psd().freqs > l_freq) * \\\n",
    "              (raw.compute_psd().freqs < h_freq)\n",
    "\n",
    "    X, y = psds_chronic_pain[:, :, is_band].sum(-1), ages_chronic_pain\n",
    "    X_train, X_test, y_train, y_test = train_test_split(\n",
    "        X, y, test_size=0.33, random_state=42)\n",
    "    scaler = StandardScaler()\n",
    "    X_train = scaler.fit_transform(X_train)\n",
    "    \n",
    "    rfg = RandomForestRegressor()\n",
    "    rfg.fit(X_train, y_train)\n",
    "    r_squared = rfg.score(scaler.transform(X_test), y_test)\n",
    "\n",
    "    ax[2,0].set_ylabel(\"Chronic Pain Patients\\n\") if i == 0 else _\n",
    "    ax[2,i].set_xlabel(f\"R²={r_squared:.2f}, freq {l_freq}-{h_freq}Hz\")\n",
    "    mne.viz.plot_topomap(rfg.feature_importances_, pos[:, :2], axes=ax[2,i], show=False)\n",
    "    l_freq = h_freq\n",
    "\n",
    "    \n",
    "plt.tight_layout()\n",
    "plt.show()"
   ]
  },
  {
   "cell_type": "code",
   "execution_count": null,
   "id": "44999319",
   "metadata": {
    "scrolled": false
   },
   "outputs": [],
   "source": [
    "band_size = 20\n",
    "band_sections = np.arange(band_size, 120, band_size)\n",
    "# freq_bands = np.split(psds, band_sections, axis=-1)[:-1]\n",
    "\n",
    "fig, ax = plt.subplots(len(band_sections), 2 , figsize=(6,15))\n",
    "plt.suptitle(\"Feature Importances\")\n",
    "\n",
    "l_freq = 0\n",
    "for i in range(len(band_sections)):\n",
    "\n",
    "\n",
    "    h_freq = band_sections[i]\n",
    "    is_band = (raw.compute_psd().freqs > l_freq) * \\\n",
    "              (raw.compute_psd().freqs < h_freq)\n",
    "\n",
    "    X, y = psds_healthy[:, :, is_band].sum(-1), ages_healthy\n",
    "    X_train, X_test, y_train, y_test = train_test_split(\n",
    "        X, y, test_size=0.33, random_state=42)\n",
    "    scaler = StandardScaler()\n",
    "    X_train = scaler.fit_transform(X_train)\n",
    "    \n",
    "    rfg = RandomForestRegressor()\n",
    "    rfg.fit(X_train, y_train)\n",
    "    r_squared = rfg.score(scaler.transform(X_test), y_test)\n",
    "\n",
    "    ax[0,0].set_title(\"Healthy controls\") if i == 0 else _\n",
    "    ax[i,0].set_xlabel(f\"R² = {r_squared:.2f}, freq {l_freq}-{h_freq} Hz\")\n",
    "    mne.viz.plot_topomap(rfg.feature_importances_, pos[:, :2], axes=ax[i,0], show=False)\n",
    "    l_freq = h_freq\n",
    "\n",
    "l_freq = 0\n",
    "for i in range(len(band_sections)):\n",
    "\n",
    "\n",
    "    h_freq = band_sections[i]\n",
    "    is_band = (raw.compute_psd().freqs > l_freq) * \\\n",
    "              (raw.compute_psd().freqs < h_freq)\n",
    "\n",
    "    X, y = psds_chronic_pain[:, :, is_band].sum(-1), ages_chronic_pain\n",
    "    X_train, X_test, y_train, y_test = train_test_split(\n",
    "        X, y, test_size=0.33, random_state=42)\n",
    "    scaler = StandardScaler()\n",
    "    X_train = scaler.fit_transform(X_train)\n",
    "    \n",
    "    rfg = RandomForestRegressor()\n",
    "    rfg.fit(X_train, y_train)\n",
    "    r_squared = rfg.score(scaler.transform(X_test), y_test)\n",
    "\n",
    "    ax[0,1].set_title(\"Chronic Pain Patients\") if i == 0 else _\n",
    "    ax[i,1].set_xlabel(f\" R² = {r_squared:.2f}, freq {l_freq}-{h_freq} Hz\")\n",
    "    mne.viz.plot_topomap(rfg.feature_importances_, pos[:, :2], axes=ax[i,1], show=False)\n",
    "    l_freq = h_freq\n",
    "\n",
    "    \n",
    "plt.tight_layout()\n",
    "plt.show()"
   ]
  },
  {
   "cell_type": "code",
   "execution_count": null,
   "id": "e4e811ea",
   "metadata": {},
   "outputs": [],
   "source": []
  },
  {
   "cell_type": "code",
   "execution_count": null,
   "id": "9afdabe9",
   "metadata": {},
   "outputs": [],
   "source": []
  }
 ],
 "metadata": {
  "kernelspec": {
   "display_name": "Python 3 (ipykernel)",
   "language": "python",
   "name": "python3"
  },
  "language_info": {
   "codemirror_mode": {
    "name": "ipython",
    "version": 3
   },
   "file_extension": ".py",
   "mimetype": "text/x-python",
   "name": "python",
   "nbconvert_exporter": "python",
   "pygments_lexer": "ipython3",
   "version": "3.10.9"
  }
 },
 "nbformat": 4,
 "nbformat_minor": 5
}
